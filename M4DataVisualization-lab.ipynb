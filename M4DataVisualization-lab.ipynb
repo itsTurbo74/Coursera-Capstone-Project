{
 "cells":[
  {
   "cell_type":"markdown",
   "source":[
    "<p style=\"text-align:center\">\n",
    "    <a href=\"https:\/\/skills.network\/?utm_medium=Exinfluencer&utm_source=Exinfluencer&utm_content=000026UJ&utm_term=10006555&utm_id=NA-SkillsNetwork-Channel-SkillsNetworkCoursesIBMDA0321ENSkillsNetwork21426264-2022-01-01\" target=\"_blank\">\n",
    "    <img src=\"https:\/\/cf-courses-data.s3.us.cloud-object-storage.appdomain.cloud\/assets\/logos\/SN_web_lightmode.png\" width=\"200\" alt=\"Skills Network Logo\"  \/>\n",
    "    <\/a>\n",
    "<\/p>"
   ],
   "attachments":{
    
   },
   "metadata":{
    "datalore":{
     "node_id":"5Bfyn13AEzOu0uOWqaOgVH",
     "type":"MD",
     "hide_input_from_viewers":false,
     "hide_output_from_viewers":false,
     "report_properties":{
      "rowId":"bDml1P7g0Sg5x0l1Zo0D5R"
     }
    }
   }
  },
  {
   "cell_type":"markdown",
   "source":[
    "# **Data Visualization Lab**"
   ],
   "attachments":{
    
   },
   "metadata":{
    "datalore":{
     "node_id":"uar0yfCmVP2QHNui8Scnfu",
     "type":"MD",
     "hide_input_from_viewers":false,
     "hide_output_from_viewers":false,
     "report_properties":{
      "rowId":"I4DW6rVMTfVgN7J4kMwzLv"
     }
    }
   }
  },
  {
   "cell_type":"markdown",
   "source":[
    "Estimated time needed: **45 to 60** minutes"
   ],
   "attachments":{
    
   },
   "metadata":{
    "datalore":{
     "node_id":"Y5WHzMVvxqkdPAvnjVESje",
     "type":"MD",
     "hide_input_from_viewers":false,
     "hide_output_from_viewers":false,
     "report_properties":{
      "rowId":"hrL2AVu3pEX1N3Ry4NUGTf"
     }
    }
   }
  },
  {
   "cell_type":"markdown",
   "source":[
    "In this assignment you will be focusing on the visualization of data.\n",
    "\n",
    "The data set will be presented to you in the form of a RDBMS.\n",
    "\n",
    "You will have to use SQL queries to extract the data."
   ],
   "attachments":{
    
   },
   "metadata":{
    "datalore":{
     "node_id":"hubTSAAePDbnleo9c0jfku",
     "type":"MD",
     "hide_input_from_viewers":false,
     "hide_output_from_viewers":false,
     "report_properties":{
      "rowId":"4vNPSGGiq8GhnrxlERe71K"
     }
    }
   }
  },
  {
   "cell_type":"markdown",
   "source":[
    "## Objectives"
   ],
   "attachments":{
    
   },
   "metadata":{
    "datalore":{
     "node_id":"FP7KKEzjXXbVpCw259ZIdJ",
     "type":"MD",
     "hide_input_from_viewers":false,
     "hide_output_from_viewers":false,
     "report_properties":{
      "rowId":"H6zR4QJj9lKpn02iBRIutC"
     }
    }
   }
  },
  {
   "cell_type":"markdown",
   "source":[
    "In this lab you will perform the following:"
   ],
   "attachments":{
    
   },
   "metadata":{
    "datalore":{
     "node_id":"7cwDftg7rogdzl2YVcug7t",
     "type":"MD",
     "hide_input_from_viewers":false,
     "hide_output_from_viewers":false,
     "report_properties":{
      "rowId":"Dd59p6QLlMJSw5cXWhWBW8"
     }
    }
   }
  },
  {
   "cell_type":"markdown",
   "source":[
    "*   Visualize the distribution of data.\n",
    "\n",
    "*   Visualize the relationship between two features.\n",
    "\n",
    "*   Visualize composition of data.\n",
    "\n",
    "*   Visualize comparison of data."
   ],
   "attachments":{
    
   },
   "metadata":{
    "datalore":{
     "node_id":"6syZ1P7PqdHQ914I5301Hb",
     "type":"MD",
     "hide_input_from_viewers":false,
     "hide_output_from_viewers":false,
     "report_properties":{
      "rowId":"MYcO3v0CdYl0Az5jRec5Ct"
     }
    }
   }
  },
  {
   "cell_type":"markdown",
   "source":[
    "<hr>"
   ],
   "attachments":{
    
   },
   "metadata":{
    "datalore":{
     "node_id":"VmZ7orzr0BntiWzNijnekF",
     "type":"MD",
     "hide_input_from_viewers":false,
     "hide_output_from_viewers":false,
     "report_properties":{
      "rowId":"kiWDm36nBhMpVcoVextlPw"
     }
    }
   }
  },
  {
   "cell_type":"markdown",
   "source":[
    "## Demo: How to work with database"
   ],
   "attachments":{
    
   },
   "metadata":{
    "datalore":{
     "node_id":"ubhDsjlgqw9n8338loHquO",
     "type":"MD",
     "hide_input_from_viewers":false,
     "hide_output_from_viewers":false,
     "report_properties":{
      "rowId":"lzoXKabMFx7RLDmhVrhAfF"
     }
    }
   }
  },
  {
   "cell_type":"markdown",
   "source":[
    "Download database file."
   ],
   "attachments":{
    
   },
   "metadata":{
    "datalore":{
     "node_id":"nJBYVmXHDN2utTcCxcuavV",
     "type":"MD",
     "hide_input_from_viewers":false,
     "hide_output_from_viewers":false,
     "report_properties":{
      "rowId":"T1C7li6DHNv0MFakxTmzfU"
     }
    }
   }
  },
  {
   "cell_type":"code",
   "source":[
    "!wget https:\/\/cf-courses-data.s3.us.cloud-object-storage.appdomain.cloud\/IBM-DA0321EN-SkillsNetwork\/LargeData\/m4_survey_data.sqlite"
   ],
   "execution_count":1,
   "outputs":[
    {
     "name":"stdout",
     "text":[
      "--2023-04-08 06:46:11--  https:\/\/cf-courses-data.s3.us.cloud-object-storage.appdomain.cloud\/IBM-DA0321EN-SkillsNetwork\/LargeData\/m4_survey_data.sqlite\r\n",
      "Resolving cf-courses-data.s3.us.cloud-object-storage.appdomain.cloud (cf-courses-data.s3.us.cloud-object-storage.appdomain.cloud)... 169.63.118.104\r\n",
      "Connecting to cf-courses-data.s3.us.cloud-object-storage.appdomain.cloud (cf-courses-data.s3.us.cloud-object-storage.appdomain.cloud)|169.63.118.104|:443... connected.\r\n",
      "HTTP request sent, awaiting response... 200 OK\r\n",
      "Length: 36679680 (35M) [application\/octet-stream]\r\n",
      "Saving to: ‘m4_survey_data.sqlite.2’\r\n",
      "\r\n",
      "\rm4_survey_data.sqli   0%[                    ]       0  --.-KB\/s               \rm4_survey_data.sqli   0%[                    ]  72.00K   282KB\/s               \rm4_survey_data.sqli   0%[                    ] 296.00K   598KB\/s               \rm4_survey_data.sqli   3%[                    ]   1.21M  1.61MB\/s               \rm4_survey_data.sqli   7%[>                   ]   2.70M  2.68MB\/s               \rm4_survey_data.sqli  12%[=>                  ]   4.34M  3.44MB\/s               \rm4_survey_data.sqli  16%[==>                 ]   5.72M  3.81MB\/s               \rm4_survey_data.sqli  19%[==>                 ]   6.79M  3.99MB\/s               \rm4_survey_data.sqli  22%[===>                ]   7.73M  3.98MB\/s               \rm4_survey_data.sqli  25%[====>               ]   8.87M  4.04MB\/s               \rm4_survey_data.sqli  28%[====>               ]  10.03M  4.12MB\/s               \rm4_survey_data.sqli  31%[=====>              ]  10.93M  4.15MB\/s               \rm4_survey_data.sqli  34%[=====>              ]  12.01M  4.20MB\/s               \rm4_survey_data.sqli  36%[======>             ]  12.93M  4.22MB\/s    eta 5s     \rm4_survey_data.sqli  40%[=======>            ]  14.04M  4.25MB\/s    eta 5s     \rm4_survey_data.sqli  43%[=======>            ]  15.27M  4.50MB\/s    eta 5s     \rm4_survey_data.sqli  47%[========>           ]  16.49M  4.76MB\/s    eta 5s     \rm4_survey_data.sqli  49%[========>           ]  17.46M  4.91MB\/s    eta 5s     \rm4_survey_data.sqli  53%[=========>          ]  18.57M  4.97MB\/s    eta 4s     \rm4_survey_data.sqli  55%[==========>         ]  19.54M  4.95MB\/s    eta 4s     \rm4_survey_data.sqli  59%[==========>         ]  20.68M  4.92MB\/s    eta 4s     \rm4_survey_data.sqli  61%[===========>        ]  21.58M  4.82MB\/s    eta 4s     \rm4_survey_data.sqli  65%[============>       ]  22.79M  4.81MB\/s    eta 4s     \rm4_survey_data.sqli  67%[============>       ]  23.73M  4.89MB\/s    eta 2s     \rm4_survey_data.sqli  71%[=============>      ]  24.98M  4.89MB\/s    eta 2s     \rm4_survey_data.sqli  74%[=============>      ]  25.92M  4.90MB\/s    eta 2s     \rm4_survey_data.sqli  77%[==============>     ]  27.14M  4.97MB\/s    eta 2s     \rm4_survey_data.sqli  80%[===============>    ]  28.10M  4.97MB\/s    eta 2s     \rm4_survey_data.sqli  83%[===============>    ]  29.30M  5.01MB\/s    eta 1s     \rm4_survey_data.sqli  86%[================>   ]  30.25M  5.00MB\/s    eta 1s     \rm4_survey_data.sqli  89%[================>   ]  31.35M  5.02MB\/s    eta 1s     \rm4_survey_data.sqli  92%[=================>  ]  32.23M  4.98MB\/s    eta 1s     \rm4_survey_data.sqli  95%[==================> ]  33.35M  5.00MB\/s    eta 1s     \rm4_survey_data.sqli  98%[==================> ]  34.30M  4.97MB\/s    eta 0s     \rm4_survey_data.sqli 100%[===================>]  34.98M  5.04MB\/s    in 7.5s    \r\n",
      "\r\n",
      "2023-04-08 06:46:19 (4.68 MB\/s) - ‘m4_survey_data.sqlite.2’ saved [36679680\/36679680]\r\n",
      "\r\n"
     ],
     "output_type":"stream"
    }
   ],
   "metadata":{
    "datalore":{
     "node_id":"MKtj0r8Ej6gqxNQWO2YeTo",
     "type":"CODE",
     "hide_input_from_viewers":false,
     "hide_output_from_viewers":false,
     "report_properties":{
      "rowId":"gmlxQ3lcqFwFMwWiyKULxa"
     }
    }
   }
  },
  {
   "cell_type":"markdown",
   "source":[
    "Connect to the database."
   ],
   "attachments":{
    
   },
   "metadata":{
    "datalore":{
     "node_id":"tb9f0uRcsamARGK0PfSMDH",
     "type":"MD",
     "hide_input_from_viewers":false,
     "hide_output_from_viewers":false,
     "report_properties":{
      "rowId":"LsNwRXYJD79ekJn1GmGdiO"
     }
    }
   }
  },
  {
   "cell_type":"code",
   "source":[
    "import sqlite3\n",
    "conn = sqlite3.connect(\"m4_survey_data.sqlite\") # open a database connection"
   ],
   "execution_count":3,
   "outputs":[
    
   ],
   "metadata":{
    "datalore":{
     "node_id":"nBnJMx5GDPbAvP185alJ1G",
     "type":"CODE",
     "hide_input_from_viewers":false,
     "hide_output_from_viewers":false,
     "report_properties":{
      "rowId":"HVPaoGZDDEpnSGZXwLSuFP"
     }
    }
   }
  },
  {
   "cell_type":"markdown",
   "source":[
    "Import pandas module."
   ],
   "attachments":{
    
   },
   "metadata":{
    "datalore":{
     "node_id":"Hc41AVGCDT7k1rIgblEfw8",
     "type":"MD",
     "hide_input_from_viewers":false,
     "hide_output_from_viewers":false,
     "report_properties":{
      "rowId":"09RRWyU4qmONWboAd9bqpB"
     }
    }
   }
  },
  {
   "cell_type":"code",
   "source":[
    "import pandas as pd"
   ],
   "execution_count":4,
   "outputs":[
    
   ],
   "metadata":{
    "datalore":{
     "node_id":"UYxfgPYWH0DCpCySMJJk26",
     "type":"CODE",
     "hide_input_from_viewers":false,
     "hide_output_from_viewers":false,
     "report_properties":{
      "rowId":"By77tXXaf9O7KTuAhnugsj"
     }
    }
   }
  },
  {
   "cell_type":"markdown",
   "source":[
    "## Demo: How to run an sql query"
   ],
   "attachments":{
    
   },
   "metadata":{
    "datalore":{
     "node_id":"U8BB0tGLEzAI7E1VXQFqJF",
     "type":"MD",
     "hide_input_from_viewers":false,
     "hide_output_from_viewers":false,
     "report_properties":{
      "rowId":"buGbF4SVanBzngJ20wEvJA"
     }
    }
   }
  },
  {
   "cell_type":"code",
   "source":[
    "# print how many rows are there in the table named 'master'\n",
    "QUERY = \"\"\"\n",
    "SELECT COUNT(*)\n",
    "FROM master\n",
    "\"\"\"\n",
    "\n",
    "# the read_sql_query runs the sql query and returns the data as a dataframe\n",
    "df = pd.read_sql_query(QUERY,conn)\n",
    "df.head()"
   ],
   "execution_count":5,
   "outputs":[
    {
     "data":{
      "text\/html":[
       "<div>\n",
       "<style scoped>\n",
       "    .dataframe tbody tr th:only-of-type {\n",
       "        vertical-align: middle;\n",
       "    }\n",
       "\n",
       "    .dataframe tbody tr th {\n",
       "        vertical-align: top;\n",
       "    }\n",
       "\n",
       "    .dataframe thead th {\n",
       "        text-align: right;\n",
       "    }\n",
       "<\/style>\n",
       "<table border=\"1\" class=\"dataframe\">\n",
       "  <thead>\n",
       "    <tr style=\"text-align: right;\">\n",
       "      <th><\/th>\n",
       "      <th>COUNT(*)<\/th>\n",
       "    <\/tr>\n",
       "  <\/thead>\n",
       "  <tbody>\n",
       "    <tr>\n",
       "      <th>0<\/th>\n",
       "      <td>11398<\/td>\n",
       "    <\/tr>\n",
       "  <\/tbody>\n",
       "<\/table>\n",
       "<\/div>"
      ]
     },
     "metadata":{
      
     },
     "output_type":"display_data"
    }
   ],
   "metadata":{
    "datalore":{
     "node_id":"3O5YQkAwiCButZ9gBRpCiL",
     "type":"CODE",
     "hide_input_from_viewers":false,
     "hide_output_from_viewers":false,
     "report_properties":{
      "rowId":"saSqC7zDmDvbwLoTS9bCp5"
     }
    }
   }
  },
  {
   "cell_type":"markdown",
   "source":[
    "## Demo: How to list all tables"
   ],
   "attachments":{
    
   },
   "metadata":{
    "datalore":{
     "node_id":"mO6dwETSSzQD0NvhFALkoa",
     "type":"MD",
     "hide_input_from_viewers":false,
     "hide_output_from_viewers":false,
     "report_properties":{
      "rowId":"bd9pZ2s66dicQdwBZkKupO"
     }
    }
   }
  },
  {
   "cell_type":"code",
   "source":[
    
   ],
   "execution_count":null,
   "outputs":[
    
   ],
   "metadata":{
    "datalore":{
     "node_id":"hXNZEu9j2lWCnJksZu9E7y",
     "type":"CODE",
     "hide_input_from_viewers":false,
     "hide_output_from_viewers":false,
     "report_properties":{
      "rowId":"cTWmcPGcjvf5xnfTPQbIbR"
     }
    }
   }
  },
  {
   "cell_type":"code",
   "source":[
    "# print all the tables names in the database\n",
    "QUERY = \"\"\"\n",
    "SELECT name as Table_Name FROM\n",
    "sqlite_master WHERE\n",
    "type = 'table'\n",
    "\"\"\"\n",
    "# the read_sql_query runs the sql query and returns the data as a dataframe\n",
    "pd.read_sql_query(QUERY,conn)"
   ],
   "execution_count":6,
   "outputs":[
    {
     "data":{
      "text\/html":[
       "<div>\n",
       "<style scoped>\n",
       "    .dataframe tbody tr th:only-of-type {\n",
       "        vertical-align: middle;\n",
       "    }\n",
       "\n",
       "    .dataframe tbody tr th {\n",
       "        vertical-align: top;\n",
       "    }\n",
       "\n",
       "    .dataframe thead th {\n",
       "        text-align: right;\n",
       "    }\n",
       "<\/style>\n",
       "<table border=\"1\" class=\"dataframe\">\n",
       "  <thead>\n",
       "    <tr style=\"text-align: right;\">\n",
       "      <th><\/th>\n",
       "      <th>Table_Name<\/th>\n",
       "    <\/tr>\n",
       "  <\/thead>\n",
       "  <tbody>\n",
       "    <tr>\n",
       "      <th>0<\/th>\n",
       "      <td>EduOther<\/td>\n",
       "    <\/tr>\n",
       "    <tr>\n",
       "      <th>1<\/th>\n",
       "      <td>DevType<\/td>\n",
       "    <\/tr>\n",
       "    <tr>\n",
       "      <th>2<\/th>\n",
       "      <td>LastInt<\/td>\n",
       "    <\/tr>\n",
       "    <tr>\n",
       "      <th>3<\/th>\n",
       "      <td>JobFactors<\/td>\n",
       "    <\/tr>\n",
       "    <tr>\n",
       "      <th>4<\/th>\n",
       "      <td>WorkPlan<\/td>\n",
       "    <\/tr>\n",
       "    <tr>\n",
       "      <th>5<\/th>\n",
       "      <td>WorkChallenge<\/td>\n",
       "    <\/tr>\n",
       "    <tr>\n",
       "      <th>6<\/th>\n",
       "      <td>LanguageWorkedWith<\/td>\n",
       "    <\/tr>\n",
       "    <tr>\n",
       "      <th>7<\/th>\n",
       "      <td>LanguageDesireNextYear<\/td>\n",
       "    <\/tr>\n",
       "    <tr>\n",
       "      <th>8<\/th>\n",
       "      <td>DatabaseWorkedWith<\/td>\n",
       "    <\/tr>\n",
       "    <tr>\n",
       "      <th>9<\/th>\n",
       "      <td>DatabaseDesireNextYear<\/td>\n",
       "    <\/tr>\n",
       "    <tr>\n",
       "      <th>10<\/th>\n",
       "      <td>PlatformWorkedWith<\/td>\n",
       "    <\/tr>\n",
       "    <tr>\n",
       "      <th>11<\/th>\n",
       "      <td>PlatformDesireNextYear<\/td>\n",
       "    <\/tr>\n",
       "    <tr>\n",
       "      <th>12<\/th>\n",
       "      <td>WebFrameWorkedWith<\/td>\n",
       "    <\/tr>\n",
       "    <tr>\n",
       "      <th>13<\/th>\n",
       "      <td>WebFrameDesireNextYear<\/td>\n",
       "    <\/tr>\n",
       "    <tr>\n",
       "      <th>14<\/th>\n",
       "      <td>MiscTechWorkedWith<\/td>\n",
       "    <\/tr>\n",
       "    <tr>\n",
       "      <th>15<\/th>\n",
       "      <td>MiscTechDesireNextYear<\/td>\n",
       "    <\/tr>\n",
       "    <tr>\n",
       "      <th>16<\/th>\n",
       "      <td>DevEnviron<\/td>\n",
       "    <\/tr>\n",
       "    <tr>\n",
       "      <th>17<\/th>\n",
       "      <td>Containers<\/td>\n",
       "    <\/tr>\n",
       "    <tr>\n",
       "      <th>18<\/th>\n",
       "      <td>SOVisitTo<\/td>\n",
       "    <\/tr>\n",
       "    <tr>\n",
       "      <th>19<\/th>\n",
       "      <td>SONewContent<\/td>\n",
       "    <\/tr>\n",
       "    <tr>\n",
       "      <th>20<\/th>\n",
       "      <td>Gender<\/td>\n",
       "    <\/tr>\n",
       "    <tr>\n",
       "      <th>21<\/th>\n",
       "      <td>Sexuality<\/td>\n",
       "    <\/tr>\n",
       "    <tr>\n",
       "      <th>22<\/th>\n",
       "      <td>Ethnicity<\/td>\n",
       "    <\/tr>\n",
       "    <tr>\n",
       "      <th>23<\/th>\n",
       "      <td>master<\/td>\n",
       "    <\/tr>\n",
       "  <\/tbody>\n",
       "<\/table>\n",
       "<\/div>"
      ]
     },
     "metadata":{
      
     },
     "output_type":"display_data"
    }
   ],
   "metadata":{
    "datalore":{
     "node_id":"u7W1D4avvDPcWck00k5tXF",
     "type":"CODE",
     "hide_input_from_viewers":true,
     "hide_output_from_viewers":true
    }
   }
  },
  {
   "cell_type":"markdown",
   "source":[
    "## Demo: How to run a group by query"
   ],
   "attachments":{
    
   },
   "metadata":{
    "datalore":{
     "node_id":"OMBVsbNSw79FigqnhKXL7U",
     "type":"MD",
     "hide_input_from_viewers":false,
     "hide_output_from_viewers":false,
     "report_properties":{
      "rowId":"KfJw6LBnGo3rBnLIr5fJh2"
     }
    }
   }
  },
  {
   "cell_type":"code",
   "source":[
    "QUERY = \"\"\"\n",
    "SELECT Age,COUNT(*) as count\n",
    "FROM master\n",
    "group by age\n",
    "order by age\n",
    "\"\"\"\n",
    "pd.read_sql_query(QUERY,conn)"
   ],
   "execution_count":7,
   "outputs":[
    {
     "data":{
      "text\/html":[
       "<div>\n",
       "<style scoped>\n",
       "    .dataframe tbody tr th:only-of-type {\n",
       "        vertical-align: middle;\n",
       "    }\n",
       "\n",
       "    .dataframe tbody tr th {\n",
       "        vertical-align: top;\n",
       "    }\n",
       "\n",
       "    .dataframe thead th {\n",
       "        text-align: right;\n",
       "    }\n",
       "<\/style>\n",
       "<table border=\"1\" class=\"dataframe\">\n",
       "  <thead>\n",
       "    <tr style=\"text-align: right;\">\n",
       "      <th><\/th>\n",
       "      <th>Age<\/th>\n",
       "      <th>count<\/th>\n",
       "    <\/tr>\n",
       "  <\/thead>\n",
       "  <tbody>\n",
       "    <tr>\n",
       "      <th>0<\/th>\n",
       "      <td>NaN<\/td>\n",
       "      <td>287<\/td>\n",
       "    <\/tr>\n",
       "    <tr>\n",
       "      <th>1<\/th>\n",
       "      <td>16.0<\/td>\n",
       "      <td>3<\/td>\n",
       "    <\/tr>\n",
       "    <tr>\n",
       "      <th>2<\/th>\n",
       "      <td>17.0<\/td>\n",
       "      <td>6<\/td>\n",
       "    <\/tr>\n",
       "    <tr>\n",
       "      <th>3<\/th>\n",
       "      <td>18.0<\/td>\n",
       "      <td>29<\/td>\n",
       "    <\/tr>\n",
       "    <tr>\n",
       "      <th>4<\/th>\n",
       "      <td>19.0<\/td>\n",
       "      <td>78<\/td>\n",
       "    <\/tr>\n",
       "    <tr>\n",
       "      <th>5<\/th>\n",
       "      <td>20.0<\/td>\n",
       "      <td>109<\/td>\n",
       "    <\/tr>\n",
       "    <tr>\n",
       "      <th>6<\/th>\n",
       "      <td>21.0<\/td>\n",
       "      <td>203<\/td>\n",
       "    <\/tr>\n",
       "    <tr>\n",
       "      <th>7<\/th>\n",
       "      <td>22.0<\/td>\n",
       "      <td>406<\/td>\n",
       "    <\/tr>\n",
       "    <tr>\n",
       "      <th>8<\/th>\n",
       "      <td>23.0<\/td>\n",
       "      <td>581<\/td>\n",
       "    <\/tr>\n",
       "    <tr>\n",
       "      <th>9<\/th>\n",
       "      <td>24.0<\/td>\n",
       "      <td>679<\/td>\n",
       "    <\/tr>\n",
       "    <tr>\n",
       "      <th>10<\/th>\n",
       "      <td>25.0<\/td>\n",
       "      <td>738<\/td>\n",
       "    <\/tr>\n",
       "    <tr>\n",
       "      <th>11<\/th>\n",
       "      <td>26.0<\/td>\n",
       "      <td>720<\/td>\n",
       "    <\/tr>\n",
       "    <tr>\n",
       "      <th>12<\/th>\n",
       "      <td>27.0<\/td>\n",
       "      <td>724<\/td>\n",
       "    <\/tr>\n",
       "    <tr>\n",
       "      <th>13<\/th>\n",
       "      <td>28.0<\/td>\n",
       "      <td>787<\/td>\n",
       "    <\/tr>\n",
       "    <tr>\n",
       "      <th>14<\/th>\n",
       "      <td>29.0<\/td>\n",
       "      <td>697<\/td>\n",
       "    <\/tr>\n",
       "    <tr>\n",
       "      <th>15<\/th>\n",
       "      <td>30.0<\/td>\n",
       "      <td>651<\/td>\n",
       "    <\/tr>\n",
       "    <tr>\n",
       "      <th>16<\/th>\n",
       "      <td>31.0<\/td>\n",
       "      <td>531<\/td>\n",
       "    <\/tr>\n",
       "    <tr>\n",
       "      <th>17<\/th>\n",
       "      <td>32.0<\/td>\n",
       "      <td>489<\/td>\n",
       "    <\/tr>\n",
       "    <tr>\n",
       "      <th>18<\/th>\n",
       "      <td>33.0<\/td>\n",
       "      <td>483<\/td>\n",
       "    <\/tr>\n",
       "    <tr>\n",
       "      <th>19<\/th>\n",
       "      <td>34.0<\/td>\n",
       "      <td>395<\/td>\n",
       "    <\/tr>\n",
       "    <tr>\n",
       "      <th>20<\/th>\n",
       "      <td>35.0<\/td>\n",
       "      <td>393<\/td>\n",
       "    <\/tr>\n",
       "    <tr>\n",
       "      <th>21<\/th>\n",
       "      <td>36.0<\/td>\n",
       "      <td>308<\/td>\n",
       "    <\/tr>\n",
       "    <tr>\n",
       "      <th>22<\/th>\n",
       "      <td>37.0<\/td>\n",
       "      <td>280<\/td>\n",
       "    <\/tr>\n",
       "    <tr>\n",
       "      <th>23<\/th>\n",
       "      <td>38.0<\/td>\n",
       "      <td>279<\/td>\n",
       "    <\/tr>\n",
       "    <tr>\n",
       "      <th>24<\/th>\n",
       "      <td>39.0<\/td>\n",
       "      <td>232<\/td>\n",
       "    <\/tr>\n",
       "    <tr>\n",
       "      <th>25<\/th>\n",
       "      <td>40.0<\/td>\n",
       "      <td>187<\/td>\n",
       "    <\/tr>\n",
       "    <tr>\n",
       "      <th>26<\/th>\n",
       "      <td>41.0<\/td>\n",
       "      <td>136<\/td>\n",
       "    <\/tr>\n",
       "    <tr>\n",
       "      <th>27<\/th>\n",
       "      <td>42.0<\/td>\n",
       "      <td>162<\/td>\n",
       "    <\/tr>\n",
       "    <tr>\n",
       "      <th>28<\/th>\n",
       "      <td>43.0<\/td>\n",
       "      <td>100<\/td>\n",
       "    <\/tr>\n",
       "    <tr>\n",
       "      <th>29<\/th>\n",
       "      <td>44.0<\/td>\n",
       "      <td>95<\/td>\n",
       "    <\/tr>\n",
       "    <tr>\n",
       "      <th>30<\/th>\n",
       "      <td>45.0<\/td>\n",
       "      <td>85<\/td>\n",
       "    <\/tr>\n",
       "    <tr>\n",
       "      <th>31<\/th>\n",
       "      <td>46.0<\/td>\n",
       "      <td>66<\/td>\n",
       "    <\/tr>\n",
       "    <tr>\n",
       "      <th>32<\/th>\n",
       "      <td>47.0<\/td>\n",
       "      <td>68<\/td>\n",
       "    <\/tr>\n",
       "    <tr>\n",
       "      <th>33<\/th>\n",
       "      <td>48.0<\/td>\n",
       "      <td>64<\/td>\n",
       "    <\/tr>\n",
       "    <tr>\n",
       "      <th>34<\/th>\n",
       "      <td>49.0<\/td>\n",
       "      <td>66<\/td>\n",
       "    <\/tr>\n",
       "    <tr>\n",
       "      <th>35<\/th>\n",
       "      <td>50.0<\/td>\n",
       "      <td>57<\/td>\n",
       "    <\/tr>\n",
       "    <tr>\n",
       "      <th>36<\/th>\n",
       "      <td>51.0<\/td>\n",
       "      <td>29<\/td>\n",
       "    <\/tr>\n",
       "    <tr>\n",
       "      <th>37<\/th>\n",
       "      <td>52.0<\/td>\n",
       "      <td>41<\/td>\n",
       "    <\/tr>\n",
       "    <tr>\n",
       "      <th>38<\/th>\n",
       "      <td>53.0<\/td>\n",
       "      <td>32<\/td>\n",
       "    <\/tr>\n",
       "    <tr>\n",
       "      <th>39<\/th>\n",
       "      <td>54.0<\/td>\n",
       "      <td>26<\/td>\n",
       "    <\/tr>\n",
       "    <tr>\n",
       "      <th>40<\/th>\n",
       "      <td>55.0<\/td>\n",
       "      <td>13<\/td>\n",
       "    <\/tr>\n",
       "    <tr>\n",
       "      <th>41<\/th>\n",
       "      <td>56.0<\/td>\n",
       "      <td>16<\/td>\n",
       "    <\/tr>\n",
       "    <tr>\n",
       "      <th>42<\/th>\n",
       "      <td>57.0<\/td>\n",
       "      <td>11<\/td>\n",
       "    <\/tr>\n",
       "    <tr>\n",
       "      <th>43<\/th>\n",
       "      <td>58.0<\/td>\n",
       "      <td>12<\/td>\n",
       "    <\/tr>\n",
       "    <tr>\n",
       "      <th>44<\/th>\n",
       "      <td>59.0<\/td>\n",
       "      <td>11<\/td>\n",
       "    <\/tr>\n",
       "    <tr>\n",
       "      <th>45<\/th>\n",
       "      <td>60.0<\/td>\n",
       "      <td>2<\/td>\n",
       "    <\/tr>\n",
       "    <tr>\n",
       "      <th>46<\/th>\n",
       "      <td>61.0<\/td>\n",
       "      <td>10<\/td>\n",
       "    <\/tr>\n",
       "    <tr>\n",
       "      <th>47<\/th>\n",
       "      <td>62.0<\/td>\n",
       "      <td>5<\/td>\n",
       "    <\/tr>\n",
       "    <tr>\n",
       "      <th>48<\/th>\n",
       "      <td>63.0<\/td>\n",
       "      <td>7<\/td>\n",
       "    <\/tr>\n",
       "    <tr>\n",
       "      <th>49<\/th>\n",
       "      <td>65.0<\/td>\n",
       "      <td>2<\/td>\n",
       "    <\/tr>\n",
       "    <tr>\n",
       "      <th>50<\/th>\n",
       "      <td>66.0<\/td>\n",
       "      <td>1<\/td>\n",
       "    <\/tr>\n",
       "    <tr>\n",
       "      <th>51<\/th>\n",
       "      <td>67.0<\/td>\n",
       "      <td>1<\/td>\n",
       "    <\/tr>\n",
       "    <tr>\n",
       "      <th>52<\/th>\n",
       "      <td>69.0<\/td>\n",
       "      <td>1<\/td>\n",
       "    <\/tr>\n",
       "    <tr>\n",
       "      <th>53<\/th>\n",
       "      <td>71.0<\/td>\n",
       "      <td>2<\/td>\n",
       "    <\/tr>\n",
       "    <tr>\n",
       "      <th>54<\/th>\n",
       "      <td>72.0<\/td>\n",
       "      <td>1<\/td>\n",
       "    <\/tr>\n",
       "    <tr>\n",
       "      <th>55<\/th>\n",
       "      <td>99.0<\/td>\n",
       "      <td>1<\/td>\n",
       "    <\/tr>\n",
       "  <\/tbody>\n",
       "<\/table>\n",
       "<\/div>"
      ]
     },
     "metadata":{
      
     },
     "output_type":"display_data"
    }
   ],
   "metadata":{
    "datalore":{
     "node_id":"phjChJoKSVgzqMymyEEREU",
     "type":"CODE",
     "hide_input_from_viewers":false,
     "hide_output_from_viewers":false,
     "report_properties":{
      "rowId":"IuPyo40TZHmmQ82bGO3FH4"
     }
    }
   }
  },
  {
   "cell_type":"markdown",
   "source":[
    "## Demo: How to describe a table"
   ],
   "attachments":{
    
   },
   "metadata":{
    "datalore":{
     "node_id":"xx8DGK6r5X6H9B4DireLCH",
     "type":"MD",
     "hide_input_from_viewers":false,
     "hide_output_from_viewers":false,
     "report_properties":{
      "rowId":"SO2riXf11JLSrbv2HbIdP7"
     }
    }
   }
  },
  {
   "cell_type":"code",
   "source":[
    "table_name = 'master'  # the table you wish to describe\n",
    "\n",
    "QUERY = \"\"\"\n",
    "SELECT sql FROM sqlite_master\n",
    "WHERE name= '{}'\n",
    "\"\"\".format(table_name)\n",
    "\n",
    "df = pd.read_sql_query(QUERY,conn)\n",
    "print(df.iat[0,0])"
   ],
   "execution_count":8,
   "outputs":[
    {
     "name":"stdout",
     "text":[
      "CREATE TABLE \"master\" (\n",
      "\"index\" INTEGER,\n",
      "  \"Respondent\" INTEGER,\n",
      "  \"MainBranch\" TEXT,\n",
      "  \"Hobbyist\" TEXT,\n",
      "  \"OpenSourcer\" TEXT,\n",
      "  \"OpenSource\" TEXT,\n",
      "  \"Employment\" TEXT,\n",
      "  \"Country\" TEXT,\n",
      "  \"Student\" TEXT,\n",
      "  \"EdLevel\" TEXT,\n",
      "  \"UndergradMajor\" TEXT,\n",
      "  \"OrgSize\" TEXT,\n",
      "  \"YearsCode\" TEXT,\n",
      "  \"Age1stCode\" TEXT,\n",
      "  \"YearsCodePro\" TEXT,\n",
      "  \"CareerSat\" TEXT,\n",
      "  \"JobSat\" TEXT,\n",
      "  \"MgrIdiot\" TEXT,\n",
      "  \"MgrMoney\" TEXT,\n",
      "  \"MgrWant\" TEXT,\n",
      "  \"JobSeek\" TEXT,\n",
      "  \"LastHireDate\" TEXT,\n",
      "  \"FizzBuzz\" TEXT,\n",
      "  \"ResumeUpdate\" TEXT,\n",
      "  \"CurrencySymbol\" TEXT,\n",
      "  \"CurrencyDesc\" TEXT,\n",
      "  \"CompTotal\" REAL,\n",
      "  \"CompFreq\" TEXT,\n",
      "  \"ConvertedComp\" REAL,\n",
      "  \"WorkWeekHrs\" REAL,\n",
      "  \"WorkRemote\" TEXT,\n",
      "  \"WorkLoc\" TEXT,\n",
      "  \"ImpSyn\" TEXT,\n",
      "  \"CodeRev\" TEXT,\n",
      "  \"CodeRevHrs\" REAL,\n",
      "  \"UnitTests\" TEXT,\n",
      "  \"PurchaseHow\" TEXT,\n",
      "  \"PurchaseWhat\" TEXT,\n",
      "  \"OpSys\" TEXT,\n",
      "  \"BlockchainOrg\" TEXT,\n",
      "  \"BlockchainIs\" TEXT,\n",
      "  \"BetterLife\" TEXT,\n",
      "  \"ITperson\" TEXT,\n",
      "  \"OffOn\" TEXT,\n",
      "  \"SocialMedia\" TEXT,\n",
      "  \"Extraversion\" TEXT,\n",
      "  \"ScreenName\" TEXT,\n",
      "  \"SOVisit1st\" TEXT,\n",
      "  \"SOVisitFreq\" TEXT,\n",
      "  \"SOFindAnswer\" TEXT,\n",
      "  \"SOTimeSaved\" TEXT,\n",
      "  \"SOHowMuchTime\" TEXT,\n",
      "  \"SOAccount\" TEXT,\n",
      "  \"SOPartFreq\" TEXT,\n",
      "  \"SOJobs\" TEXT,\n",
      "  \"EntTeams\" TEXT,\n",
      "  \"SOComm\" TEXT,\n",
      "  \"WelcomeChange\" TEXT,\n",
      "  \"Age\" REAL,\n",
      "  \"Trans\" TEXT,\n",
      "  \"Dependents\" TEXT,\n",
      "  \"SurveyLength\" TEXT,\n",
      "  \"SurveyEase\" TEXT\n",
      ")\n"
     ],
     "output_type":"stream"
    }
   ],
   "metadata":{
    "datalore":{
     "node_id":"qB61l0Y3irv5fbW61MP2lh",
     "type":"CODE",
     "hide_input_from_viewers":false,
     "hide_output_from_viewers":false,
     "report_properties":{
      "rowId":"MgOCbSCAW5FOhTkn6zSINw"
     }
    }
   }
  },
  {
   "cell_type":"markdown",
   "source":[
    "# Hands-on Lab"
   ],
   "attachments":{
    
   },
   "metadata":{
    "datalore":{
     "node_id":"5X2xkQlhtfUolXIxQFKvKp",
     "type":"MD",
     "hide_input_from_viewers":false,
     "hide_output_from_viewers":false,
     "report_properties":{
      "rowId":"a2VqAORhYEDM6cdYRpLd1j"
     }
    }
   }
  },
  {
   "cell_type":"markdown",
   "source":[
    "## Visualizing distribution of data"
   ],
   "attachments":{
    
   },
   "metadata":{
    "datalore":{
     "node_id":"INC8xSRLsqB9uJu03TUYxl",
     "type":"MD",
     "hide_input_from_viewers":false,
     "hide_output_from_viewers":false,
     "report_properties":{
      "rowId":"SwUtgKPq1Bllr02DNevAg8"
     }
    }
   }
  },
  {
   "cell_type":"markdown",
   "source":[
    "### Histograms"
   ],
   "attachments":{
    
   },
   "metadata":{
    "datalore":{
     "node_id":"fesjHCA466puey0gBfraID",
     "type":"MD",
     "hide_input_from_viewers":false,
     "hide_output_from_viewers":false,
     "report_properties":{
      "rowId":"FhBpMKhDnX0MlArfbIrRAj"
     }
    }
   }
  },
  {
   "cell_type":"markdown",
   "source":[
    "Plot a histogram of `ConvertedComp.`"
   ],
   "attachments":{
    
   },
   "metadata":{
    "datalore":{
     "node_id":"gvZJupvgoRUAYcdZJ4cpsQ",
     "type":"MD",
     "hide_input_from_viewers":false,
     "hide_output_from_viewers":false,
     "report_properties":{
      "rowId":"JsWBvcT1uUCjE3SAl8dUhA"
     }
    }
   }
  },
  {
   "cell_type":"code",
   "source":[
    "# your code goes here\n",
    "q= ''' SELECT * FROM master '''\n",
    "df = pd.read_sql_query(q,conn)\n",
    "df.hist(column = 'ConvertedComp')"
   ],
   "execution_count":9,
   "outputs":[
    {
     "data":{
      "text\/html":[
       "<pre>array([[%lt;AxesSubplot:title={'center':'ConvertedComp'}%gt;]], dtype=object)<\/pre>"
      ]
     },
     "metadata":{
      
     },
     "output_type":"display_data"
    },
    {
     "data":{
      "image\/png":"[encoded data removed]"
     },
     "metadata":{
      "image\/png":{
       
      }
     },
     "output_type":"display_data"
    }
   ],
   "metadata":{
    "datalore":{
     "node_id":"x4u2LfNLspYDti8mtv7BhN",
     "type":"CODE",
     "hide_input_from_viewers":false,
     "hide_output_from_viewers":false,
     "report_properties":{
      "rowId":"cBzSsD2EpG7XiKI9kIAa5Y"
     }
    }
   }
  },
  {
   "cell_type":"markdown",
   "source":[
    "### Box Plots"
   ],
   "attachments":{
    
   },
   "metadata":{
    "datalore":{
     "node_id":"72Ao4l14prDddYZ9Se4PmN",
     "type":"MD",
     "hide_input_from_viewers":false,
     "hide_output_from_viewers":false,
     "report_properties":{
      "rowId":"MqAjHGs8wX3sFu93OfsiBS"
     }
    }
   }
  },
  {
   "cell_type":"markdown",
   "source":[
    "Plot a box plot of `Age.`"
   ],
   "attachments":{
    
   },
   "metadata":{
    "datalore":{
     "node_id":"A8NMTom5kVTuabk2ZN3y0d",
     "type":"MD",
     "hide_input_from_viewers":false,
     "hide_output_from_viewers":false,
     "report_properties":{
      "rowId":"aSFt2bXTkwOP5SvscsbJuU"
     }
    }
   }
  },
  {
   "cell_type":"code",
   "source":[
    "# your code goes here\n",
    "q = ''' SELECT * FROM master'''\n",
    "df =pd.read_sql_query(q,conn)\n",
    "\n",
    "df.boxplot(column='Age')"
   ],
   "execution_count":10,
   "outputs":[
    {
     "data":{
      "text\/plain":[
       "<AxesSubplot:>"
      ]
     },
     "metadata":{
      
     },
     "output_type":"display_data"
    },
    {
     "data":{
      "image\/png":"[encoded data removed]"
     },
     "metadata":{
      "image\/png":{
       
      }
     },
     "output_type":"display_data"
    }
   ],
   "metadata":{
    "datalore":{
     "node_id":"1U579PMiBTURIuJoMmkSzZ",
     "type":"CODE",
     "hide_input_from_viewers":false,
     "hide_output_from_viewers":false,
     "report_properties":{
      "rowId":"Qf3wO5wgRqzopI2Nqs3K9j"
     }
    }
   }
  },
  {
   "cell_type":"markdown",
   "source":[
    "## Visualizing relationships in data"
   ],
   "attachments":{
    
   },
   "metadata":{
    "datalore":{
     "node_id":"eWJOpmlGJ1XJ0MZcF7wjBN",
     "type":"MD",
     "hide_input_from_viewers":false,
     "hide_output_from_viewers":false,
     "report_properties":{
      "rowId":"NDjMmZmAM7dX7nHUJpkVQv"
     }
    }
   }
  },
  {
   "cell_type":"markdown",
   "source":[
    "### Scatter Plots"
   ],
   "attachments":{
    
   },
   "metadata":{
    "datalore":{
     "node_id":"oNqIgZA7ZTG4oNmJomsZ8h",
     "type":"MD",
     "hide_input_from_viewers":false,
     "hide_output_from_viewers":false,
     "report_properties":{
      "rowId":"ME9SjGGMCEcxQWOfmAKCMN"
     }
    }
   }
  },
  {
   "cell_type":"markdown",
   "source":[
    "Create a scatter plot of `Age` and `WorkWeekHrs.`"
   ],
   "attachments":{
    
   },
   "metadata":{
    "datalore":{
     "node_id":"DIqyRNMmFx3ZOnUKUreLkt",
     "type":"MD",
     "hide_input_from_viewers":false,
     "hide_output_from_viewers":false,
     "report_properties":{
      "rowId":"PQ1HX0IQg96ANsDfWE7iw6"
     }
    }
   }
  },
  {
   "cell_type":"code",
   "source":[
    "# your code goes here\n",
    "import matplotlib.pyplot as plt\n",
    "import seaborn as sns\n",
    "\n",
    "q = ''' SELECT * FROM master '''\n",
    "df = pd.read_sql_query(q,conn)\n",
    "\n",
    "plot = sns.scatterplot(x = 'Age',y= 'WorkWeekHrs', data = df)"
   ],
   "execution_count":11,
   "outputs":[
    {
     "data":{
      "image\/png":"[encoded data removed]"
     },
     "metadata":{
      "image\/png":{
       
      }
     },
     "output_type":"display_data"
    }
   ],
   "metadata":{
    "datalore":{
     "node_id":"2uF00JhX9IbJpNEzR6m9Ja",
     "type":"CODE",
     "hide_input_from_viewers":false,
     "hide_output_from_viewers":false,
     "report_properties":{
      "rowId":"MpUbClTmEaUDvI2hwjJ1zl"
     }
    }
   }
  },
  {
   "cell_type":"markdown",
   "source":[
    "### Bubble Plots"
   ],
   "attachments":{
    
   },
   "metadata":{
    "datalore":{
     "node_id":"iO7Tgky5tPXwboDCWnQ7xO",
     "type":"MD",
     "hide_input_from_viewers":false,
     "hide_output_from_viewers":false,
     "report_properties":{
      "rowId":"q1qe9S251KCCfkynUZ0kyl"
     }
    }
   }
  },
  {
   "cell_type":"markdown",
   "source":[
    "Create a bubble plot of `WorkWeekHrs` and `CodeRevHrs`, use `Age` column as bubble size."
   ],
   "attachments":{
    
   },
   "metadata":{
    "datalore":{
     "node_id":"pd6PSnZ7ehestvVIcvBkIo",
     "type":"MD",
     "hide_input_from_viewers":false,
     "hide_output_from_viewers":false,
     "report_properties":{
      "rowId":"KNrYbCVZZQkNi3aDO5RXgy"
     }
    }
   }
  },
  {
   "cell_type":"code",
   "source":[
    "# your code goes here\n",
    "q = ''' SELECT WorkWeekHrs, CodeRevHrs, Age FROM master '''\n",
    "\n",
    "df = pd.read_sql_query(q,conn)\n",
    "sns.scatterplot(data = df, x = \"WorkWeekHrs\", y = \"CodeRevHrs\", size = \"Age\", hue = 'Age', alpha= 0.5, sizes = (10,500))\n",
    "\n",
    "plt.title('WorkWeekHrs and CodeRevHrs By Age', size=14)\n",
    "plt.xlabel(\"WORKWEEKHRS\", size = 10)\n",
    "plt.ylabel(\"CODEREVHRS\", size = 10)\n",
    "\n",
    "plt.show"
   ],
   "execution_count":12,
   "outputs":[
    {
     "data":{
      "text\/plain":[
       "<function matplotlib.pyplot.show(close=None, block=None)>"
      ]
     },
     "metadata":{
      
     },
     "output_type":"display_data"
    },
    {
     "data":{
      "image\/png":"[encoded data removed]"
     },
     "metadata":{
      "image\/png":{
       
      }
     },
     "output_type":"display_data"
    }
   ],
   "metadata":{
    "datalore":{
     "node_id":"BDlRtPvQkemMmRGGtUcX0u",
     "type":"CODE",
     "hide_input_from_viewers":false,
     "hide_output_from_viewers":false,
     "report_properties":{
      "rowId":"yRN0dZyFj6puiqF9L7lpIe"
     }
    }
   }
  },
  {
   "cell_type":"markdown",
   "source":[
    "## Visualizing composition of data"
   ],
   "attachments":{
    
   },
   "metadata":{
    "datalore":{
     "node_id":"zjOrBtSCaHgFkyAdyVhJ1I",
     "type":"MD",
     "hide_input_from_viewers":false,
     "hide_output_from_viewers":false,
     "report_properties":{
      "rowId":"E5OsZxxyYXiX4DuEPXcNuh"
     }
    }
   }
  },
  {
   "cell_type":"markdown",
   "source":[
    "### Pie Charts"
   ],
   "attachments":{
    
   },
   "metadata":{
    "datalore":{
     "node_id":"k1jTwZkbRkAdLb09c7Y6c8",
     "type":"MD",
     "hide_input_from_viewers":false,
     "hide_output_from_viewers":false,
     "report_properties":{
      "rowId":"yQMzyMTE1T7SO3btgLz1Ko"
     }
    }
   }
  },
  {
   "cell_type":"markdown",
   "source":[
    "Create a pie chart of the top 5 databases that respondents wish to learn next year. Label the pie chart with database names. Display percentages of each database on the pie chart."
   ],
   "attachments":{
    
   },
   "metadata":{
    "datalore":{
     "node_id":"cxBox8bpLVISrFYyBFUK1J",
     "type":"MD",
     "hide_input_from_viewers":false,
     "hide_output_from_viewers":false,
     "report_properties":{
      "rowId":"bQAMK81JqPnGT2hD1ng705"
     }
    }
   }
  },
  {
   "cell_type":"code",
   "source":[
    "# your code goes here\n",
    "QUERY = \"\"\" \n",
    "SELECT DatabaseDesireNextYear, COUNT(*) as count \n",
    "from DatabaseDesireNextYear \n",
    "group by DatabaseDesireNextYear \n",
    "order by count(DatabaseDesireNextYear) DESC LIMIT 5 \n",
    "\"\"\" \n",
    "\n",
    "df=pd.read_sql_query(QUERY,conn)  \n",
    "df.set_index('DatabaseDesireNextYear', inplace=True) \n",
    "\n",
    "colors_list=['gold', 'yellowgreen', 'lightcoral', 'lightskyblue', 'lightgreen', 'pink']\n",
    "\n",
    "df['count'].plot(kind='pie', figsize=(20,6), autopct='%1.1f%%', labels=None, startangle=90, colors=colors_list, shadow=True, pctdistance=1.12)  \n",
    "\n",
    "plt.legend(labels=df.index, loc='upper left')\n",
    "plt.title('Top 5 Databases Respondents Wish To Learn') \n",
    "plt.axis('equal')\n",
    "plt.show()\n"
   ],
   "execution_count":13,
   "outputs":[
    {
     "data":{
      "image\/png":"[encoded data removed]"
     },
     "metadata":{
      "image\/png":{
       
      }
     },
     "output_type":"display_data"
    }
   ],
   "metadata":{
    "datalore":{
     "node_id":"UxoHnHLtenFT5vKnSXo2YE",
     "type":"CODE",
     "hide_input_from_viewers":false,
     "hide_output_from_viewers":false,
     "report_properties":{
      "rowId":"NwO1FU0zeh5wSXP5krzgPf"
     }
    }
   }
  },
  {
   "cell_type":"markdown",
   "source":[
    "### Stacked Charts"
   ],
   "attachments":{
    
   },
   "metadata":{
    "datalore":{
     "node_id":"xQiDauTYFrDbhBEAyvjbxS",
     "type":"MD",
     "hide_input_from_viewers":false,
     "hide_output_from_viewers":false,
     "report_properties":{
      "rowId":"DnFjio8sxj9shTypPAN3O9"
     }
    }
   }
  },
  {
   "cell_type":"markdown",
   "source":[
    "Create a stacked chart of median `WorkWeekHrs` and `CodeRevHrs` for the age group 30 to 35."
   ],
   "attachments":{
    
   },
   "metadata":{
    "datalore":{
     "node_id":"0t6ul4uQWU7ABaIjUaDvvI",
     "type":"MD",
     "hide_input_from_viewers":false,
     "hide_output_from_viewers":false,
     "report_properties":{
      "rowId":"JpH5sBVP6IlRNqFHBzV4DS"
     }
    }
   }
  },
  {
   "cell_type":"code",
   "source":[
    "q = ''' SELECT WorkWeekHrs, CodeRevHrs, Age FROM master WHERE Age BETWEEN 30 AND 35''' \n",
    "df = pd.read_sql_query(q,conn)\n",
    "\n",
    "df1 = df.groupby('Age').median()\n",
    "\n",
    "df1.plot(kind= 'bar', figsize = (10,6), stacked = True)\n",
    "\n",
    "plt.title(\"Stacked Bar Chart of Median WorkWeekHrs and CodeRevHrs for Those Age 30 to 35\")\n",
    "plt.show()"
   ],
   "execution_count":14,
   "outputs":[
    {
     "data":{
      "image\/png":"[encoded data removed]"
     },
     "metadata":{
      "image\/png":{
       
      }
     },
     "output_type":"display_data"
    }
   ],
   "metadata":{
    "datalore":{
     "node_id":"jC56hU4jONNsveDQoBheY9",
     "type":"CODE",
     "hide_input_from_viewers":false,
     "hide_output_from_viewers":false,
     "report_properties":{
      "rowId":"hULjdE5KpqgAihb09RFToK"
     }
    }
   }
  },
  {
   "cell_type":"markdown",
   "source":[
    "## Visualizing comparison of data"
   ],
   "attachments":{
    
   },
   "metadata":{
    "datalore":{
     "node_id":"8uOSlyCN4WQSICmDDOKYJm",
     "type":"MD",
     "hide_input_from_viewers":false,
     "hide_output_from_viewers":false,
     "report_properties":{
      "rowId":"7BgF75rsFJdTm0GfQzDX8S"
     }
    }
   }
  },
  {
   "cell_type":"markdown",
   "source":[
    "### Line Chart"
   ],
   "attachments":{
    
   },
   "metadata":{
    "datalore":{
     "node_id":"stp9jAZNVHm0K6XPtSm3mm",
     "type":"MD",
     "hide_input_from_viewers":false,
     "hide_output_from_viewers":false,
     "report_properties":{
      "rowId":"pTMCs5qtb39iXq8Dy2tCvh"
     }
    }
   }
  },
  {
   "cell_type":"markdown",
   "source":[
    "Plot the median `ConvertedComp` for all ages from 45 to 60."
   ],
   "attachments":{
    
   },
   "metadata":{
    "datalore":{
     "node_id":"IrA6TFixR1tGW1i9i9XVGV",
     "type":"MD",
     "hide_input_from_viewers":false,
     "hide_output_from_viewers":false,
     "report_properties":{
      "rowId":"34DITNQoPhYW0iHNadTbFE"
     }
    }
   }
  },
  {
   "cell_type":"code",
   "source":[
    "# your code goes here\n",
    "q = ''' SELECT ConvertedComp,Age FROM master WHERE Age BETWEEN 45 AND 60 '''\n",
    "\n",
    "df = pd.read_sql_query(q,conn)\n",
    "\n",
    "df1 = df.groupby('Age').median()\n",
    "\n",
    "df1.plot(kind = 'line', figsize= (20,6))\n",
    "\n",
    "plt.title(\"Median ConvertedComp for Those Age 45 to 60\")\n",
    "plt.ylabel(\"ConvertedComp\")\n",
    "plt.show()"
   ],
   "execution_count":15,
   "outputs":[
    {
     "data":{
      "image\/png":"[encoded data removed]"
     },
     "metadata":{
      "image\/png":{
       
      }
     },
     "output_type":"display_data"
    }
   ],
   "metadata":{
    "datalore":{
     "node_id":"ikXOze5bIigmXdzDwTQdPQ",
     "type":"CODE",
     "hide_input_from_viewers":false,
     "hide_output_from_viewers":false,
     "report_properties":{
      "rowId":"WSbZ9Wpy4omXmmaUMe9niu"
     }
    }
   }
  },
  {
   "cell_type":"markdown",
   "source":[
    "### Bar Chart"
   ],
   "attachments":{
    
   },
   "metadata":{
    "datalore":{
     "node_id":"htJHmq5nxA0YkwiULAOWHb",
     "type":"MD",
     "hide_input_from_viewers":false,
     "hide_output_from_viewers":false,
     "report_properties":{
      "rowId":"fe9WYFVWvtxQltX963FiAQ"
     }
    }
   }
  },
  {
   "cell_type":"markdown",
   "source":[
    "Create a horizontal bar chart using column `MainBranch.`"
   ],
   "attachments":{
    
   },
   "metadata":{
    "datalore":{
     "node_id":"g8otJvxaFBQ9kym2yVYVWw",
     "type":"MD",
     "hide_input_from_viewers":false,
     "hide_output_from_viewers":false,
     "report_properties":{
      "rowId":"ST5ujAxEG9l3IgTYZ3i8gD"
     }
    }
   }
  },
  {
   "cell_type":"code",
   "source":[
    "# your code goes here\n",
    "q = ''' SELECT MainBranch, COUNT(*) as MainBranch FROM master GROUP BY MainBranch '''\n",
    "df = pd.read_sql_query(q,conn)\n",
    "\n",
    "df.plot(kind = 'barh', figsize = (10,6), color = 'lightskyblue')\n",
    "plt.show()"
   ],
   "execution_count":16,
   "outputs":[
    {
     "data":{
      "image\/png":"[encoded data removed]"
     },
     "metadata":{
      "image\/png":{
       
      }
     },
     "output_type":"display_data"
    }
   ],
   "metadata":{
    "datalore":{
     "node_id":"i5BIrjzuEhjbxBUC7cscSS",
     "type":"CODE",
     "hide_input_from_viewers":false,
     "hide_output_from_viewers":false,
     "report_properties":{
      "rowId":"uefY3LLMiEK8dLELHJoQoj"
     }
    }
   }
  },
  {
   "cell_type":"markdown",
   "source":[
    "Close the database connection."
   ],
   "attachments":{
    
   },
   "metadata":{
    "datalore":{
     "node_id":"DWEWNC7KBQ4YyuLH8yCnvu",
     "type":"MD",
     "hide_input_from_viewers":false,
     "hide_output_from_viewers":false,
     "report_properties":{
      "rowId":"R5YiH52NxSiadgVqfITmux"
     }
    }
   }
  },
  {
   "cell_type":"code",
   "source":[
    "conn.close()"
   ],
   "execution_count":17,
   "outputs":[
    
   ],
   "metadata":{
    "datalore":{
     "node_id":"GlcouU1aJJ9E9NJDPDJbPx",
     "type":"CODE",
     "hide_input_from_viewers":false,
     "hide_output_from_viewers":false,
     "report_properties":{
      "rowId":"E4kfE6zybsOTgfoP9gjCWw"
     }
    }
   }
  },
  {
   "cell_type":"markdown",
   "source":[
    "## Authors"
   ],
   "attachments":{
    
   },
   "metadata":{
    "datalore":{
     "node_id":"YPe4qbv9gGrGAWi0W8Ej6m",
     "type":"MD",
     "hide_input_from_viewers":false,
     "hide_output_from_viewers":false,
     "report_properties":{
      "rowId":"zbyHP7AfYZ7ih23RLQhkOe"
     }
    }
   }
  },
  {
   "cell_type":"markdown",
   "source":[
    "Ramesh Sannareddy"
   ],
   "attachments":{
    
   },
   "metadata":{
    "datalore":{
     "node_id":"soHVg5Wk3xw27s7pFSDpRq",
     "type":"MD",
     "hide_input_from_viewers":false,
     "hide_output_from_viewers":false,
     "report_properties":{
      "rowId":"0yc8GqO33fsRNLLFkoaOhc"
     }
    }
   }
  },
  {
   "cell_type":"markdown",
   "source":[
    "### Other Contributors"
   ],
   "attachments":{
    
   },
   "metadata":{
    "datalore":{
     "node_id":"BvdCfyciQVhJ0YyhhBtQq7",
     "type":"MD",
     "hide_input_from_viewers":false,
     "hide_output_from_viewers":false,
     "report_properties":{
      "rowId":"CoxPkm7f3r5HzGbmwr05as"
     }
    }
   }
  },
  {
   "cell_type":"markdown",
   "source":[
    "Rav Ahuja"
   ],
   "attachments":{
    
   },
   "metadata":{
    "datalore":{
     "node_id":"qizcGHK7n1SwBXXHVn0G1U",
     "type":"MD",
     "hide_input_from_viewers":false,
     "hide_output_from_viewers":false,
     "report_properties":{
      "rowId":"septyWkx4w3BEHErjFqb9R"
     }
    }
   }
  },
  {
   "cell_type":"markdown",
   "source":[
    "## Change Log"
   ],
   "attachments":{
    
   },
   "metadata":{
    "datalore":{
     "node_id":"5fAbSZT1VZbwWhWVnezlvd",
     "type":"MD",
     "hide_input_from_viewers":false,
     "hide_output_from_viewers":false,
     "report_properties":{
      "rowId":"nSaKrbe3tfar9L4udk5huR"
     }
    }
   }
  },
  {
   "cell_type":"markdown",
   "source":[
    "| Date (YYYY-MM-DD) | Version | Changed By        | Change Description                 |\n",
    "| ----------------- | ------- | ----------------- | ---------------------------------- |\n",
    "| 2020-10-17        | 0.1     | Ramesh Sannareddy | Created initial version of the lab |"
   ],
   "attachments":{
    
   },
   "metadata":{
    "datalore":{
     "node_id":"Op2HT74d6nP7HcZ84dATvM",
     "type":"MD",
     "hide_input_from_viewers":false,
     "hide_output_from_viewers":false,
     "report_properties":{
      "rowId":"85WEk6SGKLRckVuKsrgWBG"
     }
    }
   }
  },
  {
   "cell_type":"markdown",
   "source":[
    "Copyright © 2020 IBM Corporation. This notebook and its source code are released under the terms of the [MIT License](https:\/\/cognitiveclass.ai\/mit-license?utm_medium=Exinfluencer&utm_source=Exinfluencer&utm_content=000026UJ&utm_term=10006555&utm_id=NA-SkillsNetwork-Channel-SkillsNetworkCoursesIBMDA0321ENSkillsNetwork21426264-2022-01-01&cm_mmc=Email_Newsletter-\\_-Developer_Ed%2BTech-\\_-WW_WW-\\_-SkillsNetwork-Courses-IBM-DA0321EN-SkillsNetwork-21426264&cm_mmca1=000026UJ&cm_mmca2=10006555&cm_mmca3=M12345678&cvosrc=email.Newsletter.M12345678&cvo_campaign=000026UJ)."
   ],
   "attachments":{
    
   },
   "metadata":{
    "datalore":{
     "node_id":"6l2dwsikyc7OKAgcaICa9t",
     "type":"MD",
     "hide_input_from_viewers":false,
     "hide_output_from_viewers":false,
     "report_properties":{
      "rowId":"JCpNwQcZho923X57TI4ZRP"
     }
    }
   }
  }
 ],
 "metadata":{
  "kernelspec":{
   "display_name":"Python",
   "language":"python",
   "name":"python"
  },
  "datalore":{
   "computation_mode":"JUPYTER",
   "package_manager":"pip",
   "base_environment":"default",
   "packages":[
    
   ],
   "report_row_ids":[
    "bDml1P7g0Sg5x0l1Zo0D5R",
    "I4DW6rVMTfVgN7J4kMwzLv",
    "hrL2AVu3pEX1N3Ry4NUGTf",
    "4vNPSGGiq8GhnrxlERe71K",
    "H6zR4QJj9lKpn02iBRIutC",
    "Dd59p6QLlMJSw5cXWhWBW8",
    "MYcO3v0CdYl0Az5jRec5Ct",
    "kiWDm36nBhMpVcoVextlPw",
    "lzoXKabMFx7RLDmhVrhAfF",
    "T1C7li6DHNv0MFakxTmzfU",
    "gmlxQ3lcqFwFMwWiyKULxa",
    "LsNwRXYJD79ekJn1GmGdiO",
    "HVPaoGZDDEpnSGZXwLSuFP",
    "09RRWyU4qmONWboAd9bqpB",
    "By77tXXaf9O7KTuAhnugsj",
    "buGbF4SVanBzngJ20wEvJA",
    "saSqC7zDmDvbwLoTS9bCp5",
    "bd9pZ2s66dicQdwBZkKupO",
    "cTWmcPGcjvf5xnfTPQbIbR",
    "KfJw6LBnGo3rBnLIr5fJh2",
    "IuPyo40TZHmmQ82bGO3FH4",
    "SO2riXf11JLSrbv2HbIdP7",
    "MgOCbSCAW5FOhTkn6zSINw",
    "a2VqAORhYEDM6cdYRpLd1j",
    "SwUtgKPq1Bllr02DNevAg8",
    "FhBpMKhDnX0MlArfbIrRAj",
    "JsWBvcT1uUCjE3SAl8dUhA",
    "cBzSsD2EpG7XiKI9kIAa5Y",
    "MqAjHGs8wX3sFu93OfsiBS",
    "aSFt2bXTkwOP5SvscsbJuU",
    "Qf3wO5wgRqzopI2Nqs3K9j",
    "NDjMmZmAM7dX7nHUJpkVQv",
    "ME9SjGGMCEcxQWOfmAKCMN",
    "PQ1HX0IQg96ANsDfWE7iw6",
    "MpUbClTmEaUDvI2hwjJ1zl",
    "q1qe9S251KCCfkynUZ0kyl",
    "KNrYbCVZZQkNi3aDO5RXgy",
    "yRN0dZyFj6puiqF9L7lpIe",
    "E5OsZxxyYXiX4DuEPXcNuh",
    "yQMzyMTE1T7SO3btgLz1Ko",
    "bQAMK81JqPnGT2hD1ng705",
    "NwO1FU0zeh5wSXP5krzgPf",
    "DnFjio8sxj9shTypPAN3O9",
    "JpH5sBVP6IlRNqFHBzV4DS",
    "hULjdE5KpqgAihb09RFToK",
    "7BgF75rsFJdTm0GfQzDX8S",
    "pTMCs5qtb39iXq8Dy2tCvh",
    "34DITNQoPhYW0iHNadTbFE",
    "WSbZ9Wpy4omXmmaUMe9niu",
    "fe9WYFVWvtxQltX963FiAQ",
    "ST5ujAxEG9l3IgTYZ3i8gD",
    "uefY3LLMiEK8dLELHJoQoj",
    "R5YiH52NxSiadgVqfITmux",
    "E4kfE6zybsOTgfoP9gjCWw",
    "zbyHP7AfYZ7ih23RLQhkOe",
    "0yc8GqO33fsRNLLFkoaOhc",
    "CoxPkm7f3r5HzGbmwr05as",
    "septyWkx4w3BEHErjFqb9R",
    "nSaKrbe3tfar9L4udk5huR",
    "85WEk6SGKLRckVuKsrgWBG",
    "JCpNwQcZho923X57TI4ZRP"
   ],
   "version":2
  }
 },
 "nbformat":4,
 "nbformat_minor":4
}