{
 "cells":[
  {
   "cell_type":"markdown",
   "source":[
    "<p style=\"text-align:center\">\n",
    "    <a href=\"https:\/\/skills.network\/?utm_medium=Exinfluencer&utm_source=Exinfluencer&utm_content=000026UJ&utm_term=10006555&utm_id=NA-SkillsNetwork-Channel-SkillsNetworkCoursesIBMDA0321ENSkillsNetwork21426264-2022-01-01\" target=\"_blank\">\n",
    "    <img src=\"https:\/\/cf-courses-data.s3.us.cloud-object-storage.appdomain.cloud\/assets\/logos\/SN_web_lightmode.png\" width=\"200\" alt=\"Skills Network Logo\"  \/>\n",
    "    <\/a>\n",
    "<\/p>"
   ],
   "attachments":{
    
   },
   "metadata":{
    "datalore":{
     "node_id":"72DtLXnEPUWY3Ga5dk7GnM",
     "type":"MD",
     "hide_input_from_viewers":false,
     "hide_output_from_viewers":false,
     "report_properties":{
      "rowId":"pXmXZLzukVMssLdqju6H0b"
     }
    }
   }
  },
  {
   "cell_type":"markdown",
   "source":[
    "# **Exploratory Data Analysis Lab**"
   ],
   "attachments":{
    
   },
   "metadata":{
    "datalore":{
     "node_id":"5hluWS6UFfiAtykpnpu7Yh",
     "type":"MD",
     "hide_input_from_viewers":false,
     "hide_output_from_viewers":false,
     "report_properties":{
      "rowId":"tWlNQSg7Vix4PXAaFrNPdz"
     }
    }
   }
  },
  {
   "cell_type":"markdown",
   "source":[
    "Estimated time needed: **30** minutes"
   ],
   "attachments":{
    
   },
   "metadata":{
    "datalore":{
     "node_id":"dmPsF653olPB0sd2uB2iXR",
     "type":"MD",
     "hide_input_from_viewers":false,
     "hide_output_from_viewers":false,
     "report_properties":{
      "rowId":"iTY24ervOV65zJ6pTAZSNv"
     }
    }
   }
  },
  {
   "cell_type":"markdown",
   "source":[
    "In this module you get to work with the cleaned dataset from the previous module.\n",
    "\n",
    "In this assignment you will perform the task of exploratory data analysis.\n",
    "You will find out the distribution of data, presence of outliers and also determine the correlation between different columns in the dataset."
   ],
   "attachments":{
    
   },
   "metadata":{
    "datalore":{
     "node_id":"XKvFUhx1elUNk7EU6zg1C5",
     "type":"MD",
     "hide_input_from_viewers":false,
     "hide_output_from_viewers":false,
     "report_properties":{
      "rowId":"PjnR0ExHD0U4VP4QXWbYml"
     }
    }
   }
  },
  {
   "cell_type":"markdown",
   "source":[
    "## Objectives"
   ],
   "attachments":{
    
   },
   "metadata":{
    "datalore":{
     "node_id":"liZTUhzVSpViTc3UEXT6aE",
     "type":"MD",
     "hide_input_from_viewers":false,
     "hide_output_from_viewers":false,
     "report_properties":{
      "rowId":"vpFF504MimWsqAXc6aDDoU"
     }
    }
   }
  },
  {
   "cell_type":"markdown",
   "source":[
    "In this lab you will perform the following:"
   ],
   "attachments":{
    
   },
   "metadata":{
    "datalore":{
     "node_id":"JTsYzqCgB3W6z4KBQbMU3d",
     "type":"MD",
     "hide_input_from_viewers":false,
     "hide_output_from_viewers":false,
     "report_properties":{
      "rowId":"Iu7hbMzv0JC1AvrrqaOFvo"
     }
    }
   }
  },
  {
   "cell_type":"markdown",
   "source":[
    "*   Identify the distribution of data in the dataset.\n",
    "\n",
    "*   Identify outliers in the dataset.\n",
    "\n",
    "*   Remove outliers from the dataset.\n",
    "\n",
    "*   Identify correlation between features in the dataset."
   ],
   "attachments":{
    
   },
   "metadata":{
    "datalore":{
     "node_id":"nK1ZIlXlR6PhpcwJKmx0zu",
     "type":"MD",
     "hide_input_from_viewers":false,
     "hide_output_from_viewers":false,
     "report_properties":{
      "rowId":"Ex7iKeSqurdZ4RrEDnIxVa"
     }
    }
   }
  },
  {
   "cell_type":"markdown",
   "source":[
    "***"
   ],
   "attachments":{
    
   },
   "metadata":{
    "datalore":{
     "node_id":"X69Eyyb3pKLk2GKJfBVOHI",
     "type":"MD",
     "hide_input_from_viewers":false,
     "hide_output_from_viewers":false,
     "report_properties":{
      "rowId":"L5cbPqWtV57f3h6E1B7mrL"
     }
    }
   }
  },
  {
   "cell_type":"markdown",
   "source":[
    "## Hands on Lab"
   ],
   "attachments":{
    
   },
   "metadata":{
    "datalore":{
     "node_id":"HY0lXRFsTK7O5y8EJ1Zx7Y",
     "type":"MD",
     "hide_input_from_viewers":false,
     "hide_output_from_viewers":false,
     "report_properties":{
      "rowId":"UjtkfM9OsxObKgJwvIOh6Z"
     }
    }
   }
  },
  {
   "cell_type":"markdown",
   "source":[
    "Import the pandas module."
   ],
   "attachments":{
    
   },
   "metadata":{
    "datalore":{
     "node_id":"OiT3e7olxOEZmKAZ0IHIP9",
     "type":"MD",
     "hide_input_from_viewers":false,
     "hide_output_from_viewers":false,
     "report_properties":{
      "rowId":"emdtLilwY99SNfxlgQw3aQ"
     }
    }
   }
  },
  {
   "cell_type":"code",
   "source":[
    "import pandas as pd"
   ],
   "execution_count":2,
   "outputs":[
    
   ],
   "metadata":{
    "datalore":{
     "node_id":"r6muLAPEh89AcgPGgC7tCI",
     "type":"CODE",
     "hide_input_from_viewers":false,
     "hide_output_from_viewers":false,
     "report_properties":{
      "rowId":"AgGEPBIcxcveORcyaF203u"
     }
    }
   }
  },
  {
   "cell_type":"markdown",
   "source":[
    "Load the dataset into a dataframe."
   ],
   "attachments":{
    
   },
   "metadata":{
    "datalore":{
     "node_id":"V92eYMY3iryXdbtM1rHNPq",
     "type":"MD",
     "hide_input_from_viewers":false,
     "hide_output_from_viewers":false,
     "report_properties":{
      "rowId":"XZzBjGL5qa1Jt78dRVUDeE"
     }
    }
   }
  },
  {
   "cell_type":"code",
   "source":[
    "df = pd.read_csv(\"https:\/\/cf-courses-data.s3.us.cloud-object-storage.appdomain.cloud\/IBM-DA0321EN-SkillsNetwork\/LargeData\/m2_survey_data.csv\")"
   ],
   "execution_count":3,
   "outputs":[
    
   ],
   "metadata":{
    "datalore":{
     "node_id":"l28dHXqL3jvMs37QTOzCHJ",
     "type":"CODE",
     "hide_input_from_viewers":false,
     "hide_output_from_viewers":false,
     "report_properties":{
      "rowId":"CQCUvvpvIS9DOm6TW3yciu"
     }
    }
   }
  },
  {
   "cell_type":"markdown",
   "source":[
    "## Distribution"
   ],
   "attachments":{
    
   },
   "metadata":{
    "datalore":{
     "node_id":"k6iW6cnQyQ1Wrhjm2B2saj",
     "type":"MD",
     "hide_input_from_viewers":false,
     "hide_output_from_viewers":false,
     "report_properties":{
      "rowId":"BzUg5sNcHAfpTFoiuzdDAW"
     }
    }
   }
  },
  {
   "cell_type":"markdown",
   "source":[
    "### Determine how the data is distributed"
   ],
   "attachments":{
    
   },
   "metadata":{
    "datalore":{
     "node_id":"WsCUUuyJrxNvNiWWyUTd3F",
     "type":"MD",
     "hide_input_from_viewers":false,
     "hide_output_from_viewers":false,
     "report_properties":{
      "rowId":"dbCw70bwt1GlD6l9211eS2"
     }
    }
   }
  },
  {
   "cell_type":"markdown",
   "source":[
    "The column `ConvertedComp` contains Salary converted to annual USD salaries using the exchange rate on 2019-02-01.\n",
    "\n",
    "This assumes 12 working months and 50 working weeks."
   ],
   "attachments":{
    
   },
   "metadata":{
    "datalore":{
     "node_id":"Wp32fLtDTS42Oo7Qfr0lKw",
     "type":"MD",
     "hide_input_from_viewers":false,
     "hide_output_from_viewers":false,
     "report_properties":{
      "rowId":"0EV88mS5caA4pTmXInHB5k"
     }
    }
   }
  },
  {
   "cell_type":"markdown",
   "source":[
    "Plot the distribution curve for the column `ConvertedComp`."
   ],
   "attachments":{
    
   },
   "metadata":{
    "datalore":{
     "node_id":"cdV2UiE4kqEWMDPNvBCn1M",
     "type":"MD",
     "hide_input_from_viewers":false,
     "hide_output_from_viewers":false,
     "report_properties":{
      "rowId":"0Lomi40DZBQmpt2tC0icbj"
     }
    }
   }
  },
  {
   "cell_type":"code",
   "source":[
    "# your code goes here\n",
    "import seaborn as sns\n",
    "\n",
    "sns.distplot(df['ConvertedComp'], kde = True)"
   ],
   "execution_count":12,
   "outputs":[
    {
     "name":"stderr",
     "text":[
      "\/opt\/python\/envs\/default\/lib\/python3.8\/site-packages\/seaborn\/distributions.py:2619: FutureWarning: `distplot` is a deprecated function and will be removed in a future version. Please adapt your code to use either `displot` (a figure-level function with similar flexibility) or `histplot` (an axes-level function for histograms).\n",
      "  warnings.warn(msg, FutureWarning)\n"
     ],
     "output_type":"stream"
    },
    {
     "data":{
      "text\/plain":[
       "<AxesSubplot:xlabel='ConvertedComp', ylabel='Density'>"
      ]
     },
     "metadata":{
      
     },
     "output_type":"display_data"
    },
    {
     "data":{
      "image\/png":"[encoded data removed]"
     },
     "metadata":{
      "image\/png":{
       
      }
     },
     "output_type":"display_data"
    }
   ],
   "metadata":{
    "datalore":{
     "node_id":"oF8tnZgXS2a24N3a03nHsD",
     "type":"CODE",
     "hide_input_from_viewers":false,
     "hide_output_from_viewers":false,
     "report_properties":{
      "rowId":"NuGI5iHqu5hnsCXB4LkBNP"
     }
    }
   }
  },
  {
   "cell_type":"markdown",
   "source":[
    "Plot the histogram for the column `ConvertedComp`."
   ],
   "attachments":{
    
   },
   "metadata":{
    "datalore":{
     "node_id":"dvpxrwF5KPqDgP8VljJ6re",
     "type":"MD",
     "hide_input_from_viewers":false,
     "hide_output_from_viewers":false,
     "report_properties":{
      "rowId":"zQn4J64VM3u1l899lO8gVi"
     }
    }
   }
  },
  {
   "cell_type":"code",
   "source":[
    "# your code goes here\n",
    "df['ConvertedComp'].plot(kind = 'hist')"
   ],
   "execution_count":7,
   "outputs":[
    {
     "data":{
      "text\/plain":[
       "<AxesSubplot:ylabel='Frequency'>"
      ]
     },
     "metadata":{
      
     },
     "output_type":"display_data"
    },
    {
     "data":{
      "image\/png":"[encoded data removed]"
     },
     "metadata":{
      "image\/png":{
       
      }
     },
     "output_type":"display_data"
    }
   ],
   "metadata":{
    "datalore":{
     "node_id":"I3d4QgnkAEvtUSOaWR90sr",
     "type":"CODE",
     "hide_input_from_viewers":false,
     "hide_output_from_viewers":false,
     "report_properties":{
      "rowId":"7ncHe775zLAzwJ2DheE1MQ"
     }
    }
   }
  },
  {
   "cell_type":"markdown",
   "source":[
    "What is the median of the column `ConvertedComp`?"
   ],
   "attachments":{
    
   },
   "metadata":{
    "datalore":{
     "node_id":"pN5HBtNJAU6Sq7CLJGfspZ",
     "type":"MD",
     "hide_input_from_viewers":false,
     "hide_output_from_viewers":false,
     "report_properties":{
      "rowId":"iuKy34WYB6RqXhwJ46sw8g"
     }
    }
   }
  },
  {
   "cell_type":"code",
   "source":[
    "# your code goes here\n",
    "df['ConvertedComp'].dropna(axis = 0, inplace = True)\n",
    "print(\"The Median of ConvertedComp is\",df['ConvertedComp'].median())"
   ],
   "execution_count":13,
   "outputs":[
    {
     "name":"stdout",
     "text":[
      "The Median of ConvertedComp is 57745.0\n"
     ],
     "output_type":"stream"
    }
   ],
   "metadata":{
    "datalore":{
     "node_id":"yBHyAPiu1QAm2Yf52R3F0l",
     "type":"CODE",
     "hide_input_from_viewers":false,
     "hide_output_from_viewers":false,
     "report_properties":{
      "rowId":"xtBYq7DC5qPWPzPYMugHlA"
     }
    }
   }
  },
  {
   "cell_type":"markdown",
   "source":[
    "How many responders identified themselves only as a **Man**?"
   ],
   "attachments":{
    
   },
   "metadata":{
    "datalore":{
     "node_id":"FvkFkS4GgNzcH5PGDVGwVP",
     "type":"MD",
     "hide_input_from_viewers":false,
     "hide_output_from_viewers":false,
     "report_properties":{
      "rowId":"ACtdKdakfmiPTfuKZkRWr5"
     }
    }
   }
  },
  {
   "cell_type":"code",
   "source":[
    "# your code goes here\n",
    "df['Gender'].value_counts()\n",
    "df['Age'].median()"
   ],
   "execution_count":41,
   "outputs":[
    {
     "data":{
      "text\/plain":[
       "29.0"
      ]
     },
     "metadata":{
      
     },
     "output_type":"display_data"
    }
   ],
   "metadata":{
    "datalore":{
     "node_id":"swyJYEngNXyqJBwDSnP0yN",
     "type":"CODE",
     "hide_input_from_viewers":false,
     "hide_output_from_viewers":false,
     "report_properties":{
      "rowId":"HUnc85BX9T09PfpuYMmYg2"
     }
    }
   }
  },
  {
   "cell_type":"markdown",
   "source":[
    "Find out the  median ConvertedComp of responders identified themselves only as a **Woman**?"
   ],
   "attachments":{
    
   },
   "metadata":{
    "datalore":{
     "node_id":"XXiTPAqqm3rOEp8TTp9sB3",
     "type":"MD",
     "hide_input_from_viewers":false,
     "hide_output_from_viewers":false,
     "report_properties":{
      "rowId":"0xDYw2cqOSpkRhqozuGiI4"
     }
    }
   }
  },
  {
   "cell_type":"code",
   "source":[
    "# your code goes here\n",
    "df_woman = df[df['Gender'] == 'Woman']\n",
    "print(\"The Median is\", df_woman['ConvertedComp'].median())"
   ],
   "execution_count":17,
   "outputs":[
    {
     "name":"stdout",
     "text":[
      "The Median is 57708.0\n"
     ],
     "output_type":"stream"
    }
   ],
   "metadata":{
    "datalore":{
     "node_id":"5LxlukAnVwSGCd9INoOK8m",
     "type":"CODE",
     "hide_input_from_viewers":false,
     "hide_output_from_viewers":false,
     "report_properties":{
      "rowId":"D46f6qVdWMqCKYzaY0WPc8"
     }
    }
   }
  },
  {
   "cell_type":"markdown",
   "source":[
    "Give the five number summary for the column `Age`?"
   ],
   "attachments":{
    
   },
   "metadata":{
    "datalore":{
     "node_id":"y0o5Jkj2kBhKEe6MAdLqUV",
     "type":"MD",
     "hide_input_from_viewers":false,
     "hide_output_from_viewers":false,
     "report_properties":{
      "rowId":"jiJR5dY6YR2OugXCu304A7"
     }
    }
   }
  },
  {
   "cell_type":"markdown",
   "source":[
    "**Double click here for hint**.\n",
    "\n",
    "<!--\n",
    "min,q1,median,q3,max of a column are its five number summary.\n",
    "-->"
   ],
   "attachments":{
    
   },
   "metadata":{
    "datalore":{
     "node_id":"DokSidByFEXAKV0EJ1y6dG",
     "type":"MD",
     "hide_input_from_viewers":false,
     "hide_output_from_viewers":false,
     "report_properties":{
      "rowId":"dUzhpWQHNNYvr2djdDi4Kh"
     }
    }
   }
  },
  {
   "cell_type":"code",
   "source":[
    "df[\"Age\"].describe()"
   ],
   "execution_count":25,
   "outputs":[
    {
     "data":{
      "text\/html":[
       "<pre>count    11111.000000\n",
       "mean        30.778895\n",
       "std          7.393686\n",
       "min         16.000000\n",
       "25%         25.000000\n",
       "50%         29.000000\n",
       "75%         35.000000\n",
       "max         99.000000\n",
       "Name: Age, dtype: float64<\/pre>"
      ]
     },
     "metadata":{
      
     },
     "output_type":"display_data"
    }
   ],
   "metadata":{
    "datalore":{
     "node_id":"cucwlK419dgq6IqzI8vlYA",
     "type":"CODE",
     "hide_input_from_viewers":false,
     "hide_output_from_viewers":false,
     "report_properties":{
      "rowId":"HxIJiUFLCozXN9Acsyn0Oy"
     }
    }
   }
  },
  {
   "cell_type":"markdown",
   "source":[
    "Plot a histogram of the column `Age`."
   ],
   "attachments":{
    
   },
   "metadata":{
    "datalore":{
     "node_id":"oC5a6kmMu6CLm0NyAPxNgx",
     "type":"MD",
     "hide_input_from_viewers":false,
     "hide_output_from_viewers":false,
     "report_properties":{
      "rowId":"gic0l0HA6xoLUEzkgtDvDD"
     }
    }
   }
  },
  {
   "cell_type":"code",
   "source":[
    "# your code goes here\n",
    "import matplotlib.pyplot as plt\n",
    "%matplotlib inline\n",
    "\n",
    "plt.hist(df['Age'])\n",
    "plt.title(\"Histogram for Age\")\n",
    "plt.xlabel(\"Age\")\n",
    "plt.show()"
   ],
   "execution_count":29,
   "outputs":[
    {
     "data":{
      "image\/png":"[encoded data removed]"
     },
     "metadata":{
      "image\/png":{
       
      }
     },
     "output_type":"display_data"
    }
   ],
   "metadata":{
    "datalore":{
     "node_id":"dAakasXnzHDi8104lBR0P1",
     "type":"CODE",
     "hide_input_from_viewers":false,
     "hide_output_from_viewers":false,
     "report_properties":{
      "rowId":"XQOnXjLN0jAuTr6u9Oaon5"
     }
    }
   }
  },
  {
   "cell_type":"markdown",
   "source":[
    "## Outliers"
   ],
   "attachments":{
    
   },
   "metadata":{
    "datalore":{
     "node_id":"QnSWr1eMSNDDlw3is0d8Iv",
     "type":"MD",
     "hide_input_from_viewers":false,
     "hide_output_from_viewers":false,
     "report_properties":{
      "rowId":"9Ac8xThcD09RpZ2aYDf65H"
     }
    }
   }
  },
  {
   "cell_type":"markdown",
   "source":[
    "### Finding outliers"
   ],
   "attachments":{
    
   },
   "metadata":{
    "datalore":{
     "node_id":"w6DfHpzE7JXKaQYOpFciEu",
     "type":"MD",
     "hide_input_from_viewers":false,
     "hide_output_from_viewers":false,
     "report_properties":{
      "rowId":"osa845X5icTFVOmYBO8xjq"
     }
    }
   }
  },
  {
   "cell_type":"markdown",
   "source":[
    "Find out if outliers exist in the column `ConvertedComp` using a box plot?"
   ],
   "attachments":{
    
   },
   "metadata":{
    "datalore":{
     "node_id":"bOCaeWmGDweZkwQS6bwdoR",
     "type":"MD",
     "hide_input_from_viewers":false,
     "hide_output_from_viewers":false,
     "report_properties":{
      "rowId":"kNvK43iOfdFF2dwF5vO2Gh"
     }
    }
   }
  },
  {
   "cell_type":"code",
   "source":[
    "# your code goes here\n",
    "df['ConvertedComp'].plot(kind = 'box')"
   ],
   "execution_count":30,
   "outputs":[
    {
     "data":{
      "text\/plain":[
       "<AxesSubplot:>"
      ]
     },
     "metadata":{
      
     },
     "output_type":"display_data"
    },
    {
     "data":{
      "image\/png":"[encoded data removed]"
     },
     "metadata":{
      "image\/png":{
       
      }
     },
     "output_type":"display_data"
    }
   ],
   "metadata":{
    "datalore":{
     "node_id":"8OI81MumKGHGsvnqjYfyHk",
     "type":"CODE",
     "hide_input_from_viewers":false,
     "hide_output_from_viewers":false,
     "report_properties":{
      "rowId":"MN692VDjxfc4NsiVnIkHYK"
     }
    }
   }
  },
  {
   "cell_type":"markdown",
   "source":[
    "Find out the Inter Quartile Range for the column `ConvertedComp`."
   ],
   "attachments":{
    
   },
   "metadata":{
    "datalore":{
     "node_id":"y12BTk4sQx7m1XatH96Oqv",
     "type":"MD",
     "hide_input_from_viewers":false,
     "hide_output_from_viewers":false,
     "report_properties":{
      "rowId":"EzFwE8jzEJPOdvecCsXHk7"
     }
    }
   }
  },
  {
   "cell_type":"code",
   "source":[
    "# your code goes here\n",
    "df['ConvertedComp'].dropna(axis = 0, inplace = True)\n",
    "\n",
    "Q1 = df['ConvertedComp'].quantile(0.25)\n",
    "Q2 = df['ConvertedComp'].quantile(0.50)\n",
    "Q3 = df['ConvertedComp'].quantile(0.75)\n",
    "\n",
    "IQR = Q3 - Q1\n",
    "\n",
    "print(\"The Inter Quartile Range (IQR) is\", IQR)\n",
    "print(\"The Median is\", Q2)"
   ],
   "execution_count":42,
   "outputs":[
    {
     "name":"stdout",
     "text":[
      "The Inter Quartile Range (IQR) is 73132.0\n",
      "The Median is 57745.0\n"
     ],
     "output_type":"stream"
    }
   ],
   "metadata":{
    "datalore":{
     "node_id":"MRsBWGamMwkM541JSyyp3b",
     "type":"CODE",
     "hide_input_from_viewers":false,
     "hide_output_from_viewers":false,
     "report_properties":{
      "rowId":"dNzo97yLKxwngg3gSExUCs"
     }
    }
   }
  },
  {
   "cell_type":"markdown",
   "source":[
    "Find out the upper and lower bounds."
   ],
   "attachments":{
    
   },
   "metadata":{
    "datalore":{
     "node_id":"WyqoXBqPwDILwIdP2F7EDg",
     "type":"MD",
     "hide_input_from_viewers":false,
     "hide_output_from_viewers":false,
     "report_properties":{
      "rowId":"HBmm8gidvzQj6lDcfGdsdg"
     }
    }
   }
  },
  {
   "cell_type":"code",
   "source":[
    "# your code goes here\n",
    "upper = Q3 + (IQR *1.5)\n",
    "lower = Q1 - (IQR *1.5)\n",
    "\n",
    "print(\"The Upper Bound is\", upper)\n",
    "print(\"The Lower Bound is\", lower)"
   ],
   "execution_count":32,
   "outputs":[
    {
     "name":"stdout",
     "text":[
      "The Upper Bound is 209698.0\n",
      "The Lower Bound is -82830.0\n"
     ],
     "output_type":"stream"
    }
   ],
   "metadata":{
    "datalore":{
     "node_id":"Z0AhmmE4IbmNAIBp80uapV",
     "type":"CODE",
     "hide_input_from_viewers":false,
     "hide_output_from_viewers":false,
     "report_properties":{
      "rowId":"nxBxkzlomgC6yW6Z9lQf1c"
     }
    }
   }
  },
  {
   "cell_type":"markdown",
   "source":[
    "Identify how many outliers are there in the `ConvertedComp` column."
   ],
   "attachments":{
    
   },
   "metadata":{
    "datalore":{
     "node_id":"Sbrn5U4EvSK40lObifGH5t",
     "type":"MD",
     "hide_input_from_viewers":false,
     "hide_output_from_viewers":false,
     "report_properties":{
      "rowId":"mdsThezx86oxrQYVax9v9J"
     }
    }
   }
  },
  {
   "cell_type":"code",
   "source":[
    "# your code goes here\n",
    "(df['ConvertedComp']<lower) | (df['ConvertedComp']>upper)"
   ],
   "execution_count":37,
   "outputs":[
    {
     "data":{
      "text\/html":[
       "<pre>0        False\n",
       "1        False\n",
       "2        False\n",
       "3         True\n",
       "4        False\n",
       "         ...  \n",
       "11393    False\n",
       "11394    False\n",
       "11395    False\n",
       "11396    False\n",
       "11397    False\n",
       "Name: ConvertedComp, Length: 11398, dtype: bool<\/pre>"
      ]
     },
     "metadata":{
      
     },
     "output_type":"display_data"
    }
   ],
   "metadata":{
    "datalore":{
     "node_id":"Sx3rYw6seVYEOAxm3k69Q1",
     "type":"CODE",
     "hide_input_from_viewers":false,
     "hide_output_from_viewers":false,
     "report_properties":{
      "rowId":"YjcLwHs6CGnZ43Gquycl6A"
     }
    }
   }
  },
  {
   "cell_type":"markdown",
   "source":[
    "Create a new dataframe by removing the outliers from the `ConvertedComp` column."
   ],
   "attachments":{
    
   },
   "metadata":{
    "datalore":{
     "node_id":"1LaozgG1i9q3wyXy5bcBa5",
     "type":"MD",
     "hide_input_from_viewers":false,
     "hide_output_from_viewers":false,
     "report_properties":{
      "rowId":"yx90in5crjGoKKGYFfeqtA"
     }
    }
   }
  },
  {
   "cell_type":"code",
   "source":[
    "# your code goes here\n",
    "df2 = df['ConvertedComp'].clip(upper,lower)\n",
    "df2.describe()"
   ],
   "execution_count":38,
   "outputs":[
    {
     "data":{
      "text\/html":[
       "<pre>count     10582.000000\n",
       "mean      72327.661406\n",
       "std       58619.926538\n",
       "min           0.000000\n",
       "25%       26868.000000\n",
       "50%       57745.000000\n",
       "75%      100000.000000\n",
       "max      209698.000000\n",
       "Name: ConvertedComp, dtype: float64<\/pre>"
      ]
     },
     "metadata":{
      
     },
     "output_type":"display_data"
    }
   ],
   "metadata":{
    "datalore":{
     "node_id":"ARAPtx8TEIOBUPUHxD1XMD",
     "type":"CODE",
     "hide_input_from_viewers":false,
     "hide_output_from_viewers":false,
     "report_properties":{
      "rowId":"DBc98J2C5QFq7fxibcOGhn"
     }
    }
   }
  },
  {
   "cell_type":"markdown",
   "source":[
    "## Correlation"
   ],
   "attachments":{
    
   },
   "metadata":{
    "datalore":{
     "node_id":"UZjIGZi3Co67qUOCE2FTOE",
     "type":"MD",
     "hide_input_from_viewers":false,
     "hide_output_from_viewers":false,
     "report_properties":{
      "rowId":"kLOUIAPF5hjFsHDhxtfbKi"
     }
    }
   }
  },
  {
   "cell_type":"markdown",
   "source":[
    "### Finding correlation"
   ],
   "attachments":{
    
   },
   "metadata":{
    "datalore":{
     "node_id":"qRNBNdb7hYZIsXGqLhRtgF",
     "type":"MD",
     "hide_input_from_viewers":false,
     "hide_output_from_viewers":false,
     "report_properties":{
      "rowId":"BEnb73dUKI2IkDQb1IAXrD"
     }
    }
   }
  },
  {
   "cell_type":"markdown",
   "source":[
    "Find the correlation between `Age` and all other numerical columns."
   ],
   "attachments":{
    
   },
   "metadata":{
    "datalore":{
     "node_id":"hoSWNjCGEy2lm0h0D2nVSz",
     "type":"MD",
     "hide_input_from_viewers":false,
     "hide_output_from_viewers":false,
     "report_properties":{
      "rowId":"IjBuzn8E85y6IE3XK4AVJo"
     }
    }
   }
  },
  {
   "cell_type":"code",
   "source":[
    "# your code goes here\n",
    "print(df.corr)"
   ],
   "execution_count":40,
   "outputs":[
    {
     "name":"stdout",
     "text":[
      "<bound method DataFrame.corr of        Respondent                      MainBranch Hobbyist  \\\n",
      "0               4  I am a developer by profession       No   \n",
      "1               9  I am a developer by profession      Yes   \n",
      "2              13  I am a developer by profession      Yes   \n",
      "3              16  I am a developer by profession      Yes   \n",
      "4              17  I am a developer by profession      Yes   \n",
      "...           ...                             ...      ...   \n",
      "11393       25136  I am a developer by profession      Yes   \n",
      "11394       25137  I am a developer by profession      Yes   \n",
      "11395       25138  I am a developer by profession      Yes   \n",
      "11396       25141  I am a developer by profession      Yes   \n",
      "11397       25142  I am a developer by profession      Yes   \n",
      "\n",
      "                                             OpenSourcer  \\\n",
      "0                                                  Never   \n",
      "1                             Once a month or more often   \n",
      "2      Less than once a month but more than once per ...   \n",
      "3                                                  Never   \n",
      "4      Less than once a month but more than once per ...   \n",
      "...                                                  ...   \n",
      "11393                                              Never   \n",
      "11394                                              Never   \n",
      "11395                            Less than once per year   \n",
      "11396  Less than once a month but more than once per ...   \n",
      "11397  Less than once a month but more than once per ...   \n",
      "\n",
      "                                              OpenSource          Employment  \\\n",
      "0      The quality of OSS and closed source software ...  Employed full-time   \n",
      "1      The quality of OSS and closed source software ...  Employed full-time   \n",
      "2      OSS is, on average, of HIGHER quality than pro...  Employed full-time   \n",
      "3      The quality of OSS and closed source software ...  Employed full-time   \n",
      "4      The quality of OSS and closed source software ...  Employed full-time   \n",
      "...                                                  ...                 ...   \n",
      "11393  OSS is, on average, of HIGHER quality than pro...  Employed full-time   \n",
      "11394  The quality of OSS and closed source software ...  Employed full-time   \n",
      "11395  The quality of OSS and closed source software ...  Employed full-time   \n",
      "11396  OSS is, on average, of LOWER quality than prop...  Employed full-time   \n",
      "11397  OSS is, on average, of HIGHER quality than pro...  Employed full-time   \n",
      "\n",
      "              Country Student  \\\n",
      "0       United States      No   \n",
      "1         New Zealand      No   \n",
      "2       United States      No   \n",
      "3      United Kingdom      No   \n",
      "4           Australia      No   \n",
      "...               ...     ...   \n",
      "11393   United States      No   \n",
      "11394          Poland      No   \n",
      "11395   United States      No   \n",
      "11396     Switzerland      No   \n",
      "11397  United Kingdom      No   \n",
      "\n",
      "                                                 EdLevel  \\\n",
      "0               Bachelor’s degree (BA, BS, B.Eng., etc.)   \n",
      "1      Some college\/university study without earning ...   \n",
      "2            Master’s degree (MA, MS, M.Eng., MBA, etc.)   \n",
      "3            Master’s degree (MA, MS, M.Eng., MBA, etc.)   \n",
      "4               Bachelor’s degree (BA, BS, B.Eng., etc.)   \n",
      "...                                                  ...   \n",
      "11393        Master’s degree (MA, MS, M.Eng., MBA, etc.)   \n",
      "11394        Master’s degree (MA, MS, M.Eng., MBA, etc.)   \n",
      "11395        Master’s degree (MA, MS, M.Eng., MBA, etc.)   \n",
      "11396  Secondary school (e.g. American high school, G...   \n",
      "11397          Other doctoral degree (Ph.D, Ed.D., etc.)   \n",
      "\n",
      "                                          UndergradMajor  ...  \\\n",
      "0      Computer science, computer engineering, or sof...  ...   \n",
      "1      Computer science, computer engineering, or sof...  ...   \n",
      "2      Computer science, computer engineering, or sof...  ...   \n",
      "3                                                    NaN  ...   \n",
      "4      Computer science, computer engineering, or sof...  ...   \n",
      "...                                                  ...  ...   \n",
      "11393  Computer science, computer engineering, or sof...  ...   \n",
      "11394  Computer science, computer engineering, or sof...  ...   \n",
      "11395  Computer science, computer engineering, or sof...  ...   \n",
      "11396                                                NaN  ...   \n",
      "11397  A natural science (ex. biology, chemistry, phy...  ...   \n",
      "\n",
      "                                  WelcomeChange  \\\n",
      "0       Just as welcome now as I felt last year   \n",
      "1       Just as welcome now as I felt last year   \n",
      "2      Somewhat more welcome now than last year   \n",
      "3       Just as welcome now as I felt last year   \n",
      "4       Just as welcome now as I felt last year   \n",
      "...                                         ...   \n",
      "11393   Just as welcome now as I felt last year   \n",
      "11394     A lot more welcome now than last year   \n",
      "11395     A lot more welcome now than last year   \n",
      "11396  Somewhat less welcome now than last year   \n",
      "11397   Just as welcome now as I felt last year   \n",
      "\n",
      "                                            SONewContent   Age Gender Trans  \\\n",
      "0      Tech articles written by other developers;Indu...  22.0    Man    No   \n",
      "1                                                    NaN  23.0    Man    No   \n",
      "2      Tech articles written by other developers;Cour...  28.0    Man    No   \n",
      "3      Tech articles written by other developers;Indu...  26.0    Man    No   \n",
      "4      Tech articles written by other developers;Indu...  29.0    Man    No   \n",
      "...                                                  ...   ...    ...   ...   \n",
      "11393  Tech articles written by other developers;Cour...  36.0    Man    No   \n",
      "11394  Tech articles written by other developers;Tech...  25.0    Man    No   \n",
      "11395  Tech articles written by other developers;Indu...  34.0    Man    No   \n",
      "11396                                                NaN  25.0    Man    No   \n",
      "11397  Tech articles written by other developers;Tech...  30.0    Man    No   \n",
      "\n",
      "                     Sexuality                              Ethnicity  \\\n",
      "0      Straight \/ Heterosexual           White or of European descent   \n",
      "1                     Bisexual           White or of European descent   \n",
      "2      Straight \/ Heterosexual           White or of European descent   \n",
      "3      Straight \/ Heterosexual           White or of European descent   \n",
      "4      Straight \/ Heterosexual  Hispanic or Latino\/Latina;Multiracial   \n",
      "...                        ...                                    ...   \n",
      "11393  Straight \/ Heterosexual           White or of European descent   \n",
      "11394  Straight \/ Heterosexual           White or of European descent   \n",
      "11395  Straight \/ Heterosexual           White or of European descent   \n",
      "11396  Straight \/ Heterosexual           White or of European descent   \n",
      "11397                 Bisexual           White or of European descent   \n",
      "\n",
      "      Dependents           SurveyLength                  SurveyEase  \n",
      "0             No  Appropriate in length                        Easy  \n",
      "1             No  Appropriate in length  Neither easy nor difficult  \n",
      "2            Yes  Appropriate in length                        Easy  \n",
      "3             No  Appropriate in length  Neither easy nor difficult  \n",
      "4             No  Appropriate in length                        Easy  \n",
      "...          ...                    ...                         ...  \n",
      "11393         No  Appropriate in length                   Difficult  \n",
      "11394         No  Appropriate in length  Neither easy nor difficult  \n",
      "11395        Yes               Too long                        Easy  \n",
      "11396         No  Appropriate in length                        Easy  \n",
      "11397         No  Appropriate in length                        Easy  \n",
      "\n",
      "[11398 rows x 85 columns]>\n"
     ],
     "output_type":"stream"
    }
   ],
   "metadata":{
    "datalore":{
     "node_id":"9D6Ub6IvhJYBekEY67yhIG",
     "type":"CODE",
     "hide_input_from_viewers":false,
     "hide_output_from_viewers":false,
     "report_properties":{
      "rowId":"MirEzQCyNcs1dUibL022I0"
     }
    }
   }
  },
  {
   "cell_type":"markdown",
   "source":[
    "## Authors"
   ],
   "attachments":{
    
   },
   "metadata":{
    "datalore":{
     "node_id":"movSuhhpD2RHAGVQie8igo",
     "type":"MD",
     "hide_input_from_viewers":false,
     "hide_output_from_viewers":false,
     "report_properties":{
      "rowId":"MnNrl1twbGV9YKmsjVcQp3"
     }
    }
   }
  },
  {
   "cell_type":"markdown",
   "source":[
    "Ramesh Sannareddy"
   ],
   "attachments":{
    
   },
   "metadata":{
    "datalore":{
     "node_id":"dYWfKDeLZkh1iTavNfTwxH",
     "type":"MD",
     "hide_input_from_viewers":false,
     "hide_output_from_viewers":false,
     "report_properties":{
      "rowId":"TsS1FoYDwCVDUhsCzlW5x0"
     }
    }
   }
  },
  {
   "cell_type":"markdown",
   "source":[
    "### Other Contributors"
   ],
   "attachments":{
    
   },
   "metadata":{
    "datalore":{
     "node_id":"2ar6yJeXdX6mbiT9DDsOAd",
     "type":"MD",
     "hide_input_from_viewers":false,
     "hide_output_from_viewers":false,
     "report_properties":{
      "rowId":"XH27oPXnJE6yXkheDIfZ2P"
     }
    }
   }
  },
  {
   "cell_type":"markdown",
   "source":[
    "Rav Ahuja"
   ],
   "attachments":{
    
   },
   "metadata":{
    "datalore":{
     "node_id":"eolJ4uBOnCsDUxOx888yVa",
     "type":"MD",
     "hide_input_from_viewers":false,
     "hide_output_from_viewers":false,
     "report_properties":{
      "rowId":"rZw4OcMeoFVXLZiVPGC980"
     }
    }
   }
  },
  {
   "cell_type":"markdown",
   "source":[
    "## Change Log"
   ],
   "attachments":{
    
   },
   "metadata":{
    "datalore":{
     "node_id":"FtH5ZB7yHd7SyTky8wtqBG",
     "type":"MD",
     "hide_input_from_viewers":false,
     "hide_output_from_viewers":false,
     "report_properties":{
      "rowId":"QKSM8wZKRMFz8cNzcWvQFt"
     }
    }
   }
  },
  {
   "cell_type":"markdown",
   "source":[
    "| Date (YYYY-MM-DD) | Version | Changed By        | Change Description                 |\n",
    "| ----------------- | ------- | ----------------- | ---------------------------------- |\n",
    "| 2020-10-17        | 0.1     | Ramesh Sannareddy | Created initial version of the lab |"
   ],
   "attachments":{
    
   },
   "metadata":{
    "datalore":{
     "node_id":"PctupsqNN9D74REWldJiK1",
     "type":"MD",
     "hide_input_from_viewers":false,
     "hide_output_from_viewers":false,
     "report_properties":{
      "rowId":"UejwsBNxXeqDOBPahxfMs9"
     }
    }
   }
  },
  {
   "cell_type":"markdown",
   "source":[
    "Copyright © 2020 IBM Corporation. This notebook and its source code are released under the terms of the [MIT License](https:\/\/cognitiveclass.ai\/mit-license?utm_medium=Exinfluencer&utm_source=Exinfluencer&utm_content=000026UJ&utm_term=10006555&utm_id=NA-SkillsNetwork-Channel-SkillsNetworkCoursesIBMDA0321ENSkillsNetwork21426264-2022-01-01&cm_mmc=Email_Newsletter-\\_-Developer_Ed%2BTech-\\_-WW_WW-\\_-SkillsNetwork-Courses-IBM-DA0321EN-SkillsNetwork-21426264&cm_mmca1=000026UJ&cm_mmca2=10006555&cm_mmca3=M12345678&cvosrc=email.Newsletter.M12345678&cvo_campaign=000026UJ)."
   ],
   "attachments":{
    
   },
   "metadata":{
    "datalore":{
     "node_id":"F03n0vbQAe1Ya4FIJObX9b",
     "type":"MD",
     "hide_input_from_viewers":false,
     "hide_output_from_viewers":false,
     "report_properties":{
      "rowId":"hGJWAlmrch3GY4pCqrH78A"
     }
    }
   }
  }
 ],
 "metadata":{
  "kernelspec":{
   "display_name":"Python",
   "language":"python",
   "name":"python"
  },
  "datalore":{
   "computation_mode":"JUPYTER",
   "package_manager":"pip",
   "base_environment":"default",
   "packages":[
    
   ],
   "report_row_ids":[
    "pXmXZLzukVMssLdqju6H0b",
    "tWlNQSg7Vix4PXAaFrNPdz",
    "iTY24ervOV65zJ6pTAZSNv",
    "PjnR0ExHD0U4VP4QXWbYml",
    "vpFF504MimWsqAXc6aDDoU",
    "Iu7hbMzv0JC1AvrrqaOFvo",
    "Ex7iKeSqurdZ4RrEDnIxVa",
    "L5cbPqWtV57f3h6E1B7mrL",
    "UjtkfM9OsxObKgJwvIOh6Z",
    "emdtLilwY99SNfxlgQw3aQ",
    "AgGEPBIcxcveORcyaF203u",
    "XZzBjGL5qa1Jt78dRVUDeE",
    "CQCUvvpvIS9DOm6TW3yciu",
    "BzUg5sNcHAfpTFoiuzdDAW",
    "dbCw70bwt1GlD6l9211eS2",
    "0EV88mS5caA4pTmXInHB5k",
    "0Lomi40DZBQmpt2tC0icbj",
    "NuGI5iHqu5hnsCXB4LkBNP",
    "zQn4J64VM3u1l899lO8gVi",
    "7ncHe775zLAzwJ2DheE1MQ",
    "iuKy34WYB6RqXhwJ46sw8g",
    "xtBYq7DC5qPWPzPYMugHlA",
    "ACtdKdakfmiPTfuKZkRWr5",
    "HUnc85BX9T09PfpuYMmYg2",
    "0xDYw2cqOSpkRhqozuGiI4",
    "D46f6qVdWMqCKYzaY0WPc8",
    "jiJR5dY6YR2OugXCu304A7",
    "dUzhpWQHNNYvr2djdDi4Kh",
    "HxIJiUFLCozXN9Acsyn0Oy",
    "gic0l0HA6xoLUEzkgtDvDD",
    "XQOnXjLN0jAuTr6u9Oaon5",
    "9Ac8xThcD09RpZ2aYDf65H",
    "osa845X5icTFVOmYBO8xjq",
    "kNvK43iOfdFF2dwF5vO2Gh",
    "MN692VDjxfc4NsiVnIkHYK",
    "EzFwE8jzEJPOdvecCsXHk7",
    "dNzo97yLKxwngg3gSExUCs",
    "HBmm8gidvzQj6lDcfGdsdg",
    "nxBxkzlomgC6yW6Z9lQf1c",
    "mdsThezx86oxrQYVax9v9J",
    "YjcLwHs6CGnZ43Gquycl6A",
    "yx90in5crjGoKKGYFfeqtA",
    "DBc98J2C5QFq7fxibcOGhn",
    "kLOUIAPF5hjFsHDhxtfbKi",
    "BEnb73dUKI2IkDQb1IAXrD",
    "IjBuzn8E85y6IE3XK4AVJo",
    "MirEzQCyNcs1dUibL022I0",
    "MnNrl1twbGV9YKmsjVcQp3",
    "TsS1FoYDwCVDUhsCzlW5x0",
    "XH27oPXnJE6yXkheDIfZ2P",
    "rZw4OcMeoFVXLZiVPGC980",
    "QKSM8wZKRMFz8cNzcWvQFt",
    "UejwsBNxXeqDOBPahxfMs9",
    "hGJWAlmrch3GY4pCqrH78A"
   ],
   "version":2
  }
 },
 "nbformat":4,
 "nbformat_minor":4
}