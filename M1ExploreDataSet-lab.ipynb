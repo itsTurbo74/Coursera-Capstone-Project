{
 "cells":[
  {
   "cell_type":"markdown",
   "source":[
    "<p style=\"text-align:center\">\n",
    "    <a href=\"https:\/\/skills.network\/?utm_medium=Exinfluencer&utm_source=Exinfluencer&utm_content=000026UJ&utm_term=10006555&utm_id=NA-SkillsNetwork-Channel-SkillsNetworkCoursesIBMDA0321ENSkillsNetwork928-2022-01-01\" target=\"_blank\">\n",
    "    <img src=\"https:\/\/cf-courses-data.s3.us.cloud-object-storage.appdomain.cloud\/assets\/logos\/SN_web_lightmode.png\" width=\"200\" alt=\"Skills Network Logo\"  \/>\n",
    "    <\/a>\n",
    "<\/p>"
   ],
   "attachments":{
    
   },
   "metadata":{
    "datalore":{
     "node_id":"yDohqWellrs6r1aisB2L9T",
     "type":"MD",
     "hide_input_from_viewers":false,
     "hide_output_from_viewers":false,
     "report_properties":{
      "rowId":"jdEWid8fxLXvlxIQNEUtZf"
     }
    }
   }
  },
  {
   "cell_type":"markdown",
   "source":[
    "# **Survey Dataset Exploration Lab**"
   ],
   "attachments":{
    
   },
   "metadata":{
    "datalore":{
     "node_id":"8D6Gmg2BrMUV76rHOI69Mm",
     "type":"MD",
     "hide_input_from_viewers":false,
     "hide_output_from_viewers":false,
     "report_properties":{
      "rowId":"8KAc0MTytW7znkyT6KTpvs"
     }
    }
   }
  },
  {
   "cell_type":"markdown",
   "source":[
    "Estimated time needed: **30** minutes"
   ],
   "attachments":{
    
   },
   "metadata":{
    "datalore":{
     "node_id":"CSQx58XqqGcquBfiR8eFaW",
     "type":"MD",
     "hide_input_from_viewers":false,
     "hide_output_from_viewers":false,
     "report_properties":{
      "rowId":"BumcnCRk3VAGhlzi0uypi7"
     }
    }
   }
  },
  {
   "cell_type":"markdown",
   "source":[
    "## Objectives"
   ],
   "attachments":{
    
   },
   "metadata":{
    "datalore":{
     "node_id":"LcSzxFUM5HackKyioNJx7h",
     "type":"MD",
     "hide_input_from_viewers":false,
     "hide_output_from_viewers":false,
     "report_properties":{
      "rowId":"iZAXJYm2wPWk1W23VYzXLG"
     }
    }
   }
  },
  {
   "cell_type":"markdown",
   "source":[
    "After completing this lab you will be able to:"
   ],
   "attachments":{
    
   },
   "metadata":{
    "datalore":{
     "node_id":"jLNtmt5jrmDEAmGra9dRnf",
     "type":"MD",
     "hide_input_from_viewers":false,
     "hide_output_from_viewers":false,
     "report_properties":{
      "rowId":"vuBsKfp1EbHhlbQSKR3ZGk"
     }
    }
   }
  },
  {
   "cell_type":"markdown",
   "source":[
    "-   Load the dataset that will used thru the capstone project.\n",
    "-   Explore the dataset.\n",
    "-   Get familier with the data types."
   ],
   "attachments":{
    
   },
   "metadata":{
    "datalore":{
     "node_id":"JRdmdCOnqwoklLlcuALXML",
     "type":"MD",
     "hide_input_from_viewers":false,
     "hide_output_from_viewers":false,
     "report_properties":{
      "rowId":"MdEt2ZcsOPiFvokcN2SIPQ"
     }
    }
   }
  },
  {
   "cell_type":"markdown",
   "source":[
    "## Load the dataset"
   ],
   "attachments":{
    
   },
   "metadata":{
    "datalore":{
     "node_id":"i2Vy8COK9rgeXo5QE0mnKD",
     "type":"MD",
     "hide_input_from_viewers":false,
     "hide_output_from_viewers":false,
     "report_properties":{
      "rowId":"K8w5P5xIEcPlFnpbKVZCmj"
     }
    }
   }
  },
  {
   "cell_type":"markdown",
   "source":[
    "Import the required libraries."
   ],
   "attachments":{
    
   },
   "metadata":{
    "datalore":{
     "node_id":"dh5Zp2QBlg7PQPa87iT3TA",
     "type":"MD",
     "hide_input_from_viewers":false,
     "hide_output_from_viewers":false,
     "report_properties":{
      "rowId":"lwszfNJ2YabrIyDaRqtKSq"
     }
    }
   }
  },
  {
   "cell_type":"code",
   "source":[
    "import pandas as pd"
   ],
   "execution_count":1,
   "outputs":[
    
   ],
   "metadata":{
    "datalore":{
     "node_id":"Fv6DDUAtp3UptsxF28jce1",
     "type":"CODE",
     "hide_input_from_viewers":false,
     "hide_output_from_viewers":false,
     "report_properties":{
      "rowId":"xu44qymLbyxWwZ8QZE3stu"
     }
    }
   }
  },
  {
   "cell_type":"markdown",
   "source":[
    "The dataset is available on the IBM Cloud at the below url."
   ],
   "attachments":{
    
   },
   "metadata":{
    "datalore":{
     "node_id":"QiH8rFMx8SEFdPKpglDuA6",
     "type":"MD",
     "hide_input_from_viewers":false,
     "hide_output_from_viewers":false,
     "report_properties":{
      "rowId":"ELP2uzkfWrOuu6Y25XSDp3"
     }
    }
   }
  },
  {
   "cell_type":"code",
   "source":[
    "dataset_url = \"https:\/\/cf-courses-data.s3.us.cloud-object-storage.appdomain.cloud\/IBM-DA0321EN-SkillsNetwork\/LargeData\/m1_survey_data.csv\""
   ],
   "execution_count":2,
   "outputs":[
    
   ],
   "metadata":{
    "datalore":{
     "node_id":"o671ypTV0dYMYv5VmqqrQl",
     "type":"CODE",
     "hide_input_from_viewers":false,
     "hide_output_from_viewers":false,
     "report_properties":{
      "rowId":"42H72bKvd9QRhYbWTsazCq"
     }
    }
   }
  },
  {
   "cell_type":"markdown",
   "source":[
    "Load the data available at dataset_url into a dataframe."
   ],
   "attachments":{
    
   },
   "metadata":{
    "datalore":{
     "node_id":"8YXnxoDj0yUxJORBn6WoSt",
     "type":"MD",
     "hide_input_from_viewers":false,
     "hide_output_from_viewers":false,
     "report_properties":{
      "rowId":"0JBbNtlz9LHkdeYS8G7xQG"
     }
    }
   }
  },
  {
   "cell_type":"code",
   "source":[
    "data = pd.read_csv(dataset_url)\n",
    "data.head()"
   ],
   "execution_count":3,
   "outputs":[
    {
     "data":{
      "text\/html":[
       "<div>\n",
       "<style scoped>\n",
       "    .dataframe tbody tr th:only-of-type {\n",
       "        vertical-align: middle;\n",
       "    }\n",
       "\n",
       "    .dataframe tbody tr th {\n",
       "        vertical-align: top;\n",
       "    }\n",
       "\n",
       "    .dataframe thead th {\n",
       "        text-align: right;\n",
       "    }\n",
       "<\/style>\n",
       "<table border=\"1\" class=\"dataframe\">\n",
       "  <thead>\n",
       "    <tr style=\"text-align: right;\">\n",
       "      <th><\/th>\n",
       "      <th>Respondent<\/th>\n",
       "      <th>MainBranch<\/th>\n",
       "      <th>Hobbyist<\/th>\n",
       "      <th>OpenSourcer<\/th>\n",
       "      <th>OpenSource<\/th>\n",
       "      <th>Employment<\/th>\n",
       "      <th>Country<\/th>\n",
       "      <th>Student<\/th>\n",
       "      <th>EdLevel<\/th>\n",
       "      <th>UndergradMajor<\/th>\n",
       "      <th>...<\/th>\n",
       "      <th>WelcomeChange<\/th>\n",
       "      <th>SONewContent<\/th>\n",
       "      <th>Age<\/th>\n",
       "      <th>Gender<\/th>\n",
       "      <th>Trans<\/th>\n",
       "      <th>Sexuality<\/th>\n",
       "      <th>Ethnicity<\/th>\n",
       "      <th>Dependents<\/th>\n",
       "      <th>SurveyLength<\/th>\n",
       "      <th>SurveyEase<\/th>\n",
       "    <\/tr>\n",
       "  <\/thead>\n",
       "  <tbody>\n",
       "    <tr>\n",
       "      <th>0<\/th>\n",
       "      <td>4<\/td>\n",
       "      <td>I am a developer by profession<\/td>\n",
       "      <td>No<\/td>\n",
       "      <td>Never<\/td>\n",
       "      <td>The quality of OSS and closed source software ...<\/td>\n",
       "      <td>Employed full-time<\/td>\n",
       "      <td>United States<\/td>\n",
       "      <td>No<\/td>\n",
       "      <td>Bachelor’s degree (BA, BS, B.Eng., etc.)<\/td>\n",
       "      <td>Computer science, computer engineering, or sof...<\/td>\n",
       "      <td>...<\/td>\n",
       "      <td>Just as welcome now as I felt last year<\/td>\n",
       "      <td>Tech articles written by other developers;Indu...<\/td>\n",
       "      <td>22.0<\/td>\n",
       "      <td>Man<\/td>\n",
       "      <td>No<\/td>\n",
       "      <td>Straight \/ Heterosexual<\/td>\n",
       "      <td>White or of European descent<\/td>\n",
       "      <td>No<\/td>\n",
       "      <td>Appropriate in length<\/td>\n",
       "      <td>Easy<\/td>\n",
       "    <\/tr>\n",
       "    <tr>\n",
       "      <th>1<\/th>\n",
       "      <td>9<\/td>\n",
       "      <td>I am a developer by profession<\/td>\n",
       "      <td>Yes<\/td>\n",
       "      <td>Once a month or more often<\/td>\n",
       "      <td>The quality of OSS and closed source software ...<\/td>\n",
       "      <td>Employed full-time<\/td>\n",
       "      <td>New Zealand<\/td>\n",
       "      <td>No<\/td>\n",
       "      <td>Some college\/university study without earning ...<\/td>\n",
       "      <td>Computer science, computer engineering, or sof...<\/td>\n",
       "      <td>...<\/td>\n",
       "      <td>Just as welcome now as I felt last year<\/td>\n",
       "      <td>NaN<\/td>\n",
       "      <td>23.0<\/td>\n",
       "      <td>Man<\/td>\n",
       "      <td>No<\/td>\n",
       "      <td>Bisexual<\/td>\n",
       "      <td>White or of European descent<\/td>\n",
       "      <td>No<\/td>\n",
       "      <td>Appropriate in length<\/td>\n",
       "      <td>Neither easy nor difficult<\/td>\n",
       "    <\/tr>\n",
       "    <tr>\n",
       "      <th>2<\/th>\n",
       "      <td>13<\/td>\n",
       "      <td>I am a developer by profession<\/td>\n",
       "      <td>Yes<\/td>\n",
       "      <td>Less than once a month but more than once per ...<\/td>\n",
       "      <td>OSS is, on average, of HIGHER quality than pro...<\/td>\n",
       "      <td>Employed full-time<\/td>\n",
       "      <td>United States<\/td>\n",
       "      <td>No<\/td>\n",
       "      <td>Master’s degree (MA, MS, M.Eng., MBA, etc.)<\/td>\n",
       "      <td>Computer science, computer engineering, or sof...<\/td>\n",
       "      <td>...<\/td>\n",
       "      <td>Somewhat more welcome now than last year<\/td>\n",
       "      <td>Tech articles written by other developers;Cour...<\/td>\n",
       "      <td>28.0<\/td>\n",
       "      <td>Man<\/td>\n",
       "      <td>No<\/td>\n",
       "      <td>Straight \/ Heterosexual<\/td>\n",
       "      <td>White or of European descent<\/td>\n",
       "      <td>Yes<\/td>\n",
       "      <td>Appropriate in length<\/td>\n",
       "      <td>Easy<\/td>\n",
       "    <\/tr>\n",
       "    <tr>\n",
       "      <th>3<\/th>\n",
       "      <td>16<\/td>\n",
       "      <td>I am a developer by profession<\/td>\n",
       "      <td>Yes<\/td>\n",
       "      <td>Never<\/td>\n",
       "      <td>The quality of OSS and closed source software ...<\/td>\n",
       "      <td>Employed full-time<\/td>\n",
       "      <td>United Kingdom<\/td>\n",
       "      <td>No<\/td>\n",
       "      <td>Master’s degree (MA, MS, M.Eng., MBA, etc.)<\/td>\n",
       "      <td>NaN<\/td>\n",
       "      <td>...<\/td>\n",
       "      <td>Just as welcome now as I felt last year<\/td>\n",
       "      <td>Tech articles written by other developers;Indu...<\/td>\n",
       "      <td>26.0<\/td>\n",
       "      <td>Man<\/td>\n",
       "      <td>No<\/td>\n",
       "      <td>Straight \/ Heterosexual<\/td>\n",
       "      <td>White or of European descent<\/td>\n",
       "      <td>No<\/td>\n",
       "      <td>Appropriate in length<\/td>\n",
       "      <td>Neither easy nor difficult<\/td>\n",
       "    <\/tr>\n",
       "    <tr>\n",
       "      <th>4<\/th>\n",
       "      <td>17<\/td>\n",
       "      <td>I am a developer by profession<\/td>\n",
       "      <td>Yes<\/td>\n",
       "      <td>Less than once a month but more than once per ...<\/td>\n",
       "      <td>The quality of OSS and closed source software ...<\/td>\n",
       "      <td>Employed full-time<\/td>\n",
       "      <td>Australia<\/td>\n",
       "      <td>No<\/td>\n",
       "      <td>Bachelor’s degree (BA, BS, B.Eng., etc.)<\/td>\n",
       "      <td>Computer science, computer engineering, or sof...<\/td>\n",
       "      <td>...<\/td>\n",
       "      <td>Just as welcome now as I felt last year<\/td>\n",
       "      <td>Tech articles written by other developers;Indu...<\/td>\n",
       "      <td>29.0<\/td>\n",
       "      <td>Man<\/td>\n",
       "      <td>No<\/td>\n",
       "      <td>Straight \/ Heterosexual<\/td>\n",
       "      <td>Hispanic or Latino\/Latina;Multiracial<\/td>\n",
       "      <td>No<\/td>\n",
       "      <td>Appropriate in length<\/td>\n",
       "      <td>Easy<\/td>\n",
       "    <\/tr>\n",
       "  <\/tbody>\n",
       "<\/table>\n",
       "<p>5 rows × 85 columns<\/p>\n",
       "<\/div>"
      ]
     },
     "metadata":{
      
     },
     "output_type":"display_data"
    }
   ],
   "metadata":{
    "datalore":{
     "node_id":"WXztmH5m8SdnBqkmmO4M4R",
     "type":"CODE",
     "hide_input_from_viewers":false,
     "hide_output_from_viewers":false,
     "report_properties":{
      "rowId":"W0DhyqBseoZEmSQfPya4t4"
     }
    }
   }
  },
  {
   "cell_type":"markdown",
   "source":[
    "## Explore the data set"
   ],
   "attachments":{
    
   },
   "metadata":{
    "datalore":{
     "node_id":"7sQoWSPVxwXM4G55TOEj5R",
     "type":"MD",
     "hide_input_from_viewers":false,
     "hide_output_from_viewers":false,
     "report_properties":{
      "rowId":"mm2UaoR3yMClqHmYAFPCzL"
     }
    }
   }
  },
  {
   "cell_type":"markdown",
   "source":[
    "It is a good idea to print the top 5 rows of the dataset to get a feel of how the dataset will look."
   ],
   "attachments":{
    
   },
   "metadata":{
    "datalore":{
     "node_id":"rV1sJkNzFKxYWevV5HUqSu",
     "type":"MD",
     "hide_input_from_viewers":false,
     "hide_output_from_viewers":false,
     "report_properties":{
      "rowId":"rkzOw2MLrtjhAtCq8ZWrZK"
     }
    }
   }
  },
  {
   "cell_type":"markdown",
   "source":[
    "Display the top 5 rows and columns from your dataset."
   ],
   "attachments":{
    
   },
   "metadata":{
    "datalore":{
     "node_id":"qikgfxQRVnOHjB7kWvDxy3",
     "type":"MD",
     "hide_input_from_viewers":false,
     "hide_output_from_viewers":false,
     "report_properties":{
      "rowId":"5OGsXK45OIkYYzZVkd8coC"
     }
    }
   }
  },
  {
   "cell_type":"code",
   "source":[
    "data.head()"
   ],
   "execution_count":4,
   "outputs":[
    {
     "data":{
      "text\/html":[
       "<div>\n",
       "<style scoped>\n",
       "    .dataframe tbody tr th:only-of-type {\n",
       "        vertical-align: middle;\n",
       "    }\n",
       "\n",
       "    .dataframe tbody tr th {\n",
       "        vertical-align: top;\n",
       "    }\n",
       "\n",
       "    .dataframe thead th {\n",
       "        text-align: right;\n",
       "    }\n",
       "<\/style>\n",
       "<table border=\"1\" class=\"dataframe\">\n",
       "  <thead>\n",
       "    <tr style=\"text-align: right;\">\n",
       "      <th><\/th>\n",
       "      <th>Respondent<\/th>\n",
       "      <th>MainBranch<\/th>\n",
       "      <th>Hobbyist<\/th>\n",
       "      <th>OpenSourcer<\/th>\n",
       "      <th>OpenSource<\/th>\n",
       "      <th>Employment<\/th>\n",
       "      <th>Country<\/th>\n",
       "      <th>Student<\/th>\n",
       "      <th>EdLevel<\/th>\n",
       "      <th>UndergradMajor<\/th>\n",
       "      <th>...<\/th>\n",
       "      <th>WelcomeChange<\/th>\n",
       "      <th>SONewContent<\/th>\n",
       "      <th>Age<\/th>\n",
       "      <th>Gender<\/th>\n",
       "      <th>Trans<\/th>\n",
       "      <th>Sexuality<\/th>\n",
       "      <th>Ethnicity<\/th>\n",
       "      <th>Dependents<\/th>\n",
       "      <th>SurveyLength<\/th>\n",
       "      <th>SurveyEase<\/th>\n",
       "    <\/tr>\n",
       "  <\/thead>\n",
       "  <tbody>\n",
       "    <tr>\n",
       "      <th>0<\/th>\n",
       "      <td>4<\/td>\n",
       "      <td>I am a developer by profession<\/td>\n",
       "      <td>No<\/td>\n",
       "      <td>Never<\/td>\n",
       "      <td>The quality of OSS and closed source software ...<\/td>\n",
       "      <td>Employed full-time<\/td>\n",
       "      <td>United States<\/td>\n",
       "      <td>No<\/td>\n",
       "      <td>Bachelor’s degree (BA, BS, B.Eng., etc.)<\/td>\n",
       "      <td>Computer science, computer engineering, or sof...<\/td>\n",
       "      <td>...<\/td>\n",
       "      <td>Just as welcome now as I felt last year<\/td>\n",
       "      <td>Tech articles written by other developers;Indu...<\/td>\n",
       "      <td>22.0<\/td>\n",
       "      <td>Man<\/td>\n",
       "      <td>No<\/td>\n",
       "      <td>Straight \/ Heterosexual<\/td>\n",
       "      <td>White or of European descent<\/td>\n",
       "      <td>No<\/td>\n",
       "      <td>Appropriate in length<\/td>\n",
       "      <td>Easy<\/td>\n",
       "    <\/tr>\n",
       "    <tr>\n",
       "      <th>1<\/th>\n",
       "      <td>9<\/td>\n",
       "      <td>I am a developer by profession<\/td>\n",
       "      <td>Yes<\/td>\n",
       "      <td>Once a month or more often<\/td>\n",
       "      <td>The quality of OSS and closed source software ...<\/td>\n",
       "      <td>Employed full-time<\/td>\n",
       "      <td>New Zealand<\/td>\n",
       "      <td>No<\/td>\n",
       "      <td>Some college\/university study without earning ...<\/td>\n",
       "      <td>Computer science, computer engineering, or sof...<\/td>\n",
       "      <td>...<\/td>\n",
       "      <td>Just as welcome now as I felt last year<\/td>\n",
       "      <td>NaN<\/td>\n",
       "      <td>23.0<\/td>\n",
       "      <td>Man<\/td>\n",
       "      <td>No<\/td>\n",
       "      <td>Bisexual<\/td>\n",
       "      <td>White or of European descent<\/td>\n",
       "      <td>No<\/td>\n",
       "      <td>Appropriate in length<\/td>\n",
       "      <td>Neither easy nor difficult<\/td>\n",
       "    <\/tr>\n",
       "    <tr>\n",
       "      <th>2<\/th>\n",
       "      <td>13<\/td>\n",
       "      <td>I am a developer by profession<\/td>\n",
       "      <td>Yes<\/td>\n",
       "      <td>Less than once a month but more than once per ...<\/td>\n",
       "      <td>OSS is, on average, of HIGHER quality than pro...<\/td>\n",
       "      <td>Employed full-time<\/td>\n",
       "      <td>United States<\/td>\n",
       "      <td>No<\/td>\n",
       "      <td>Master’s degree (MA, MS, M.Eng., MBA, etc.)<\/td>\n",
       "      <td>Computer science, computer engineering, or sof...<\/td>\n",
       "      <td>...<\/td>\n",
       "      <td>Somewhat more welcome now than last year<\/td>\n",
       "      <td>Tech articles written by other developers;Cour...<\/td>\n",
       "      <td>28.0<\/td>\n",
       "      <td>Man<\/td>\n",
       "      <td>No<\/td>\n",
       "      <td>Straight \/ Heterosexual<\/td>\n",
       "      <td>White or of European descent<\/td>\n",
       "      <td>Yes<\/td>\n",
       "      <td>Appropriate in length<\/td>\n",
       "      <td>Easy<\/td>\n",
       "    <\/tr>\n",
       "    <tr>\n",
       "      <th>3<\/th>\n",
       "      <td>16<\/td>\n",
       "      <td>I am a developer by profession<\/td>\n",
       "      <td>Yes<\/td>\n",
       "      <td>Never<\/td>\n",
       "      <td>The quality of OSS and closed source software ...<\/td>\n",
       "      <td>Employed full-time<\/td>\n",
       "      <td>United Kingdom<\/td>\n",
       "      <td>No<\/td>\n",
       "      <td>Master’s degree (MA, MS, M.Eng., MBA, etc.)<\/td>\n",
       "      <td>NaN<\/td>\n",
       "      <td>...<\/td>\n",
       "      <td>Just as welcome now as I felt last year<\/td>\n",
       "      <td>Tech articles written by other developers;Indu...<\/td>\n",
       "      <td>26.0<\/td>\n",
       "      <td>Man<\/td>\n",
       "      <td>No<\/td>\n",
       "      <td>Straight \/ Heterosexual<\/td>\n",
       "      <td>White or of European descent<\/td>\n",
       "      <td>No<\/td>\n",
       "      <td>Appropriate in length<\/td>\n",
       "      <td>Neither easy nor difficult<\/td>\n",
       "    <\/tr>\n",
       "    <tr>\n",
       "      <th>4<\/th>\n",
       "      <td>17<\/td>\n",
       "      <td>I am a developer by profession<\/td>\n",
       "      <td>Yes<\/td>\n",
       "      <td>Less than once a month but more than once per ...<\/td>\n",
       "      <td>The quality of OSS and closed source software ...<\/td>\n",
       "      <td>Employed full-time<\/td>\n",
       "      <td>Australia<\/td>\n",
       "      <td>No<\/td>\n",
       "      <td>Bachelor’s degree (BA, BS, B.Eng., etc.)<\/td>\n",
       "      <td>Computer science, computer engineering, or sof...<\/td>\n",
       "      <td>...<\/td>\n",
       "      <td>Just as welcome now as I felt last year<\/td>\n",
       "      <td>Tech articles written by other developers;Indu...<\/td>\n",
       "      <td>29.0<\/td>\n",
       "      <td>Man<\/td>\n",
       "      <td>No<\/td>\n",
       "      <td>Straight \/ Heterosexual<\/td>\n",
       "      <td>Hispanic or Latino\/Latina;Multiracial<\/td>\n",
       "      <td>No<\/td>\n",
       "      <td>Appropriate in length<\/td>\n",
       "      <td>Easy<\/td>\n",
       "    <\/tr>\n",
       "  <\/tbody>\n",
       "<\/table>\n",
       "<p>5 rows × 85 columns<\/p>\n",
       "<\/div>"
      ]
     },
     "metadata":{
      
     },
     "output_type":"display_data"
    }
   ],
   "metadata":{
    "datalore":{
     "node_id":"kD8noaRPp8YI1ESoOushXA",
     "type":"CODE",
     "hide_input_from_viewers":false,
     "hide_output_from_viewers":false,
     "report_properties":{
      "rowId":"qJnjJchAWDw8dc6Lzf1UvM"
     }
    }
   }
  },
  {
   "cell_type":"markdown",
   "source":[
    "## Find out the number of rows and columns"
   ],
   "attachments":{
    
   },
   "metadata":{
    "datalore":{
     "node_id":"LGEzIvU8FwiWNEDlaVi9vC",
     "type":"MD",
     "hide_input_from_viewers":false,
     "hide_output_from_viewers":false,
     "report_properties":{
      "rowId":"2TdmHKNotgqTgJqM7PyMwm"
     }
    }
   }
  },
  {
   "cell_type":"markdown",
   "source":[
    "Start by exploring the numbers of rows and columns of data in the dataset."
   ],
   "attachments":{
    
   },
   "metadata":{
    "datalore":{
     "node_id":"QPule2zB9awl6kXcD6hcIM",
     "type":"MD",
     "hide_input_from_viewers":false,
     "hide_output_from_viewers":false,
     "report_properties":{
      "rowId":"fQHwllfjKake77bBQ3CslU"
     }
    }
   }
  },
  {
   "cell_type":"markdown",
   "source":[
    "Print the number of rows in the dataset."
   ],
   "attachments":{
    
   },
   "metadata":{
    "datalore":{
     "node_id":"ygYCD9VFR8qOjxP8dv4rRd",
     "type":"MD",
     "hide_input_from_viewers":false,
     "hide_output_from_viewers":false,
     "report_properties":{
      "rowId":"LfqWTVZWdTTo3q2FbmOGKS"
     }
    }
   }
  },
  {
   "cell_type":"code",
   "source":[
    "print(\"No of rows :\", len(data.index))"
   ],
   "execution_count":10,
   "outputs":[
    {
     "name":"stdout",
     "text":[
      "No of rows : 11552\n"
     ],
     "output_type":"stream"
    }
   ],
   "metadata":{
    "datalore":{
     "node_id":"1bGvulxRq2PQ5ZMqkBHbiW",
     "type":"CODE",
     "hide_input_from_viewers":false,
     "hide_output_from_viewers":false,
     "report_properties":{
      "rowId":"64oz1qlhKgNkmln0bZKyED"
     }
    }
   }
  },
  {
   "cell_type":"markdown",
   "source":[
    "Print the number of columns in the dataset."
   ],
   "attachments":{
    
   },
   "metadata":{
    "datalore":{
     "node_id":"RMLSpEHp1L1ENCZMNRmJqa",
     "type":"MD",
     "hide_input_from_viewers":false,
     "hide_output_from_viewers":false,
     "report_properties":{
      "rowId":"9NrT9xFm0Taj0yxqBVwDyb"
     }
    }
   }
  },
  {
   "cell_type":"code",
   "source":[
    "print(\"No of Columns: \", len(data.columns))"
   ],
   "execution_count":11,
   "outputs":[
    {
     "name":"stdout",
     "text":[
      "No of Columns:  85\n"
     ],
     "output_type":"stream"
    }
   ],
   "metadata":{
    "datalore":{
     "node_id":"94MSm2E8RRzNcDCA9SKX7J",
     "type":"CODE",
     "hide_input_from_viewers":false,
     "hide_output_from_viewers":false,
     "report_properties":{
      "rowId":"dJlfyfQkQByllQWmE61303"
     }
    }
   }
  },
  {
   "cell_type":"markdown",
   "source":[
    "## Identify the data types of each column"
   ],
   "attachments":{
    
   },
   "metadata":{
    "datalore":{
     "node_id":"IsUDwCDXi26nCCrj5R9Oq5",
     "type":"MD",
     "hide_input_from_viewers":false,
     "hide_output_from_viewers":false,
     "report_properties":{
      "rowId":"KZuS57aDwr8cYyaHYE6JgA"
     }
    }
   }
  },
  {
   "cell_type":"markdown",
   "source":[
    "Explore the dataset and identify the data types of each column."
   ],
   "attachments":{
    
   },
   "metadata":{
    "datalore":{
     "node_id":"JWupg9PPu5rIDwEJSE8D0m",
     "type":"MD",
     "hide_input_from_viewers":false,
     "hide_output_from_viewers":false,
     "report_properties":{
      "rowId":"oSq5gwfBv6mOlnkVVobveU"
     }
    }
   }
  },
  {
   "cell_type":"markdown",
   "source":[
    "Print the datatype of all columns."
   ],
   "attachments":{
    
   },
   "metadata":{
    "datalore":{
     "node_id":"6AUrwZlZzC6TVBB1BVm5lc",
     "type":"MD",
     "hide_input_from_viewers":false,
     "hide_output_from_viewers":false,
     "report_properties":{
      "rowId":"l7KQIuOVBELp1SJLSFm1St"
     }
    }
   }
  },
  {
   "cell_type":"code",
   "source":[
    "data.dtypes"
   ],
   "execution_count":12,
   "outputs":[
    {
     "data":{
      "text\/html":[
       "<pre>Respondent       int64\n",
       "MainBranch      object\n",
       "Hobbyist        object\n",
       "OpenSourcer     object\n",
       "OpenSource      object\n",
       "                 ...  \n",
       "Sexuality       object\n",
       "Ethnicity       object\n",
       "Dependents      object\n",
       "SurveyLength    object\n",
       "SurveyEase      object\n",
       "Length: 85, dtype: object<\/pre>"
      ]
     },
     "metadata":{
      
     },
     "output_type":"display_data"
    }
   ],
   "metadata":{
    "datalore":{
     "node_id":"xjJHKOaK4tZz4NVQqd6d3f",
     "type":"CODE",
     "hide_input_from_viewers":false,
     "hide_output_from_viewers":false,
     "report_properties":{
      "rowId":"LHqfFTUO9wTF2fNU6f3Ajr"
     }
    }
   }
  },
  {
   "cell_type":"markdown",
   "source":[
    "Print the mean age of the survey participants."
   ],
   "attachments":{
    
   },
   "metadata":{
    "datalore":{
     "node_id":"MJuikK0pQDijpl1mJSySqx",
     "type":"MD",
     "hide_input_from_viewers":false,
     "hide_output_from_viewers":false,
     "report_properties":{
      "rowId":"LK6VRQcPOOVszbmRnwhVrc"
     }
    }
   }
  },
  {
   "cell_type":"code",
   "source":[
    "data['Age'].mean()"
   ],
   "execution_count":15,
   "outputs":[
    {
     "data":{
      "text\/plain":[
       "30.77239449133718"
      ]
     },
     "metadata":{
      
     },
     "output_type":"display_data"
    }
   ],
   "metadata":{
    "datalore":{
     "node_id":"28duaJ0z4pVv7zLPWw1HeP",
     "type":"CODE",
     "hide_input_from_viewers":false,
     "hide_output_from_viewers":false,
     "report_properties":{
      "rowId":"65qTWlvF36IhxZ97ST4g0B"
     }
    }
   }
  },
  {
   "cell_type":"markdown",
   "source":[
    "The dataset is the result of a world wide survey. Print how many unique countries are there in the Country column."
   ],
   "attachments":{
    
   },
   "metadata":{
    "datalore":{
     "node_id":"r5bEDTfNtYwRFmOO5nD6GT",
     "type":"MD",
     "hide_input_from_viewers":false,
     "hide_output_from_viewers":false,
     "report_properties":{
      "rowId":"bFzwC8O1NwiVCM6G7Ckw0C"
     }
    }
   }
  },
  {
   "cell_type":"code",
   "source":[
    "print(\"The Number of Unique Countries are\",len(data['Country'].unique()))"
   ],
   "execution_count":19,
   "outputs":[
    {
     "name":"stdout",
     "text":[
      "The Number of Unique Countries are 135\n"
     ],
     "output_type":"stream"
    }
   ],
   "metadata":{
    "datalore":{
     "node_id":"ROf3NIfLVVL6vzvPtVMySA",
     "type":"CODE",
     "hide_input_from_viewers":false,
     "hide_output_from_viewers":false,
     "report_properties":{
      "rowId":"EjiSQvAIaSr1DUj2fS5Zit"
     }
    }
   }
  },
  {
   "cell_type":"markdown",
   "source":[
    "## Authors"
   ],
   "attachments":{
    
   },
   "metadata":{
    "datalore":{
     "node_id":"vT0CC63LxHN26kggqIZea0",
     "type":"MD",
     "hide_input_from_viewers":false,
     "hide_output_from_viewers":false,
     "report_properties":{
      "rowId":"L4MJW7KwaHNjl3E1zlXxm4"
     }
    }
   }
  },
  {
   "cell_type":"markdown",
   "source":[
    "Ramesh Sannareddy"
   ],
   "attachments":{
    
   },
   "metadata":{
    "datalore":{
     "node_id":"w1B0HxfUJb3odn4b542NSs",
     "type":"MD",
     "hide_input_from_viewers":false,
     "hide_output_from_viewers":false,
     "report_properties":{
      "rowId":"CPPY2qtrE7kXVPC8x7SbS4"
     }
    }
   }
  },
  {
   "cell_type":"markdown",
   "source":[
    "### Other Contributors"
   ],
   "attachments":{
    
   },
   "metadata":{
    "datalore":{
     "node_id":"oltq4EUxKX6K0yiURnnXGO",
     "type":"MD",
     "hide_input_from_viewers":false,
     "hide_output_from_viewers":false,
     "report_properties":{
      "rowId":"4uaICE7R2nio0WOSKBZLDe"
     }
    }
   }
  },
  {
   "cell_type":"markdown",
   "source":[
    "Rav Ahuja"
   ],
   "attachments":{
    
   },
   "metadata":{
    "datalore":{
     "node_id":"8xpGqf5i8tu9Styudgjntm",
     "type":"MD",
     "hide_input_from_viewers":false,
     "hide_output_from_viewers":false,
     "report_properties":{
      "rowId":"yPCYIWa4m4iTonWxQUIc5e"
     }
    }
   }
  },
  {
   "cell_type":"markdown",
   "source":[
    "## Change Log"
   ],
   "attachments":{
    
   },
   "metadata":{
    "datalore":{
     "node_id":"rH37Os0GOrmWR1AJevqyNV",
     "type":"MD",
     "hide_input_from_viewers":false,
     "hide_output_from_viewers":false,
     "report_properties":{
      "rowId":"fqfTqTNnXn58yWzwd6oyzk"
     }
    }
   }
  },
  {
   "cell_type":"markdown",
   "source":[
    "| Date (YYYY-MM-DD) | Version | Changed By        | Change Description                 |\n",
    "| ----------------- | ------- | ----------------- | ---------------------------------- |\n",
    "| 2020-10-17        | 0.1     | Ramesh Sannareddy | Created initial version of the lab |"
   ],
   "attachments":{
    
   },
   "metadata":{
    "datalore":{
     "node_id":"iPKDM4U2FMmMjLhMLAJFUp",
     "type":"MD",
     "hide_input_from_viewers":false,
     "hide_output_from_viewers":false,
     "report_properties":{
      "rowId":"MjE3m1BHFKLqczLVL1zusW"
     }
    }
   }
  },
  {
   "cell_type":"markdown",
   "source":[
    " Copyright © 2020 IBM Corporation. This notebook and its source code are released under the terms of the [MIT License](https:\/\/cognitiveclass.ai\/mit-license?utm_medium=Exinfluencer&utm_source=Exinfluencer&utm_content=000026UJ&utm_term=10006555&utm_id=NA-SkillsNetwork-Channel-SkillsNetworkCoursesIBMDA0321ENSkillsNetwork928-2022-01-01&cm_mmc=Email_Newsletter-_-Developer_Ed%2BTech-_-WW_WW-_-SkillsNetwork-Courses-IBM-DA0321EN-SkillsNetwork-21426264&cm_mmca1=000026UJ&cm_mmca2=10006555&cm_mmca3=M12345678&cvosrc=email.Newsletter.M12345678&cvo_campaign=000026UJ)."
   ],
   "attachments":{
    
   },
   "metadata":{
    "datalore":{
     "node_id":"P5q6Ahnuyvj3sNr1OFYzLd",
     "type":"MD",
     "hide_input_from_viewers":false,
     "hide_output_from_viewers":false,
     "report_properties":{
      "rowId":"0xYhzi0QnBNCkCM5F6t1w9"
     }
    }
   }
  }
 ],
 "metadata":{
  "kernelspec":{
   "display_name":"Python",
   "language":"python",
   "name":"python"
  },
  "datalore":{
   "computation_mode":"JUPYTER",
   "package_manager":"pip",
   "base_environment":"default",
   "packages":[
    
   ],
   "report_row_ids":[
    "jdEWid8fxLXvlxIQNEUtZf",
    "8KAc0MTytW7znkyT6KTpvs",
    "BumcnCRk3VAGhlzi0uypi7",
    "iZAXJYm2wPWk1W23VYzXLG",
    "vuBsKfp1EbHhlbQSKR3ZGk",
    "MdEt2ZcsOPiFvokcN2SIPQ",
    "K8w5P5xIEcPlFnpbKVZCmj",
    "lwszfNJ2YabrIyDaRqtKSq",
    "xu44qymLbyxWwZ8QZE3stu",
    "ELP2uzkfWrOuu6Y25XSDp3",
    "42H72bKvd9QRhYbWTsazCq",
    "0JBbNtlz9LHkdeYS8G7xQG",
    "W0DhyqBseoZEmSQfPya4t4",
    "mm2UaoR3yMClqHmYAFPCzL",
    "rkzOw2MLrtjhAtCq8ZWrZK",
    "5OGsXK45OIkYYzZVkd8coC",
    "qJnjJchAWDw8dc6Lzf1UvM",
    "2TdmHKNotgqTgJqM7PyMwm",
    "fQHwllfjKake77bBQ3CslU",
    "LfqWTVZWdTTo3q2FbmOGKS",
    "64oz1qlhKgNkmln0bZKyED",
    "9NrT9xFm0Taj0yxqBVwDyb",
    "dJlfyfQkQByllQWmE61303",
    "KZuS57aDwr8cYyaHYE6JgA",
    "oSq5gwfBv6mOlnkVVobveU",
    "l7KQIuOVBELp1SJLSFm1St",
    "LHqfFTUO9wTF2fNU6f3Ajr",
    "LK6VRQcPOOVszbmRnwhVrc",
    "65qTWlvF36IhxZ97ST4g0B",
    "bFzwC8O1NwiVCM6G7Ckw0C",
    "EjiSQvAIaSr1DUj2fS5Zit",
    "L4MJW7KwaHNjl3E1zlXxm4",
    "CPPY2qtrE7kXVPC8x7SbS4",
    "4uaICE7R2nio0WOSKBZLDe",
    "yPCYIWa4m4iTonWxQUIc5e",
    "fqfTqTNnXn58yWzwd6oyzk",
    "MjE3m1BHFKLqczLVL1zusW",
    "0xYhzi0QnBNCkCM5F6t1w9"
   ],
   "version":2
  }
 },
 "nbformat":4,
 "nbformat_minor":4
}