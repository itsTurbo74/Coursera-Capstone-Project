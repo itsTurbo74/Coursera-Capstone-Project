{
 "cells":[
  {
   "cell_type":"markdown",
   "source":[
    "<p style=\"text-align:center\">\n",
    "    <a href=\"https:\/\/skills.network\/?utm_medium=Exinfluencer&utm_source=Exinfluencer&utm_content=000026UJ&utm_term=10006555&utm_id=NA-SkillsNetwork-Channel-SkillsNetworkCoursesIBMDA0321ENSkillsNetwork928-2022-01-01\" target=\"_blank\">\n",
    "    <img src=\"https:\/\/cf-courses-data.s3.us.cloud-object-storage.appdomain.cloud\/assets\/logos\/SN_web_lightmode.png\" width=\"200\" alt=\"Skills Network Logo\"  \/>\n",
    "    <\/a>\n",
    "<\/p>"
   ],
   "attachments":{
    
   },
   "metadata":{
    "datalore":{
     "node_id":"VqOrQmYKqb6fh59koV3u8s",
     "type":"MD",
     "hide_input_from_viewers":false,
     "hide_output_from_viewers":false,
     "report_properties":{
      "rowId":"dV37pqMWw37iks10Wy3HGh"
     }
    }
   }
  },
  {
   "cell_type":"markdown",
   "source":[
    "# **Data Wrangling Lab**"
   ],
   "attachments":{
    
   },
   "metadata":{
    "datalore":{
     "node_id":"uuWagC1HOBUo6cFqBUcdv7",
     "type":"MD",
     "hide_input_from_viewers":false,
     "hide_output_from_viewers":false,
     "report_properties":{
      "rowId":"HPXN990ALBr4X3qIiChHUd"
     }
    }
   }
  },
  {
   "cell_type":"markdown",
   "source":[
    "Estimated time needed: **45 to 60** minutes"
   ],
   "attachments":{
    
   },
   "metadata":{
    "datalore":{
     "node_id":"LplpTYLU21sEsLs2QEzeoT",
     "type":"MD",
     "hide_input_from_viewers":false,
     "hide_output_from_viewers":false,
     "report_properties":{
      "rowId":"DZ0pQpRP6b7bQFmBKjae1R"
     }
    }
   }
  },
  {
   "cell_type":"markdown",
   "source":[
    "In this assignment you will be performing data wrangling."
   ],
   "attachments":{
    
   },
   "metadata":{
    "datalore":{
     "node_id":"hrlvbkZg3zUxt5LbeUBd2U",
     "type":"MD",
     "hide_input_from_viewers":false,
     "hide_output_from_viewers":false,
     "report_properties":{
      "rowId":"zsuPI0ckeewVS7NegoNnnt"
     }
    }
   }
  },
  {
   "cell_type":"markdown",
   "source":[
    "## Objectives"
   ],
   "attachments":{
    
   },
   "metadata":{
    "datalore":{
     "node_id":"z0xMwQc5Yyh8aI8SqBenH7",
     "type":"MD",
     "hide_input_from_viewers":false,
     "hide_output_from_viewers":false,
     "report_properties":{
      "rowId":"gjwY1cVgH40Q9W1beIfIWs"
     }
    }
   }
  },
  {
   "cell_type":"markdown",
   "source":[
    "In this lab you will perform the following:"
   ],
   "attachments":{
    
   },
   "metadata":{
    "datalore":{
     "node_id":"j0qe2lnLgLZGeET9p7Fcqs",
     "type":"MD",
     "hide_input_from_viewers":false,
     "hide_output_from_viewers":false,
     "report_properties":{
      "rowId":"1AoTHpohRRfL8Cv7nSE2um"
     }
    }
   }
  },
  {
   "cell_type":"markdown",
   "source":[
    "-   Identify duplicate values in the dataset.\n",
    "\n",
    "-   Remove duplicate values from the dataset.\n",
    "\n",
    "-   Identify missing values in the dataset.\n",
    "\n",
    "-   Impute the missing values in the dataset.\n",
    "\n",
    "-   Normalize data in the dataset."
   ],
   "attachments":{
    
   },
   "metadata":{
    "datalore":{
     "node_id":"B9sNkm8sPqyLlPh5rqvJaB",
     "type":"MD",
     "hide_input_from_viewers":false,
     "hide_output_from_viewers":false,
     "report_properties":{
      "rowId":"WDDly9UkSPX007RNu57DEf"
     }
    }
   }
  },
  {
   "cell_type":"markdown",
   "source":[
    "<hr>"
   ],
   "attachments":{
    
   },
   "metadata":{
    "datalore":{
     "node_id":"knOEq5iqeYIEGPXWlbIfai",
     "type":"MD",
     "hide_input_from_viewers":false,
     "hide_output_from_viewers":false,
     "report_properties":{
      "rowId":"vpnso1pxqLPJEayFOFzNAd"
     }
    }
   }
  },
  {
   "cell_type":"markdown",
   "source":[
    "## Hands on Lab"
   ],
   "attachments":{
    
   },
   "metadata":{
    "datalore":{
     "node_id":"2iwVnCS7DE8BdRsnyTKZ0w",
     "type":"MD",
     "hide_input_from_viewers":false,
     "hide_output_from_viewers":false,
     "report_properties":{
      "rowId":"7MkMHXg4kBuKGb1kxyEwPN"
     }
    }
   }
  },
  {
   "cell_type":"markdown",
   "source":[
    "Import pandas module."
   ],
   "attachments":{
    
   },
   "metadata":{
    "datalore":{
     "node_id":"I6xy4ofop8FCFNBD3CyhbN",
     "type":"MD",
     "hide_input_from_viewers":false,
     "hide_output_from_viewers":false,
     "report_properties":{
      "rowId":"docXnlzYCxic95x6E0UqAd"
     }
    }
   }
  },
  {
   "cell_type":"code",
   "source":[
    "import pandas as pd"
   ],
   "execution_count":3,
   "outputs":[
    
   ],
   "metadata":{
    "datalore":{
     "node_id":"Gqlg58HP7u9ps2mktJ2X4K",
     "type":"CODE",
     "hide_input_from_viewers":false,
     "hide_output_from_viewers":false,
     "report_properties":{
      "rowId":"rk5oUbiQ23JHOmuir9lsJV"
     }
    }
   }
  },
  {
   "cell_type":"markdown",
   "source":[
    "Load the dataset into a dataframe."
   ],
   "attachments":{
    
   },
   "metadata":{
    "datalore":{
     "node_id":"wBjQyD2QoqTJC8XqLZCPQL",
     "type":"MD",
     "hide_input_from_viewers":false,
     "hide_output_from_viewers":false,
     "report_properties":{
      "rowId":"W3x43zOq5yb6XmgJnXoD1k"
     }
    }
   }
  },
  {
   "cell_type":"code",
   "source":[
    "df = pd.read_csv(\"https:\/\/cf-courses-data.s3.us.cloud-object-storage.appdomain.cloud\/IBM-DA0321EN-SkillsNetwork\/LargeData\/m1_survey_data.csv\")\n",
    "df.head()"
   ],
   "execution_count":4,
   "outputs":[
    {
     "data":{
      "text\/html":[
       "<div>\n",
       "<style scoped>\n",
       "    .dataframe tbody tr th:only-of-type {\n",
       "        vertical-align: middle;\n",
       "    }\n",
       "\n",
       "    .dataframe tbody tr th {\n",
       "        vertical-align: top;\n",
       "    }\n",
       "\n",
       "    .dataframe thead th {\n",
       "        text-align: right;\n",
       "    }\n",
       "<\/style>\n",
       "<table border=\"1\" class=\"dataframe\">\n",
       "  <thead>\n",
       "    <tr style=\"text-align: right;\">\n",
       "      <th><\/th>\n",
       "      <th>Respondent<\/th>\n",
       "      <th>MainBranch<\/th>\n",
       "      <th>Hobbyist<\/th>\n",
       "      <th>OpenSourcer<\/th>\n",
       "      <th>OpenSource<\/th>\n",
       "      <th>Employment<\/th>\n",
       "      <th>Country<\/th>\n",
       "      <th>Student<\/th>\n",
       "      <th>EdLevel<\/th>\n",
       "      <th>UndergradMajor<\/th>\n",
       "      <th>...<\/th>\n",
       "      <th>WelcomeChange<\/th>\n",
       "      <th>SONewContent<\/th>\n",
       "      <th>Age<\/th>\n",
       "      <th>Gender<\/th>\n",
       "      <th>Trans<\/th>\n",
       "      <th>Sexuality<\/th>\n",
       "      <th>Ethnicity<\/th>\n",
       "      <th>Dependents<\/th>\n",
       "      <th>SurveyLength<\/th>\n",
       "      <th>SurveyEase<\/th>\n",
       "    <\/tr>\n",
       "  <\/thead>\n",
       "  <tbody>\n",
       "    <tr>\n",
       "      <th>0<\/th>\n",
       "      <td>4<\/td>\n",
       "      <td>I am a developer by profession<\/td>\n",
       "      <td>No<\/td>\n",
       "      <td>Never<\/td>\n",
       "      <td>The quality of OSS and closed source software ...<\/td>\n",
       "      <td>Employed full-time<\/td>\n",
       "      <td>United States<\/td>\n",
       "      <td>No<\/td>\n",
       "      <td>Bachelor’s degree (BA, BS, B.Eng., etc.)<\/td>\n",
       "      <td>Computer science, computer engineering, or sof...<\/td>\n",
       "      <td>...<\/td>\n",
       "      <td>Just as welcome now as I felt last year<\/td>\n",
       "      <td>Tech articles written by other developers;Indu...<\/td>\n",
       "      <td>22.0<\/td>\n",
       "      <td>Man<\/td>\n",
       "      <td>No<\/td>\n",
       "      <td>Straight \/ Heterosexual<\/td>\n",
       "      <td>White or of European descent<\/td>\n",
       "      <td>No<\/td>\n",
       "      <td>Appropriate in length<\/td>\n",
       "      <td>Easy<\/td>\n",
       "    <\/tr>\n",
       "    <tr>\n",
       "      <th>1<\/th>\n",
       "      <td>9<\/td>\n",
       "      <td>I am a developer by profession<\/td>\n",
       "      <td>Yes<\/td>\n",
       "      <td>Once a month or more often<\/td>\n",
       "      <td>The quality of OSS and closed source software ...<\/td>\n",
       "      <td>Employed full-time<\/td>\n",
       "      <td>New Zealand<\/td>\n",
       "      <td>No<\/td>\n",
       "      <td>Some college\/university study without earning ...<\/td>\n",
       "      <td>Computer science, computer engineering, or sof...<\/td>\n",
       "      <td>...<\/td>\n",
       "      <td>Just as welcome now as I felt last year<\/td>\n",
       "      <td>NaN<\/td>\n",
       "      <td>23.0<\/td>\n",
       "      <td>Man<\/td>\n",
       "      <td>No<\/td>\n",
       "      <td>Bisexual<\/td>\n",
       "      <td>White or of European descent<\/td>\n",
       "      <td>No<\/td>\n",
       "      <td>Appropriate in length<\/td>\n",
       "      <td>Neither easy nor difficult<\/td>\n",
       "    <\/tr>\n",
       "    <tr>\n",
       "      <th>2<\/th>\n",
       "      <td>13<\/td>\n",
       "      <td>I am a developer by profession<\/td>\n",
       "      <td>Yes<\/td>\n",
       "      <td>Less than once a month but more than once per ...<\/td>\n",
       "      <td>OSS is, on average, of HIGHER quality than pro...<\/td>\n",
       "      <td>Employed full-time<\/td>\n",
       "      <td>United States<\/td>\n",
       "      <td>No<\/td>\n",
       "      <td>Master’s degree (MA, MS, M.Eng., MBA, etc.)<\/td>\n",
       "      <td>Computer science, computer engineering, or sof...<\/td>\n",
       "      <td>...<\/td>\n",
       "      <td>Somewhat more welcome now than last year<\/td>\n",
       "      <td>Tech articles written by other developers;Cour...<\/td>\n",
       "      <td>28.0<\/td>\n",
       "      <td>Man<\/td>\n",
       "      <td>No<\/td>\n",
       "      <td>Straight \/ Heterosexual<\/td>\n",
       "      <td>White or of European descent<\/td>\n",
       "      <td>Yes<\/td>\n",
       "      <td>Appropriate in length<\/td>\n",
       "      <td>Easy<\/td>\n",
       "    <\/tr>\n",
       "    <tr>\n",
       "      <th>3<\/th>\n",
       "      <td>16<\/td>\n",
       "      <td>I am a developer by profession<\/td>\n",
       "      <td>Yes<\/td>\n",
       "      <td>Never<\/td>\n",
       "      <td>The quality of OSS and closed source software ...<\/td>\n",
       "      <td>Employed full-time<\/td>\n",
       "      <td>United Kingdom<\/td>\n",
       "      <td>No<\/td>\n",
       "      <td>Master’s degree (MA, MS, M.Eng., MBA, etc.)<\/td>\n",
       "      <td>NaN<\/td>\n",
       "      <td>...<\/td>\n",
       "      <td>Just as welcome now as I felt last year<\/td>\n",
       "      <td>Tech articles written by other developers;Indu...<\/td>\n",
       "      <td>26.0<\/td>\n",
       "      <td>Man<\/td>\n",
       "      <td>No<\/td>\n",
       "      <td>Straight \/ Heterosexual<\/td>\n",
       "      <td>White or of European descent<\/td>\n",
       "      <td>No<\/td>\n",
       "      <td>Appropriate in length<\/td>\n",
       "      <td>Neither easy nor difficult<\/td>\n",
       "    <\/tr>\n",
       "    <tr>\n",
       "      <th>4<\/th>\n",
       "      <td>17<\/td>\n",
       "      <td>I am a developer by profession<\/td>\n",
       "      <td>Yes<\/td>\n",
       "      <td>Less than once a month but more than once per ...<\/td>\n",
       "      <td>The quality of OSS and closed source software ...<\/td>\n",
       "      <td>Employed full-time<\/td>\n",
       "      <td>Australia<\/td>\n",
       "      <td>No<\/td>\n",
       "      <td>Bachelor’s degree (BA, BS, B.Eng., etc.)<\/td>\n",
       "      <td>Computer science, computer engineering, or sof...<\/td>\n",
       "      <td>...<\/td>\n",
       "      <td>Just as welcome now as I felt last year<\/td>\n",
       "      <td>Tech articles written by other developers;Indu...<\/td>\n",
       "      <td>29.0<\/td>\n",
       "      <td>Man<\/td>\n",
       "      <td>No<\/td>\n",
       "      <td>Straight \/ Heterosexual<\/td>\n",
       "      <td>Hispanic or Latino\/Latina;Multiracial<\/td>\n",
       "      <td>No<\/td>\n",
       "      <td>Appropriate in length<\/td>\n",
       "      <td>Easy<\/td>\n",
       "    <\/tr>\n",
       "  <\/tbody>\n",
       "<\/table>\n",
       "<p>5 rows × 85 columns<\/p>\n",
       "<\/div>"
      ]
     },
     "metadata":{
      
     },
     "output_type":"display_data"
    }
   ],
   "metadata":{
    "datalore":{
     "node_id":"ySLyHzpm5VfvQjYsJWy84b",
     "type":"CODE",
     "hide_input_from_viewers":false,
     "hide_output_from_viewers":false,
     "report_properties":{
      "rowId":"bGttZwdyjm6ga3Md5Ux0Qk"
     }
    }
   }
  },
  {
   "cell_type":"code",
   "source":[
    "## Finding duplicates\n",
    "df[df.duplicated()]"
   ],
   "execution_count":5,
   "outputs":[
    {
     "data":{
      "text\/html":[
       "<div>\n",
       "<style scoped>\n",
       "    .dataframe tbody tr th:only-of-type {\n",
       "        vertical-align: middle;\n",
       "    }\n",
       "\n",
       "    .dataframe tbody tr th {\n",
       "        vertical-align: top;\n",
       "    }\n",
       "\n",
       "    .dataframe thead th {\n",
       "        text-align: right;\n",
       "    }\n",
       "<\/style>\n",
       "<table border=\"1\" class=\"dataframe\">\n",
       "  <thead>\n",
       "    <tr style=\"text-align: right;\">\n",
       "      <th><\/th>\n",
       "      <th>Respondent<\/th>\n",
       "      <th>MainBranch<\/th>\n",
       "      <th>Hobbyist<\/th>\n",
       "      <th>OpenSourcer<\/th>\n",
       "      <th>OpenSource<\/th>\n",
       "      <th>Employment<\/th>\n",
       "      <th>Country<\/th>\n",
       "      <th>Student<\/th>\n",
       "      <th>EdLevel<\/th>\n",
       "      <th>UndergradMajor<\/th>\n",
       "      <th>...<\/th>\n",
       "      <th>WelcomeChange<\/th>\n",
       "      <th>SONewContent<\/th>\n",
       "      <th>Age<\/th>\n",
       "      <th>Gender<\/th>\n",
       "      <th>Trans<\/th>\n",
       "      <th>Sexuality<\/th>\n",
       "      <th>Ethnicity<\/th>\n",
       "      <th>Dependents<\/th>\n",
       "      <th>SurveyLength<\/th>\n",
       "      <th>SurveyEase<\/th>\n",
       "    <\/tr>\n",
       "  <\/thead>\n",
       "  <tbody>\n",
       "    <tr>\n",
       "      <th>1168<\/th>\n",
       "      <td>2339<\/td>\n",
       "      <td>I am a developer by profession<\/td>\n",
       "      <td>Yes<\/td>\n",
       "      <td>Once a month or more often<\/td>\n",
       "      <td>OSS is, on average, of HIGHER quality than pro...<\/td>\n",
       "      <td>Employed full-time<\/td>\n",
       "      <td>United States<\/td>\n",
       "      <td>No<\/td>\n",
       "      <td>Some college\/university study without earning ...<\/td>\n",
       "      <td>Computer science, computer engineering, or sof...<\/td>\n",
       "      <td>...<\/td>\n",
       "      <td>Just as welcome now as I felt last year<\/td>\n",
       "      <td>NaN<\/td>\n",
       "      <td>24.0<\/td>\n",
       "      <td>Man<\/td>\n",
       "      <td>No<\/td>\n",
       "      <td>Straight \/ Heterosexual<\/td>\n",
       "      <td>White or of European descent<\/td>\n",
       "      <td>No<\/td>\n",
       "      <td>Appropriate in length<\/td>\n",
       "      <td>Easy<\/td>\n",
       "    <\/tr>\n",
       "    <tr>\n",
       "      <th>1169<\/th>\n",
       "      <td>2342<\/td>\n",
       "      <td>I am a developer by profession<\/td>\n",
       "      <td>Yes<\/td>\n",
       "      <td>Never<\/td>\n",
       "      <td>The quality of OSS and closed source software ...<\/td>\n",
       "      <td>Employed full-time<\/td>\n",
       "      <td>United Kingdom<\/td>\n",
       "      <td>No<\/td>\n",
       "      <td>Some college\/university study without earning ...<\/td>\n",
       "      <td>Information systems, information technology, o...<\/td>\n",
       "      <td>...<\/td>\n",
       "      <td>Somewhat more welcome now than last year<\/td>\n",
       "      <td>Tech meetups or events in your area;Courses on...<\/td>\n",
       "      <td>24.0<\/td>\n",
       "      <td>Man<\/td>\n",
       "      <td>No<\/td>\n",
       "      <td>Straight \/ Heterosexual<\/td>\n",
       "      <td>White or of European descent<\/td>\n",
       "      <td>No<\/td>\n",
       "      <td>Too long<\/td>\n",
       "      <td>Easy<\/td>\n",
       "    <\/tr>\n",
       "    <tr>\n",
       "      <th>1170<\/th>\n",
       "      <td>2343<\/td>\n",
       "      <td>I am a developer by profession<\/td>\n",
       "      <td>Yes<\/td>\n",
       "      <td>Less than once a month but more than once per ...<\/td>\n",
       "      <td>OSS is, on average, of LOWER quality than prop...<\/td>\n",
       "      <td>Employed full-time<\/td>\n",
       "      <td>Canada<\/td>\n",
       "      <td>No<\/td>\n",
       "      <td>Master’s degree (MA, MS, M.Eng., MBA, etc.)<\/td>\n",
       "      <td>Computer science, computer engineering, or sof...<\/td>\n",
       "      <td>...<\/td>\n",
       "      <td>Somewhat more welcome now than last year<\/td>\n",
       "      <td>Tech articles written by other developers;Indu...<\/td>\n",
       "      <td>27.0<\/td>\n",
       "      <td>Man<\/td>\n",
       "      <td>No<\/td>\n",
       "      <td>Straight \/ Heterosexual<\/td>\n",
       "      <td>Black or of African descent;White or of Europe...<\/td>\n",
       "      <td>No<\/td>\n",
       "      <td>Appropriate in length<\/td>\n",
       "      <td>Neither easy nor difficult<\/td>\n",
       "    <\/tr>\n",
       "    <tr>\n",
       "      <th>1171<\/th>\n",
       "      <td>2344<\/td>\n",
       "      <td>I am a developer by profession<\/td>\n",
       "      <td>Yes<\/td>\n",
       "      <td>Never<\/td>\n",
       "      <td>The quality of OSS and closed source software ...<\/td>\n",
       "      <td>Employed full-time<\/td>\n",
       "      <td>United States<\/td>\n",
       "      <td>No<\/td>\n",
       "      <td>Bachelor’s degree (BA, BS, B.Eng., etc.)<\/td>\n",
       "      <td>Computer science, computer engineering, or sof...<\/td>\n",
       "      <td>...<\/td>\n",
       "      <td>Just as welcome now as I felt last year<\/td>\n",
       "      <td>Tech articles written by other developers;Indu...<\/td>\n",
       "      <td>24.0<\/td>\n",
       "      <td>Man<\/td>\n",
       "      <td>No<\/td>\n",
       "      <td>Straight \/ Heterosexual<\/td>\n",
       "      <td>White or of European descent<\/td>\n",
       "      <td>No<\/td>\n",
       "      <td>Appropriate in length<\/td>\n",
       "      <td>Easy<\/td>\n",
       "    <\/tr>\n",
       "    <tr>\n",
       "      <th>1172<\/th>\n",
       "      <td>2347<\/td>\n",
       "      <td>I am a developer by profession<\/td>\n",
       "      <td>Yes<\/td>\n",
       "      <td>Never<\/td>\n",
       "      <td>OSS is, on average, of HIGHER quality than pro...<\/td>\n",
       "      <td>Employed full-time<\/td>\n",
       "      <td>United Kingdom<\/td>\n",
       "      <td>No<\/td>\n",
       "      <td>Master’s degree (MA, MS, M.Eng., MBA, etc.)<\/td>\n",
       "      <td>Computer science, computer engineering, or sof...<\/td>\n",
       "      <td>...<\/td>\n",
       "      <td>Just as welcome now as I felt last year<\/td>\n",
       "      <td>NaN<\/td>\n",
       "      <td>NaN<\/td>\n",
       "      <td>Woman<\/td>\n",
       "      <td>No<\/td>\n",
       "      <td>Straight \/ Heterosexual<\/td>\n",
       "      <td>Biracial<\/td>\n",
       "      <td>No<\/td>\n",
       "      <td>Too long<\/td>\n",
       "      <td>Easy<\/td>\n",
       "    <\/tr>\n",
       "    <tr>\n",
       "      <th>...<\/th>\n",
       "      <td>...<\/td>\n",
       "      <td>...<\/td>\n",
       "      <td>...<\/td>\n",
       "      <td>...<\/td>\n",
       "      <td>...<\/td>\n",
       "      <td>...<\/td>\n",
       "      <td>...<\/td>\n",
       "      <td>...<\/td>\n",
       "      <td>...<\/td>\n",
       "      <td>...<\/td>\n",
       "      <td>...<\/td>\n",
       "      <td>...<\/td>\n",
       "      <td>...<\/td>\n",
       "      <td>...<\/td>\n",
       "      <td>...<\/td>\n",
       "      <td>...<\/td>\n",
       "      <td>...<\/td>\n",
       "      <td>...<\/td>\n",
       "      <td>...<\/td>\n",
       "      <td>...<\/td>\n",
       "      <td>...<\/td>\n",
       "    <\/tr>\n",
       "    <tr>\n",
       "      <th>2297<\/th>\n",
       "      <td>4674<\/td>\n",
       "      <td>I am not primarily a developer, but I write co...<\/td>\n",
       "      <td>Yes<\/td>\n",
       "      <td>Less than once per year<\/td>\n",
       "      <td>The quality of OSS and closed source software ...<\/td>\n",
       "      <td>Employed full-time<\/td>\n",
       "      <td>Bangladesh<\/td>\n",
       "      <td>No<\/td>\n",
       "      <td>Bachelor’s degree (BA, BS, B.Eng., etc.)<\/td>\n",
       "      <td>NaN<\/td>\n",
       "      <td>...<\/td>\n",
       "      <td>Somewhat less welcome now than last year<\/td>\n",
       "      <td>Tech articles written by other developers;Indu...<\/td>\n",
       "      <td>31.0<\/td>\n",
       "      <td>Man<\/td>\n",
       "      <td>No<\/td>\n",
       "      <td>Bisexual;Gay or Lesbian;Straight \/ Heterosexual<\/td>\n",
       "      <td>Black or of African descent;Hispanic or Latino...<\/td>\n",
       "      <td>Yes<\/td>\n",
       "      <td>Too long<\/td>\n",
       "      <td>Neither easy nor difficult<\/td>\n",
       "    <\/tr>\n",
       "    <tr>\n",
       "      <th>2298<\/th>\n",
       "      <td>4675<\/td>\n",
       "      <td>I am a developer by profession<\/td>\n",
       "      <td>Yes<\/td>\n",
       "      <td>Never<\/td>\n",
       "      <td>OSS is, on average, of HIGHER quality than pro...<\/td>\n",
       "      <td>Employed full-time<\/td>\n",
       "      <td>United States<\/td>\n",
       "      <td>No<\/td>\n",
       "      <td>Bachelor’s degree (BA, BS, B.Eng., etc.)<\/td>\n",
       "      <td>Information systems, information technology, o...<\/td>\n",
       "      <td>...<\/td>\n",
       "      <td>Just as welcome now as I felt last year<\/td>\n",
       "      <td>Tech meetups or events in your area<\/td>\n",
       "      <td>27.0<\/td>\n",
       "      <td>Man<\/td>\n",
       "      <td>No<\/td>\n",
       "      <td>Straight \/ Heterosexual<\/td>\n",
       "      <td>White or of European descent<\/td>\n",
       "      <td>No<\/td>\n",
       "      <td>Appropriate in length<\/td>\n",
       "      <td>Easy<\/td>\n",
       "    <\/tr>\n",
       "    <tr>\n",
       "      <th>2299<\/th>\n",
       "      <td>4676<\/td>\n",
       "      <td>I am a developer by profession<\/td>\n",
       "      <td>Yes<\/td>\n",
       "      <td>Never<\/td>\n",
       "      <td>OSS is, on average, of HIGHER quality than pro...<\/td>\n",
       "      <td>Employed full-time<\/td>\n",
       "      <td>Finland<\/td>\n",
       "      <td>No<\/td>\n",
       "      <td>Master’s degree (MA, MS, M.Eng., MBA, etc.)<\/td>\n",
       "      <td>Another engineering discipline (ex. civil, ele...<\/td>\n",
       "      <td>...<\/td>\n",
       "      <td>Somewhat less welcome now than last year<\/td>\n",
       "      <td>NaN<\/td>\n",
       "      <td>36.0<\/td>\n",
       "      <td>Man<\/td>\n",
       "      <td>No<\/td>\n",
       "      <td>Straight \/ Heterosexual<\/td>\n",
       "      <td>White or of European descent<\/td>\n",
       "      <td>Yes<\/td>\n",
       "      <td>Too long<\/td>\n",
       "      <td>Easy<\/td>\n",
       "    <\/tr>\n",
       "    <tr>\n",
       "      <th>2300<\/th>\n",
       "      <td>4677<\/td>\n",
       "      <td>I am a developer by profession<\/td>\n",
       "      <td>Yes<\/td>\n",
       "      <td>Once a month or more often<\/td>\n",
       "      <td>OSS is, on average, of HIGHER quality than pro...<\/td>\n",
       "      <td>Employed full-time<\/td>\n",
       "      <td>United Kingdom<\/td>\n",
       "      <td>No<\/td>\n",
       "      <td>Bachelor’s degree (BA, BS, B.Eng., etc.)<\/td>\n",
       "      <td>A natural science (ex. biology, chemistry, phy...<\/td>\n",
       "      <td>...<\/td>\n",
       "      <td>Just as welcome now as I felt last year<\/td>\n",
       "      <td>NaN<\/td>\n",
       "      <td>40.0<\/td>\n",
       "      <td>Man<\/td>\n",
       "      <td>No<\/td>\n",
       "      <td>Straight \/ Heterosexual<\/td>\n",
       "      <td>White or of European descent<\/td>\n",
       "      <td>Yes<\/td>\n",
       "      <td>Appropriate in length<\/td>\n",
       "      <td>Easy<\/td>\n",
       "    <\/tr>\n",
       "    <tr>\n",
       "      <th>2301<\/th>\n",
       "      <td>4679<\/td>\n",
       "      <td>I am a developer by profession<\/td>\n",
       "      <td>Yes<\/td>\n",
       "      <td>Less than once a month but more than once per ...<\/td>\n",
       "      <td>The quality of OSS and closed source software ...<\/td>\n",
       "      <td>Employed full-time<\/td>\n",
       "      <td>United States<\/td>\n",
       "      <td>No<\/td>\n",
       "      <td>Master’s degree (MA, MS, M.Eng., MBA, etc.)<\/td>\n",
       "      <td>Computer science, computer engineering, or sof...<\/td>\n",
       "      <td>...<\/td>\n",
       "      <td>Just as welcome now as I felt last year<\/td>\n",
       "      <td>NaN<\/td>\n",
       "      <td>27.0<\/td>\n",
       "      <td>Man<\/td>\n",
       "      <td>No<\/td>\n",
       "      <td>NaN<\/td>\n",
       "      <td>White or of European descent<\/td>\n",
       "      <td>No<\/td>\n",
       "      <td>Appropriate in length<\/td>\n",
       "      <td>Easy<\/td>\n",
       "    <\/tr>\n",
       "  <\/tbody>\n",
       "<\/table>\n",
       "<p>154 rows × 85 columns<\/p>\n",
       "<\/div>"
      ]
     },
     "metadata":{
      
     },
     "output_type":"display_data"
    }
   ],
   "metadata":{
    "datalore":{
     "node_id":"xgPdclA2L1O9i3YmlY04Ub",
     "type":"CODE",
     "hide_input_from_viewers":false,
     "hide_output_from_viewers":false,
     "report_properties":{
      "rowId":"eE5Q63KaCYb17uoqf8aJA2"
     }
    }
   }
  },
  {
   "cell_type":"markdown",
   "source":[
    "In this section you will identify duplicate values in the dataset."
   ],
   "attachments":{
    
   },
   "metadata":{
    "datalore":{
     "node_id":"QTGftan2n2TK4MJqoZxxeB",
     "type":"MD",
     "hide_input_from_viewers":false,
     "hide_output_from_viewers":false,
     "report_properties":{
      "rowId":"n1w4JaMZ1ZTodJ0Bs5gcE7"
     }
    }
   }
  },
  {
   "cell_type":"markdown",
   "source":[
    " Find how many duplicate rows exist in the dataframe."
   ],
   "attachments":{
    
   },
   "metadata":{
    "datalore":{
     "node_id":"A2h9fDHaZ4Pn1jyteWR1Uu",
     "type":"MD",
     "hide_input_from_viewers":false,
     "hide_output_from_viewers":false,
     "report_properties":{
      "rowId":"xgGDhO1F5qNGxpHCU4BMtl"
     }
    }
   }
  },
  {
   "cell_type":"code",
   "source":[
    "# your code goes here\n",
    "df.duplicated().sum()"
   ],
   "execution_count":6,
   "outputs":[
    {
     "data":{
      "text\/plain":[
       "154"
      ]
     },
     "metadata":{
      
     },
     "output_type":"display_data"
    }
   ],
   "metadata":{
    "datalore":{
     "node_id":"GEMstEW8x2PI625ai51RRq",
     "type":"CODE",
     "hide_input_from_viewers":false,
     "hide_output_from_viewers":false,
     "report_properties":{
      "rowId":"lTiyf6vtxLq3t7MmfD8Cb1"
     }
    }
   }
  },
  {
   "cell_type":"markdown",
   "source":[
    "## Removing duplicates"
   ],
   "attachments":{
    
   },
   "metadata":{
    "datalore":{
     "node_id":"nGnAsfRRvZsSr4HGKRIlUT",
     "type":"MD",
     "hide_input_from_viewers":false,
     "hide_output_from_viewers":false,
     "report_properties":{
      "rowId":"BDIlPWq8vvBeYNqZDh9R5s"
     }
    }
   }
  },
  {
   "cell_type":"markdown",
   "source":[
    "Remove the duplicate rows from the dataframe."
   ],
   "attachments":{
    
   },
   "metadata":{
    "datalore":{
     "node_id":"q1mfS1PtSMhODxyTbLF1WH",
     "type":"MD",
     "hide_input_from_viewers":false,
     "hide_output_from_viewers":false,
     "report_properties":{
      "rowId":"LToIGrLRk0f92uYEfxD4Th"
     }
    }
   }
  },
  {
   "cell_type":"code",
   "source":[
    "# your code goes here\n",
    "df.drop_duplicates(inplace=True)\n",
    "df.head()"
   ],
   "execution_count":7,
   "outputs":[
    {
     "data":{
      "text\/html":[
       "<div>\n",
       "<style scoped>\n",
       "    .dataframe tbody tr th:only-of-type {\n",
       "        vertical-align: middle;\n",
       "    }\n",
       "\n",
       "    .dataframe tbody tr th {\n",
       "        vertical-align: top;\n",
       "    }\n",
       "\n",
       "    .dataframe thead th {\n",
       "        text-align: right;\n",
       "    }\n",
       "<\/style>\n",
       "<table border=\"1\" class=\"dataframe\">\n",
       "  <thead>\n",
       "    <tr style=\"text-align: right;\">\n",
       "      <th><\/th>\n",
       "      <th>Respondent<\/th>\n",
       "      <th>MainBranch<\/th>\n",
       "      <th>Hobbyist<\/th>\n",
       "      <th>OpenSourcer<\/th>\n",
       "      <th>OpenSource<\/th>\n",
       "      <th>Employment<\/th>\n",
       "      <th>Country<\/th>\n",
       "      <th>Student<\/th>\n",
       "      <th>EdLevel<\/th>\n",
       "      <th>UndergradMajor<\/th>\n",
       "      <th>...<\/th>\n",
       "      <th>WelcomeChange<\/th>\n",
       "      <th>SONewContent<\/th>\n",
       "      <th>Age<\/th>\n",
       "      <th>Gender<\/th>\n",
       "      <th>Trans<\/th>\n",
       "      <th>Sexuality<\/th>\n",
       "      <th>Ethnicity<\/th>\n",
       "      <th>Dependents<\/th>\n",
       "      <th>SurveyLength<\/th>\n",
       "      <th>SurveyEase<\/th>\n",
       "    <\/tr>\n",
       "  <\/thead>\n",
       "  <tbody>\n",
       "    <tr>\n",
       "      <th>0<\/th>\n",
       "      <td>4<\/td>\n",
       "      <td>I am a developer by profession<\/td>\n",
       "      <td>No<\/td>\n",
       "      <td>Never<\/td>\n",
       "      <td>The quality of OSS and closed source software ...<\/td>\n",
       "      <td>Employed full-time<\/td>\n",
       "      <td>United States<\/td>\n",
       "      <td>No<\/td>\n",
       "      <td>Bachelor’s degree (BA, BS, B.Eng., etc.)<\/td>\n",
       "      <td>Computer science, computer engineering, or sof...<\/td>\n",
       "      <td>...<\/td>\n",
       "      <td>Just as welcome now as I felt last year<\/td>\n",
       "      <td>Tech articles written by other developers;Indu...<\/td>\n",
       "      <td>22.0<\/td>\n",
       "      <td>Man<\/td>\n",
       "      <td>No<\/td>\n",
       "      <td>Straight \/ Heterosexual<\/td>\n",
       "      <td>White or of European descent<\/td>\n",
       "      <td>No<\/td>\n",
       "      <td>Appropriate in length<\/td>\n",
       "      <td>Easy<\/td>\n",
       "    <\/tr>\n",
       "    <tr>\n",
       "      <th>1<\/th>\n",
       "      <td>9<\/td>\n",
       "      <td>I am a developer by profession<\/td>\n",
       "      <td>Yes<\/td>\n",
       "      <td>Once a month or more often<\/td>\n",
       "      <td>The quality of OSS and closed source software ...<\/td>\n",
       "      <td>Employed full-time<\/td>\n",
       "      <td>New Zealand<\/td>\n",
       "      <td>No<\/td>\n",
       "      <td>Some college\/university study without earning ...<\/td>\n",
       "      <td>Computer science, computer engineering, or sof...<\/td>\n",
       "      <td>...<\/td>\n",
       "      <td>Just as welcome now as I felt last year<\/td>\n",
       "      <td>NaN<\/td>\n",
       "      <td>23.0<\/td>\n",
       "      <td>Man<\/td>\n",
       "      <td>No<\/td>\n",
       "      <td>Bisexual<\/td>\n",
       "      <td>White or of European descent<\/td>\n",
       "      <td>No<\/td>\n",
       "      <td>Appropriate in length<\/td>\n",
       "      <td>Neither easy nor difficult<\/td>\n",
       "    <\/tr>\n",
       "    <tr>\n",
       "      <th>2<\/th>\n",
       "      <td>13<\/td>\n",
       "      <td>I am a developer by profession<\/td>\n",
       "      <td>Yes<\/td>\n",
       "      <td>Less than once a month but more than once per ...<\/td>\n",
       "      <td>OSS is, on average, of HIGHER quality than pro...<\/td>\n",
       "      <td>Employed full-time<\/td>\n",
       "      <td>United States<\/td>\n",
       "      <td>No<\/td>\n",
       "      <td>Master’s degree (MA, MS, M.Eng., MBA, etc.)<\/td>\n",
       "      <td>Computer science, computer engineering, or sof...<\/td>\n",
       "      <td>...<\/td>\n",
       "      <td>Somewhat more welcome now than last year<\/td>\n",
       "      <td>Tech articles written by other developers;Cour...<\/td>\n",
       "      <td>28.0<\/td>\n",
       "      <td>Man<\/td>\n",
       "      <td>No<\/td>\n",
       "      <td>Straight \/ Heterosexual<\/td>\n",
       "      <td>White or of European descent<\/td>\n",
       "      <td>Yes<\/td>\n",
       "      <td>Appropriate in length<\/td>\n",
       "      <td>Easy<\/td>\n",
       "    <\/tr>\n",
       "    <tr>\n",
       "      <th>3<\/th>\n",
       "      <td>16<\/td>\n",
       "      <td>I am a developer by profession<\/td>\n",
       "      <td>Yes<\/td>\n",
       "      <td>Never<\/td>\n",
       "      <td>The quality of OSS and closed source software ...<\/td>\n",
       "      <td>Employed full-time<\/td>\n",
       "      <td>United Kingdom<\/td>\n",
       "      <td>No<\/td>\n",
       "      <td>Master’s degree (MA, MS, M.Eng., MBA, etc.)<\/td>\n",
       "      <td>NaN<\/td>\n",
       "      <td>...<\/td>\n",
       "      <td>Just as welcome now as I felt last year<\/td>\n",
       "      <td>Tech articles written by other developers;Indu...<\/td>\n",
       "      <td>26.0<\/td>\n",
       "      <td>Man<\/td>\n",
       "      <td>No<\/td>\n",
       "      <td>Straight \/ Heterosexual<\/td>\n",
       "      <td>White or of European descent<\/td>\n",
       "      <td>No<\/td>\n",
       "      <td>Appropriate in length<\/td>\n",
       "      <td>Neither easy nor difficult<\/td>\n",
       "    <\/tr>\n",
       "    <tr>\n",
       "      <th>4<\/th>\n",
       "      <td>17<\/td>\n",
       "      <td>I am a developer by profession<\/td>\n",
       "      <td>Yes<\/td>\n",
       "      <td>Less than once a month but more than once per ...<\/td>\n",
       "      <td>The quality of OSS and closed source software ...<\/td>\n",
       "      <td>Employed full-time<\/td>\n",
       "      <td>Australia<\/td>\n",
       "      <td>No<\/td>\n",
       "      <td>Bachelor’s degree (BA, BS, B.Eng., etc.)<\/td>\n",
       "      <td>Computer science, computer engineering, or sof...<\/td>\n",
       "      <td>...<\/td>\n",
       "      <td>Just as welcome now as I felt last year<\/td>\n",
       "      <td>Tech articles written by other developers;Indu...<\/td>\n",
       "      <td>29.0<\/td>\n",
       "      <td>Man<\/td>\n",
       "      <td>No<\/td>\n",
       "      <td>Straight \/ Heterosexual<\/td>\n",
       "      <td>Hispanic or Latino\/Latina;Multiracial<\/td>\n",
       "      <td>No<\/td>\n",
       "      <td>Appropriate in length<\/td>\n",
       "      <td>Easy<\/td>\n",
       "    <\/tr>\n",
       "  <\/tbody>\n",
       "<\/table>\n",
       "<p>5 rows × 85 columns<\/p>\n",
       "<\/div>"
      ]
     },
     "metadata":{
      
     },
     "output_type":"display_data"
    }
   ],
   "metadata":{
    "datalore":{
     "node_id":"PkzFBl68E9jdqCenN9A9Ej",
     "type":"CODE",
     "hide_input_from_viewers":false,
     "hide_output_from_viewers":false,
     "report_properties":{
      "rowId":"r8YDaWCCK5sEVow7T9cCC4"
     }
    }
   }
  },
  {
   "cell_type":"markdown",
   "source":[
    "Verify if duplicates were actually dropped."
   ],
   "attachments":{
    
   },
   "metadata":{
    "datalore":{
     "node_id":"CmbEGShFVEAEqgh2X9tyxt",
     "type":"MD",
     "hide_input_from_viewers":false,
     "hide_output_from_viewers":false,
     "report_properties":{
      "rowId":"sMFGs34Z0qbnMrs082tlvD"
     }
    }
   }
  },
  {
   "cell_type":"code",
   "source":[
    "# your code goes here\n",
    "print(\"There are\" ,df.duplicated().sum() ,\"no of duplicates rows.\")\n",
    "print(\"There are\", df.duplicated('Respondent').sum(),\"no of duplicates respondents.\")"
   ],
   "execution_count":14,
   "outputs":[
    {
     "name":"stdout",
     "text":[
      "There are 0 no of duplicates rows.\n",
      "There are 0 no of duplicates respondents.\n"
     ],
     "output_type":"stream"
    }
   ],
   "metadata":{
    "datalore":{
     "node_id":"53htmJ5ro0ogqLJ59a9V8T",
     "type":"CODE",
     "hide_input_from_viewers":false,
     "hide_output_from_viewers":false,
     "report_properties":{
      "rowId":"52uqmV5T9LwPrD5OaW7AOq"
     }
    }
   }
  },
  {
   "cell_type":"markdown",
   "source":[
    "## Finding Missing values"
   ],
   "attachments":{
    
   },
   "metadata":{
    "datalore":{
     "node_id":"i9fnSPQxFDk69tK8w8jiuY",
     "type":"MD",
     "hide_input_from_viewers":false,
     "hide_output_from_viewers":false,
     "report_properties":{
      "rowId":"1PG2gWpWiGAknZxj5Zwfiu"
     }
    }
   }
  },
  {
   "cell_type":"markdown",
   "source":[
    "Find the missing values for all columns."
   ],
   "attachments":{
    
   },
   "metadata":{
    "datalore":{
     "node_id":"0IG1P0K5YTX9UJxduH3rQS",
     "type":"MD",
     "hide_input_from_viewers":false,
     "hide_output_from_viewers":false,
     "report_properties":{
      "rowId":"PNZbKhUQMQunIqaop1t4Uc"
     }
    }
   }
  },
  {
   "cell_type":"code",
   "source":[
    "with pd.option_context('display.max_rows',None,'display.max_columns',None):\n",
    "    print(df.isnull().sum())"
   ],
   "execution_count":16,
   "outputs":[
    {
     "name":"stdout",
     "text":[
      "Respondent                   0\n",
      "MainBranch                   0\n",
      "Hobbyist                     0\n",
      "OpenSourcer                  0\n",
      "OpenSource                  81\n",
      "Employment                   0\n",
      "Country                      0\n",
      "Student                     51\n",
      "EdLevel                    112\n",
      "UndergradMajor             737\n",
      "EduOther                   164\n",
      "OrgSize                     96\n",
      "DevType                     65\n",
      "YearsCode                    9\n",
      "Age1stCode                  13\n",
      "YearsCodePro                16\n",
      "CareerSat                    0\n",
      "JobSat                       1\n",
      "MgrIdiot                   493\n",
      "MgrMoney                   497\n",
      "MgrWant                    493\n",
      "JobSeek                      0\n",
      "LastHireDate                 0\n",
      "LastInt                    413\n",
      "FizzBuzz                    37\n",
      "JobFactors                   3\n",
      "ResumeUpdate                39\n",
      "CurrencySymbol               0\n",
      "CurrencyDesc                 0\n",
      "CompTotal                  809\n",
      "CompFreq                   206\n",
      "ConvertedComp              816\n",
      "WorkWeekHrs                122\n",
      "WorkPlan                   121\n",
      "WorkChallenge              164\n",
      "WorkRemote                   8\n",
      "WorkLoc                     32\n",
      "ImpSyn                       5\n",
      "CodeRev                      1\n",
      "CodeRevHrs                2426\n",
      "UnitTests                   29\n",
      "PurchaseHow                196\n",
      "PurchaseWhat                38\n",
      "LanguageWorkedWith          11\n",
      "LanguageDesireNextYear     134\n",
      "DatabaseWorkedWith         453\n",
      "DatabaseDesireNextYear    1042\n",
      "PlatformWorkedWith         411\n",
      "PlatformDesireNextYear     544\n",
      "WebFrameWorkedWith        1393\n",
      "WebFrameDesireNextYear    1617\n",
      "MiscTechWorkedWith        2182\n",
      "MiscTechDesireNextYear    1455\n",
      "DevEnviron                  29\n",
      "OpSys                       34\n",
      "Containers                  82\n",
      "BlockchainOrg             2322\n",
      "BlockchainIs              2610\n",
      "BetterLife                  98\n",
      "ITperson                    35\n",
      "OffOn                       38\n",
      "SocialMedia                293\n",
      "Extraversion                20\n",
      "ScreenName                 507\n",
      "SOVisit1st                 325\n",
      "SOVisitFreq                  5\n",
      "SOVisitTo                    1\n",
      "SOFindAnswer                 3\n",
      "SOTimeSaved                 50\n",
      "SOHowMuchTime             1917\n",
      "SOAccount                    1\n",
      "SOPartFreq                1128\n",
      "SOJobs                       6\n",
      "EntTeams                     5\n",
      "SOComm                       0\n",
      "WelcomeChange               85\n",
      "SONewContent              1965\n",
      "Age                        287\n",
      "Gender                      73\n",
      "Trans                      123\n",
      "Sexuality                  542\n",
      "Ethnicity                  675\n",
      "Dependents                 140\n",
      "SurveyLength                19\n",
      "SurveyEase                  14\n",
      "dtype: int64\n"
     ],
     "output_type":"stream"
    }
   ],
   "metadata":{
    "datalore":{
     "node_id":"C03U92fbP3aWK8mBW8BxHC",
     "type":"CODE",
     "hide_input_from_viewers":false,
     "hide_output_from_viewers":false,
     "report_properties":{
      "rowId":"rf79n45kvLtfiioR7SZ5XB"
     }
    }
   }
  },
  {
   "cell_type":"markdown",
   "source":[
    "Find out how many rows are missing in the column 'WorkLoc'"
   ],
   "attachments":{
    
   },
   "metadata":{
    "datalore":{
     "node_id":"8QmZUx9W76gOMMWIRl97yN",
     "type":"MD",
     "hide_input_from_viewers":false,
     "hide_output_from_viewers":false,
     "report_properties":{
      "rowId":"CfY1s5ieWIqs929LcaUC8R"
     }
    }
   }
  },
  {
   "cell_type":"code",
   "source":[
    "# your code goes here\n",
    "print(\"There are\", df['WorkLoc'].isnull().sum(), \"no of missing values\")\n",
    "print(\"There are\", df['EdLevel'].isnull().sum(), \"no of missing values\")\n",
    "print(\"There are\", df['Country'].isnull().sum(), \"no of missing values\")"
   ],
   "execution_count":17,
   "outputs":[
    {
     "name":"stdout",
     "text":[
      "There are 32 no of missing values\n",
      "There are 112 no of missing values\n",
      "There are 0 no of missing values\n"
     ],
     "output_type":"stream"
    }
   ],
   "metadata":{
    "datalore":{
     "node_id":"o5TiyJLceQFqwb2Dqhmx3G",
     "type":"CODE",
     "hide_input_from_viewers":false,
     "hide_output_from_viewers":false,
     "report_properties":{
      "rowId":"CwLHdUsPetMw8s6nacKKVx"
     }
    }
   }
  },
  {
   "cell_type":"markdown",
   "source":[
    "## Imputing missing values"
   ],
   "attachments":{
    
   },
   "metadata":{
    "datalore":{
     "node_id":"nlfSAWtWc0q3mq6K4MqVH0",
     "type":"MD",
     "hide_input_from_viewers":false,
     "hide_output_from_viewers":false,
     "report_properties":{
      "rowId":"eWMWBGsTizXvBZyxTLQ6Fe"
     }
    }
   }
  },
  {
   "cell_type":"markdown",
   "source":[
    "Find the  value counts for the column WorkLoc."
   ],
   "attachments":{
    
   },
   "metadata":{
    "datalore":{
     "node_id":"06HSBwYeldx3Fjg6qW51i6",
     "type":"MD",
     "hide_input_from_viewers":false,
     "hide_output_from_viewers":false,
     "report_properties":{
      "rowId":"krTy6LHMQ6pHhcpN86fs2k"
     }
    }
   }
  },
  {
   "cell_type":"code",
   "source":[
    "# your code goes here\n",
    "print(\"There are\", df['WorkLoc'].nunique(), \"unique no of Work Locations\")\n",
    "print(df['WorkLoc'].value_counts())\n",
    "print(\"------------------------------------------------\")\n",
    "\n",
    "print(\"There are\", df['Employment'].nunique(), \"unique no of Employment values in the survey.\")\n",
    "print(df['Employment'].value_counts())\n",
    "print(\"------------------------------------------------\")\n",
    "\n",
    "print(\"There are\",df['UndergradMajor'].nunique(),\"unique no of UndergradMajor values in the survey.\")\n",
    "print(df['UndergradMajor'].value_counts())\n",
    "print(\"------------------------------------------------\")"
   ],
   "execution_count":29,
   "outputs":[
    {
     "name":"stdout",
     "text":[
      "There are 3 unique no of Work Locations\n",
      "Office                                            6806\n",
      "Home                                              3589\n",
      "Other place, such as a coworking space or cafe     971\n",
      "Name: WorkLoc, dtype: int64\n",
      "------------------------------------------------\n",
      "There are 2 unique no of Employment values in the survey.\n",
      "Employed full-time    10968\n",
      "Employed part-time      430\n",
      "Name: Employment, dtype: int64\n",
      "------------------------------------------------\n",
      "There are 12 unique no of UndergradMajor values in the survey.\n",
      "Computer science, computer engineering, or software engineering          6953\n",
      "Information systems, information technology, or system administration     794\n",
      "Another engineering discipline (ex. civil, electrical, mechanical)        759\n",
      "Web development or web design                                             410\n",
      "A natural science (ex. biology, chemistry, physics)                       403\n",
      "Mathematics or statistics                                                 372\n",
      "A business discipline (ex. accounting, finance, marketing)                244\n",
      "A social science (ex. anthropology, psychology, political science)        210\n",
      "A humanities discipline (ex. literature, history, philosophy)             207\n",
      "Fine arts or performing arts (ex. graphic design, music, studio art)      161\n",
      "I never declared a major                                                  124\n",
      "A health science (ex. nursing, pharmacy, radiology)                        24\n",
      "Name: UndergradMajor, dtype: int64\n",
      "------------------------------------------------\n"
     ],
     "output_type":"stream"
    }
   ],
   "metadata":{
    "datalore":{
     "node_id":"G3doszhZjryLq6rOMSbG2v",
     "type":"CODE",
     "hide_input_from_viewers":false,
     "hide_output_from_viewers":false,
     "report_properties":{
      "rowId":"Y8EJLxkIXuIkhWZujb6gKy"
     }
    }
   }
  },
  {
   "cell_type":"markdown",
   "source":[
    "Identify the value that is most frequent (majority) in the WorkLoc column."
   ],
   "attachments":{
    
   },
   "metadata":{
    "datalore":{
     "node_id":"XCM2WgfyxNw425fYsKBnv2",
     "type":"MD",
     "hide_input_from_viewers":false,
     "hide_output_from_viewers":false,
     "report_properties":{
      "rowId":"p5i67dDzujgHt6tlbS3g2s"
     }
    }
   }
  },
  {
   "cell_type":"code",
   "source":[
    "#make a note of the majority value here, for future reference\n",
    "majority = df['WorkLoc'].value_counts().idxmax()\n",
    "majority"
   ],
   "execution_count":17,
   "outputs":[
    {
     "data":{
      "text\/plain":[
       "'Office'"
      ]
     },
     "metadata":{
      
     },
     "output_type":"display_data"
    }
   ],
   "metadata":{
    "datalore":{
     "node_id":"spuAvpgRlvR6aubz8dryf6",
     "type":"CODE",
     "hide_input_from_viewers":false,
     "hide_output_from_viewers":false,
     "report_properties":{
      "rowId":"XFRSzSluH0R979mMqY8HR1"
     }
    }
   }
  },
  {
   "cell_type":"markdown",
   "source":[
    "Impute (replace) all the empty rows in the column WorkLoc with the value that you have identified as majority."
   ],
   "attachments":{
    
   },
   "metadata":{
    "datalore":{
     "node_id":"bLyBcJQp99KIzn69vSHyzj",
     "type":"MD",
     "hide_input_from_viewers":false,
     "hide_output_from_viewers":false,
     "report_properties":{
      "rowId":"kTAufRK8TvZQ7Hg97n1Dky"
     }
    }
   }
  },
  {
   "cell_type":"code",
   "source":[
    "# your code goes here\n",
    "df['WorkLoc'].fillna('Office',inplace = True)"
   ],
   "execution_count":18,
   "outputs":[
    
   ],
   "metadata":{
    "datalore":{
     "node_id":"eXUVSPTqeP3GLRocyXtjJP",
     "type":"CODE",
     "hide_input_from_viewers":false,
     "hide_output_from_viewers":false,
     "report_properties":{
      "rowId":"FZD9uD8NDYXjFsO0RLD8jv"
     }
    }
   }
  },
  {
   "cell_type":"markdown",
   "source":[
    "After imputation there should ideally not be any empty rows in the WorkLoc column."
   ],
   "attachments":{
    
   },
   "metadata":{
    "datalore":{
     "node_id":"S87EjSUHBduV2ZwppN7owU",
     "type":"MD",
     "hide_input_from_viewers":false,
     "hide_output_from_viewers":false,
     "report_properties":{
      "rowId":"qMf3KKgQTN7CAsHpymQXet"
     }
    }
   }
  },
  {
   "cell_type":"markdown",
   "source":[
    "Verify if imputing was successful."
   ],
   "attachments":{
    
   },
   "metadata":{
    "datalore":{
     "node_id":"mLtUN0pJot5hBz9XhIsQj3",
     "type":"MD",
     "hide_input_from_viewers":false,
     "hide_output_from_viewers":false,
     "report_properties":{
      "rowId":"bMuUsBjCfKwJJPcUJPQM8z"
     }
    }
   }
  },
  {
   "cell_type":"code",
   "source":[
    "# your code goes here\n",
    "df['WorkLoc'].isna().sum()"
   ],
   "execution_count":19,
   "outputs":[
    {
     "data":{
      "text\/plain":[
       "0"
      ]
     },
     "metadata":{
      
     },
     "output_type":"display_data"
    }
   ],
   "metadata":{
    "datalore":{
     "node_id":"ho8LtcQJMsy6L6RnUUdIzm",
     "type":"CODE",
     "hide_input_from_viewers":false,
     "hide_output_from_viewers":false,
     "report_properties":{
      "rowId":"ThQbY3sGYlAshYoCNiD7vn"
     }
    }
   }
  },
  {
   "cell_type":"markdown",
   "source":[
    "## Normalizing data"
   ],
   "attachments":{
    
   },
   "metadata":{
    "datalore":{
     "node_id":"erAV2QPJ3aXNyJ72vy8b25",
     "type":"MD",
     "hide_input_from_viewers":false,
     "hide_output_from_viewers":false,
     "report_properties":{
      "rowId":"MGUmQ7lpKjT4dwmGFSAfZ3"
     }
    }
   }
  },
  {
   "cell_type":"markdown",
   "source":[
    "There are two columns in the dataset that talk about compensation.\n",
    "\n",
    "One is \"CompFreq\". This column shows how often a developer is paid (Yearly, Monthly, Weekly).\n",
    "\n",
    "The other is \"CompTotal\". This column talks about how much the developer is paid per Year, Month, or Week depending upon his\/her \"CompFreq\". \n",
    "\n",
    "This makes it difficult to compare the total compensation of the developers.\n",
    "\n",
    "In this section you will create a new column called 'NormalizedAnnualCompensation' which contains the 'Annual Compensation' irrespective of the 'CompFreq'.\n",
    "\n",
    "Once this column is ready, it makes comparison of salaries easy."
   ],
   "attachments":{
    
   },
   "metadata":{
    "datalore":{
     "node_id":"0QfvjYhnS81dpRAmq0M1fL",
     "type":"MD",
     "hide_input_from_viewers":false,
     "hide_output_from_viewers":false,
     "report_properties":{
      "rowId":"kaX3xq4eQ4WPWQghXR6egJ"
     }
    }
   }
  },
  {
   "cell_type":"markdown",
   "source":[
    "<hr>"
   ],
   "attachments":{
    
   },
   "metadata":{
    "datalore":{
     "node_id":"KQsGclzH5L2m2Hdy478lMp",
     "type":"MD",
     "hide_input_from_viewers":false,
     "hide_output_from_viewers":false,
     "report_properties":{
      "rowId":"xoPLZKhglB0m6EpubD9Cii"
     }
    }
   }
  },
  {
   "cell_type":"markdown",
   "source":[
    "List out the various categories in the column 'CompFreq'"
   ],
   "attachments":{
    
   },
   "metadata":{
    "datalore":{
     "node_id":"1dnP8pyrrC4DPvSw9zRdPm",
     "type":"MD",
     "hide_input_from_viewers":false,
     "hide_output_from_viewers":false,
     "report_properties":{
      "rowId":"Jo8qLYyRduC53ZrLeB1p5b"
     }
    }
   }
  },
  {
   "cell_type":"code",
   "source":[
    "# your code goes here\n",
    "df['CompFreq'].value_counts().index\n",
    "df['CompFreq'].nunique()"
   ],
   "execution_count":31,
   "outputs":[
    {
     "data":{
      "text\/plain":[
       "3"
      ]
     },
     "metadata":{
      
     },
     "output_type":"display_data"
    }
   ],
   "metadata":{
    "datalore":{
     "node_id":"xX9VwZnB39h88RDKNO9ECC",
     "type":"CODE",
     "hide_input_from_viewers":false,
     "hide_output_from_viewers":false,
     "report_properties":{
      "rowId":"HO3glSqbnmvuwPDGy9jl33"
     }
    }
   }
  },
  {
   "cell_type":"markdown",
   "source":[
    "Create a new column named 'NormalizedAnnualCompensation'. Use the hint given below if needed."
   ],
   "attachments":{
    
   },
   "metadata":{
    "datalore":{
     "node_id":"AQGm9XBzhLEeP3QaeDr1b4",
     "type":"MD",
     "hide_input_from_viewers":false,
     "hide_output_from_viewers":false,
     "report_properties":{
      "rowId":"YhaPEeouuDZpw1x8SMxIjd"
     }
    }
   }
  },
  {
   "cell_type":"markdown",
   "source":[
    "~~Double~~ click to see the **Hint**.\n",
    "\n",
    "<!--\n",
    "\n",
    "Use the below logic to arrive at the values for the column NormalizedAnnualCompensation.\n",
    "\n",
    "If the CompFreq is Yearly then use the exising value in CompTotal\n",
    "If the CompFreq is Monthly then multiply the value in CompTotal with 12 (months in an year)\n",
    "If the CompFreq is Weekly then multiply the value in CompTotal with 52 (weeks in an year)\n",
    "\n",
    "-->"
   ],
   "attachments":{
    
   },
   "metadata":{
    "datalore":{
     "node_id":"PWY8PQyVOnxjdpccTvj6rx",
     "type":"MD",
     "hide_input_from_viewers":false,
     "hide_output_from_viewers":false,
     "report_properties":{
      "rowId":"bVH4GNGF7u5wyaj2UlPMnJ"
     }
    }
   }
  },
  {
   "cell_type":"code",
   "source":[
    "# your code goes here\n",
    "anncomp = []\n",
    "def NAC():\n",
    "    for x,y in zip(df['CompFreq'], df['CompTotal']):\n",
    "        if x=='Monthly':\n",
    "            anncomp.append(y * 12)\n",
    "        elif x ==\"Weekly\":\n",
    "            anncomp.append(y * 52)\n",
    "        else:\n",
    "            anncomp.append((y))\n",
    "NAC()\n",
    "\n",
    "df['NormalisedAnnualCompensation'] = anncomp\n",
    "df[['NormalisedAnnualCompensation']]"
   ],
   "execution_count":22,
   "outputs":[
    {
     "data":{
      "text\/html":[
       "<div>\n",
       "<style scoped>\n",
       "    .dataframe tbody tr th:only-of-type {\n",
       "        vertical-align: middle;\n",
       "    }\n",
       "\n",
       "    .dataframe tbody tr th {\n",
       "        vertical-align: top;\n",
       "    }\n",
       "\n",
       "    .dataframe thead th {\n",
       "        text-align: right;\n",
       "    }\n",
       "<\/style>\n",
       "<table border=\"1\" class=\"dataframe\">\n",
       "  <thead>\n",
       "    <tr style=\"text-align: right;\">\n",
       "      <th><\/th>\n",
       "      <th>NormalisedAnnualCompensation<\/th>\n",
       "    <\/tr>\n",
       "  <\/thead>\n",
       "  <tbody>\n",
       "    <tr>\n",
       "      <th>0<\/th>\n",
       "      <td>61000.0<\/td>\n",
       "    <\/tr>\n",
       "    <tr>\n",
       "      <th>1<\/th>\n",
       "      <td>138000.0<\/td>\n",
       "    <\/tr>\n",
       "    <tr>\n",
       "      <th>2<\/th>\n",
       "      <td>90000.0<\/td>\n",
       "    <\/tr>\n",
       "    <tr>\n",
       "      <th>3<\/th>\n",
       "      <td>348000.0<\/td>\n",
       "    <\/tr>\n",
       "    <tr>\n",
       "      <th>4<\/th>\n",
       "      <td>90000.0<\/td>\n",
       "    <\/tr>\n",
       "    <tr>\n",
       "      <th>...<\/th>\n",
       "      <td>...<\/td>\n",
       "    <\/tr>\n",
       "    <tr>\n",
       "      <th>11547<\/th>\n",
       "      <td>130000.0<\/td>\n",
       "    <\/tr>\n",
       "    <tr>\n",
       "      <th>11548<\/th>\n",
       "      <td>74400.0<\/td>\n",
       "    <\/tr>\n",
       "    <tr>\n",
       "      <th>11549<\/th>\n",
       "      <td>105000.0<\/td>\n",
       "    <\/tr>\n",
       "    <tr>\n",
       "      <th>11550<\/th>\n",
       "      <td>80000.0<\/td>\n",
       "    <\/tr>\n",
       "    <tr>\n",
       "      <th>11551<\/th>\n",
       "      <td>NaN<\/td>\n",
       "    <\/tr>\n",
       "  <\/tbody>\n",
       "<\/table>\n",
       "<p>11398 rows × 1 columns<\/p>\n",
       "<\/div>"
      ]
     },
     "metadata":{
      
     },
     "output_type":"display_data"
    }
   ],
   "metadata":{
    "datalore":{
     "node_id":"zBzZVXAklK87ps6rZGC6Em",
     "type":"CODE",
     "hide_input_from_viewers":false,
     "hide_output_from_viewers":false,
     "report_properties":{
      "rowId":"Z1onNCgqLGQDDdkqoVn126"
     }
    }
   }
  },
  {
   "cell_type":"markdown",
   "source":[
    "## Authors"
   ],
   "attachments":{
    
   },
   "metadata":{
    "datalore":{
     "node_id":"1FPpyI7EnegvW40WtCWY4f",
     "type":"MD",
     "hide_input_from_viewers":false,
     "hide_output_from_viewers":false,
     "report_properties":{
      "rowId":"0SFQm0e6Ya8kISfDHCLGBr"
     }
    }
   }
  },
  {
   "cell_type":"markdown",
   "source":[
    "Ramesh Sannareddy"
   ],
   "attachments":{
    
   },
   "metadata":{
    "datalore":{
     "node_id":"SU0F4l2uUjNGUik4e0TFPs",
     "type":"MD",
     "hide_input_from_viewers":false,
     "hide_output_from_viewers":false,
     "report_properties":{
      "rowId":"Xlba8piXtG0Ndce6lq3SIg"
     }
    }
   }
  },
  {
   "cell_type":"markdown",
   "source":[
    "### Other Contributors"
   ],
   "attachments":{
    
   },
   "metadata":{
    "datalore":{
     "node_id":"wUurJA3aoOceJ42qZsEqu9",
     "type":"MD",
     "hide_input_from_viewers":false,
     "hide_output_from_viewers":false,
     "report_properties":{
      "rowId":"hGad6Ti7NoJ8O68YKql04o"
     }
    }
   }
  },
  {
   "cell_type":"markdown",
   "source":[
    "Rav Ahuja"
   ],
   "attachments":{
    
   },
   "metadata":{
    "datalore":{
     "node_id":"gQD8ZR9QMfAuuX92C3lAZd",
     "type":"MD",
     "hide_input_from_viewers":false,
     "hide_output_from_viewers":false,
     "report_properties":{
      "rowId":"9WQumyc27m4fT8D3yQuimY"
     }
    }
   }
  },
  {
   "cell_type":"markdown",
   "source":[
    "## Change Log"
   ],
   "attachments":{
    
   },
   "metadata":{
    "datalore":{
     "node_id":"cgf9DZSEBSaL2bGuBFSYrv",
     "type":"MD",
     "hide_input_from_viewers":false,
     "hide_output_from_viewers":false,
     "report_properties":{
      "rowId":"fdc4JViaj84rRFSKbxAYCd"
     }
    }
   }
  },
  {
   "cell_type":"markdown",
   "source":[
    "| Date (YYYY-MM-DD) | Version | Changed By        | Change Description                 |\n",
    "| ----------------- | ------- | ----------------- | ---------------------------------- |\n",
    "| 2020-10-17        | 0.1     | Ramesh Sannareddy | Created initial version of the lab |"
   ],
   "attachments":{
    
   },
   "metadata":{
    "datalore":{
     "node_id":"KRyEhzG7uu52Q1ahFPFIHT",
     "type":"MD",
     "hide_input_from_viewers":false,
     "hide_output_from_viewers":false,
     "report_properties":{
      "rowId":"eXMxJJNp2ofIf72fIUAZxq"
     }
    }
   }
  },
  {
   "cell_type":"markdown",
   "source":[
    " Copyright © 2020 IBM Corporation. This notebook and its source code are released under the terms of the [MIT License](https:\/\/cognitiveclass.ai\/mit-license?utm_medium=Exinfluencer&utm_source=Exinfluencer&utm_content=000026UJ&utm_term=10006555&utm_id=NA-SkillsNetwork-Channel-SkillsNetworkCoursesIBMDA0321ENSkillsNetwork928-2022-01-01&cm_mmc=Email_Newsletter-_-Developer_Ed%2BTech-_-WW_WW-_-SkillsNetwork-Courses-IBM-DA0321EN-SkillsNetwork-21426264&cm_mmca1=000026UJ&cm_mmca2=10006555&cm_mmca3=M12345678&cvosrc=email.Newsletter.M12345678&cvo_campaign=000026UJ)."
   ],
   "attachments":{
    
   },
   "metadata":{
    "datalore":{
     "node_id":"vNoMN8IJ8NeCofgkwcTbBY",
     "type":"MD",
     "hide_input_from_viewers":false,
     "hide_output_from_viewers":false,
     "report_properties":{
      "rowId":"emKnPFez3cPDUJXpicJ7dC"
     }
    }
   }
  }
 ],
 "metadata":{
  "kernelspec":{
   "display_name":"Python",
   "language":"python",
   "name":"python"
  },
  "datalore":{
   "computation_mode":"JUPYTER",
   "package_manager":"pip",
   "base_environment":"default",
   "packages":[
    
   ],
   "report_row_ids":[
    "dV37pqMWw37iks10Wy3HGh",
    "HPXN990ALBr4X3qIiChHUd",
    "DZ0pQpRP6b7bQFmBKjae1R",
    "zsuPI0ckeewVS7NegoNnnt",
    "VjvJYhQhLDOgyOF1toycL3",
    "gjwY1cVgH40Q9W1beIfIWs",
    "1AoTHpohRRfL8Cv7nSE2um",
    "WDDly9UkSPX007RNu57DEf",
    "vpnso1pxqLPJEayFOFzNAd",
    "7MkMHXg4kBuKGb1kxyEwPN",
    "docXnlzYCxic95x6E0UqAd",
    "rk5oUbiQ23JHOmuir9lsJV",
    "W3x43zOq5yb6XmgJnXoD1k",
    "bGttZwdyjm6ga3Md5Ux0Qk",
    "eE5Q63KaCYb17uoqf8aJA2",
    "n1w4JaMZ1ZTodJ0Bs5gcE7",
    "xgGDhO1F5qNGxpHCU4BMtl",
    "lTiyf6vtxLq3t7MmfD8Cb1",
    "BDIlPWq8vvBeYNqZDh9R5s",
    "LToIGrLRk0f92uYEfxD4Th",
    "r8YDaWCCK5sEVow7T9cCC4",
    "sMFGs34Z0qbnMrs082tlvD",
    "52uqmV5T9LwPrD5OaW7AOq",
    "1PG2gWpWiGAknZxj5Zwfiu",
    "PNZbKhUQMQunIqaop1t4Uc",
    "rf79n45kvLtfiioR7SZ5XB",
    "CfY1s5ieWIqs929LcaUC8R",
    "CwLHdUsPetMw8s6nacKKVx",
    "eWMWBGsTizXvBZyxTLQ6Fe",
    "krTy6LHMQ6pHhcpN86fs2k",
    "Y8EJLxkIXuIkhWZujb6gKy",
    "p5i67dDzujgHt6tlbS3g2s",
    "XFRSzSluH0R979mMqY8HR1",
    "kTAufRK8TvZQ7Hg97n1Dky",
    "FZD9uD8NDYXjFsO0RLD8jv",
    "qMf3KKgQTN7CAsHpymQXet",
    "bMuUsBjCfKwJJPcUJPQM8z",
    "ThQbY3sGYlAshYoCNiD7vn",
    "MGUmQ7lpKjT4dwmGFSAfZ3",
    "kaX3xq4eQ4WPWQghXR6egJ",
    "xoPLZKhglB0m6EpubD9Cii",
    "Jo8qLYyRduC53ZrLeB1p5b",
    "HO3glSqbnmvuwPDGy9jl33",
    "YhaPEeouuDZpw1x8SMxIjd",
    "bVH4GNGF7u5wyaj2UlPMnJ",
    "Z1onNCgqLGQDDdkqoVn126",
    "0SFQm0e6Ya8kISfDHCLGBr",
    "Xlba8piXtG0Ndce6lq3SIg",
    "hGad6Ti7NoJ8O68YKql04o",
    "9WQumyc27m4fT8D3yQuimY",
    "fdc4JViaj84rRFSKbxAYCd",
    "eXMxJJNp2ofIf72fIUAZxq",
    "emKnPFez3cPDUJXpicJ7dC"
   ],
   "version":2
  }
 },
 "nbformat":4,
 "nbformat_minor":4
}